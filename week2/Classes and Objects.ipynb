{
 "cells": [
  {
   "cell_type": "code",
   "execution_count": 28,
   "metadata": {
    "collapsed": false
   },
   "outputs": [],
   "source": [
    "class Microwave:\n",
    "    cooking = False\n",
    "    time = 0\n",
    "    power = 100\n",
    "    food = None\n",
    "    \n",
    "    def __init__(self, color=\"steel\", size=10, wattage=1800):\n",
    "        self.color = color\n",
    "        self.size = size\n",
    "        self.wattage = wattage\n",
    "        \n",
    "    \n",
    "    def start(self, food, time, power):\n",
    "        if self.cooking:\n",
    "            raise ValueError(\"Microwave already in use\")\n",
    "            \n",
    "        self.cooking = True\n",
    "        self.time = time\n",
    "        self.power = power\n",
    "        self.food = food\n",
    "    \n",
    "    def end(self):\n",
    "        if not self.cooking:\n",
    "            raise ValueError(\"Microwave already stopped\")\n",
    "        \n",
    "        self.cooking = False\n",
    "        self.time = 0\n",
    "        self.power = 100\n",
    "        self.food = None\n",
    "    \n",
    "    def __str__(self):\n",
    "        return \"Wattage: {} Size:{} Color:{} Is Cooking:{}\".format(self.wattage, self.size, self.color, self.cooking)"
   ]
  },
  {
   "cell_type": "code",
   "execution_count": 11,
   "metadata": {
    "collapsed": false
   },
   "outputs": [
    {
     "data": {
      "text/plain": [
       "'Wattage: 1800 Size:10 Color:steel Is Cooking:False'"
      ]
     },
     "execution_count": 11,
     "metadata": {},
     "output_type": "execute_result"
    }
   ],
   "source": [
    "my_microwave = Microwave()\n",
    "str(my_microwave)"
   ]
  },
  {
   "cell_type": "code",
   "execution_count": 17,
   "metadata": {
    "collapsed": true
   },
   "outputs": [],
   "source": [
    "#This is not good\n",
    "my_microwave.size\n",
    "my_microwave.color = \"Red\"\n",
    "my_microwave.wattage = 9000"
   ]
  },
  {
   "cell_type": "code",
   "execution_count": 25,
   "metadata": {
    "collapsed": true
   },
   "outputs": [],
   "source": [
    "#This is more good\n",
    "my_custom_microwave = Microwave(\"Red\", 15, 2000)"
   ]
  },
  {
   "cell_type": "code",
   "execution_count": 21,
   "metadata": {
    "collapsed": false
   },
   "outputs": [
    {
     "data": {
      "text/plain": [
       "'Wattage: 2000 Size:15 Color:Red Is Cooking:False'"
      ]
     },
     "execution_count": 21,
     "metadata": {},
     "output_type": "execute_result"
    }
   ],
   "source": [
    "str(my_custom_microwave)"
   ]
  },
  {
   "cell_type": "code",
   "execution_count": 26,
   "metadata": {
    "collapsed": true
   },
   "outputs": [],
   "source": [
    "my_custom_microwave.start(\"Steak\", 60, 80)"
   ]
  },
  {
   "cell_type": "code",
   "execution_count": 27,
   "metadata": {
    "collapsed": false
   },
   "outputs": [
    {
     "ename": "ValueError",
     "evalue": "Microwave already in use",
     "output_type": "error",
     "traceback": [
      "\u001b[0;31m---------------------------------------------------------------------------\u001b[0m",
      "\u001b[0;31mValueError\u001b[0m                                Traceback (most recent call last)",
      "\u001b[0;32m<ipython-input-27-a2938016f9c8>\u001b[0m in \u001b[0;36m<module>\u001b[0;34m()\u001b[0m\n\u001b[0;32m----> 1\u001b[0;31m \u001b[0mmy_custom_microwave\u001b[0m\u001b[0;34m.\u001b[0m\u001b[0mstart\u001b[0m\u001b[0;34m(\u001b[0m\u001b[0;34m\"Hamburger\"\u001b[0m\u001b[0;34m,\u001b[0m \u001b[0;36m30\u001b[0m\u001b[0;34m,\u001b[0m \u001b[0;36m100\u001b[0m\u001b[0;34m)\u001b[0m\u001b[0;34m\u001b[0m\u001b[0m\n\u001b[0m",
      "\u001b[0;32m<ipython-input-24-11c914c2e761>\u001b[0m in \u001b[0;36mstart\u001b[0;34m(self, food, time, power)\u001b[0m\n\u001b[1;32m     13\u001b[0m     \u001b[0;32mdef\u001b[0m \u001b[0mstart\u001b[0m\u001b[0;34m(\u001b[0m\u001b[0mself\u001b[0m\u001b[0;34m,\u001b[0m \u001b[0mfood\u001b[0m\u001b[0;34m,\u001b[0m \u001b[0mtime\u001b[0m\u001b[0;34m,\u001b[0m \u001b[0mpower\u001b[0m\u001b[0;34m)\u001b[0m\u001b[0;34m:\u001b[0m\u001b[0;34m\u001b[0m\u001b[0m\n\u001b[1;32m     14\u001b[0m         \u001b[0;32mif\u001b[0m \u001b[0mself\u001b[0m\u001b[0;34m.\u001b[0m\u001b[0mcooking\u001b[0m \u001b[0;34m==\u001b[0m \u001b[0;32mTrue\u001b[0m\u001b[0;34m:\u001b[0m\u001b[0;34m\u001b[0m\u001b[0m\n\u001b[0;32m---> 15\u001b[0;31m             \u001b[0;32mraise\u001b[0m \u001b[0mValueError\u001b[0m\u001b[0;34m(\u001b[0m\u001b[0;34m\"Microwave already in use\"\u001b[0m\u001b[0;34m)\u001b[0m\u001b[0;34m\u001b[0m\u001b[0m\n\u001b[0m\u001b[1;32m     16\u001b[0m \u001b[0;34m\u001b[0m\u001b[0m\n\u001b[1;32m     17\u001b[0m         \u001b[0mself\u001b[0m\u001b[0;34m.\u001b[0m\u001b[0mcooking\u001b[0m \u001b[0;34m=\u001b[0m \u001b[0;32mTrue\u001b[0m\u001b[0;34m\u001b[0m\u001b[0m\n",
      "\u001b[0;31mValueError\u001b[0m: Microwave already in use"
     ]
    }
   ],
   "source": [
    "my_custom_microwave.start(\"Hamburger\", 30, 100)"
   ]
  },
  {
   "cell_type": "code",
   "execution_count": 66,
   "metadata": {
    "collapsed": false
   },
   "outputs": [],
   "source": [
    "class Card:\n",
    "    def __init__(self, suit, rank):\n",
    "        self.suit = suit\n",
    "        self.rank = rank\n",
    "    \n",
    "    def __repr__(self):\n",
    "        return \"{1} of {0}\".format(self.suit, self.rank)"
   ]
  },
  {
   "cell_type": "code",
   "execution_count": 67,
   "metadata": {
    "collapsed": true
   },
   "outputs": [],
   "source": [
    "import random\n",
    "class Deck:\n",
    "    def __init__(self):\n",
    "        self.cards = []\n",
    "        for suit in ['Hearts', 'Clubs', 'Spades', 'Diamonds']:\n",
    "            for rank in ['A','2','3','4','5','6','7','8','9','10','J','Q','K']:\n",
    "                self.cards.append(Card(suit, rank))\n",
    "                \n",
    "    def shuffle(self):\n",
    "        random.shuffle(self.cards)\n",
    "    "
   ]
  },
  {
   "cell_type": "code",
   "execution_count": 33,
   "metadata": {
    "collapsed": true
   },
   "outputs": [],
   "source": [
    "deck = Deck()"
   ]
  },
  {
   "cell_type": "code",
   "execution_count": 84,
   "metadata": {
    "collapsed": true
   },
   "outputs": [],
   "source": [
    "class BridgeDeck(Deck):\n",
    "    def __init__(self):\n",
    "        super().__init__()\n",
    "        self.cards = [card for card in self.cards if card.rank in ['A','10','J','Q','K']]\n",
    "        \n",
    "    def shuffle(self):\n",
    "        print(\"Hello\")"
   ]
  },
  {
   "cell_type": "code",
   "execution_count": 85,
   "metadata": {
    "collapsed": false
   },
   "outputs": [],
   "source": [
    "b_deck = BridgeDeck()"
   ]
  },
  {
   "cell_type": "code",
   "execution_count": 64,
   "metadata": {
    "collapsed": false
   },
   "outputs": [
    {
     "data": {
      "text/plain": [
       "20"
      ]
     },
     "execution_count": 64,
     "metadata": {},
     "output_type": "execute_result"
    }
   ],
   "source": [
    "len(b_deck.cards)"
   ]
  },
  {
   "cell_type": "code",
   "execution_count": 78,
   "metadata": {
    "collapsed": false
   },
   "outputs": [
    {
     "data": {
      "text/plain": [
       "[A of Hearts,\n",
       " 10 of Hearts,\n",
       " J of Hearts,\n",
       " Q of Hearts,\n",
       " K of Hearts,\n",
       " A of Clubs,\n",
       " 10 of Clubs,\n",
       " J of Clubs,\n",
       " Q of Clubs,\n",
       " K of Clubs,\n",
       " A of Spades,\n",
       " 10 of Spades,\n",
       " J of Spades,\n",
       " Q of Spades,\n",
       " K of Spades,\n",
       " A of Diamonds,\n",
       " 10 of Diamonds,\n",
       " J of Diamonds,\n",
       " Q of Diamonds,\n",
       " K of Diamonds]"
      ]
     },
     "execution_count": 78,
     "metadata": {},
     "output_type": "execute_result"
    }
   ],
   "source": [
    "b_deck.cards"
   ]
  },
  {
   "cell_type": "code",
   "execution_count": 86,
   "metadata": {
    "collapsed": false
   },
   "outputs": [
    {
     "name": "stdout",
     "output_type": "stream",
     "text": [
      "Hello\n"
     ]
    }
   ],
   "source": [
    "b_deck.shuffle()"
   ]
  },
  {
   "cell_type": "code",
   "execution_count": 80,
   "metadata": {
    "collapsed": false
   },
   "outputs": [
    {
     "data": {
      "text/plain": [
       "[J of Spades,\n",
       " Q of Spades,\n",
       " A of Clubs,\n",
       " Q of Hearts,\n",
       " A of Diamonds,\n",
       " 10 of Hearts,\n",
       " J of Hearts,\n",
       " J of Clubs,\n",
       " A of Spades,\n",
       " 10 of Clubs,\n",
       " A of Hearts,\n",
       " Q of Clubs,\n",
       " 10 of Diamonds,\n",
       " K of Clubs,\n",
       " 10 of Spades,\n",
       " J of Diamonds,\n",
       " K of Diamonds,\n",
       " Q of Diamonds,\n",
       " K of Hearts,\n",
       " K of Spades]"
      ]
     },
     "execution_count": 80,
     "metadata": {},
     "output_type": "execute_result"
    }
   ],
   "source": [
    "b_deck.cards"
   ]
  },
  {
   "cell_type": "code",
   "execution_count": null,
   "metadata": {
    "collapsed": true
   },
   "outputs": [],
   "source": []
  }
 ],
 "metadata": {
  "kernelspec": {
   "display_name": "Python 3",
   "language": "python",
   "name": "python3"
  },
  "language_info": {
   "codemirror_mode": {
    "name": "ipython",
    "version": 3
   },
   "file_extension": ".py",
   "mimetype": "text/x-python",
   "name": "python",
   "nbconvert_exporter": "python",
   "pygments_lexer": "ipython3",
   "version": "3.4.3"
  }
 },
 "nbformat": 4,
 "nbformat_minor": 0
}
