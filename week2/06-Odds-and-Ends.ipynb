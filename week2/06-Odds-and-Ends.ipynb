{
 "cells": [
  {
   "cell_type": "markdown",
   "metadata": {},
   "source": [
    "# Proper naming of things\n",
    "\n",
    "There are two ways to write names in Python:\n",
    "\n",
    "* CamelCase\n",
    "* snake_case\n",
    "\n",
    "Class names are in CamelCase. CamelCase has no underscores ever.\n",
    "\n",
    "Functions, methods, modules, file names, and variables are in snake_case. snake_case has no capital letters ever.\n",
    "\n",
    "## Private attributes and methods\n",
    "\n",
    "Private attributes and methods should start with one and only one underscore, and no trailing underscores.\n",
    "\n",
    "```py\n",
    "class Deck:\n",
    "    def __init__(self):\n",
    "        self._cards = [] # GOOD\n",
    "```"
   ]
  },
  {
   "cell_type": "markdown",
   "metadata": {},
   "source": [
    "# __init__.py\n",
    "\n",
    "What is `__init__.py`?\n",
    "\n",
    "Files named `__init__.py` are used to mark directories on disk as Python package directories. These files are normally empty, but can be used to set up variables, or hold convenience functions.\n",
    "\n",
    "Put one of these in every Python package directory."
   ]
  },
  {
   "cell_type": "markdown",
   "metadata": {},
   "source": [
    "# Python Packages\n",
    "\n",
    "[Read this article](http://blog.habnab.it/blog/2013/07/21/python-packages-and-you/)."
   ]
  },
  {
   "cell_type": "markdown",
   "metadata": {},
   "source": [
    "# Decorators\n",
    "\n",
    "Decorators are a way to add behavior to a function. They replace a function with a new \"wrapped\" version of that function."
   ]
  },
  {
   "cell_type": "code",
   "execution_count": null,
   "metadata": {
    "collapsed": false
   },
   "outputs": [],
   "source": [
    "import functools\n",
    "\n",
    "def debug(fn):\n",
    "    @functools.wraps(fn)\n",
    "    def wrapper(*args, **kwargs):\n",
    "        print(\"Calling\", fn.__name__)\n",
    "        print(\"args:\", args)\n",
    "        print(\"kwargs:\", kwargs)\n",
    "        retval = fn(*args, **kwargs)\n",
    "        print(\"retval:\", retval)\n",
    "        return retval\n",
    "    return wrapper\n",
    "\n",
    "def factorial(n):\n",
    "    if n == 1:\n",
    "        return 1\n",
    "    else:\n",
    "        return n * factorial(n - 1)"
   ]
  },
  {
   "cell_type": "code",
   "execution_count": null,
   "metadata": {
    "collapsed": false
   },
   "outputs": [],
   "source": [
    "factorial(5)"
   ]
  },
  {
   "cell_type": "code",
   "execution_count": null,
   "metadata": {
    "collapsed": false
   },
   "outputs": [],
   "source": [
    "@debug\n",
    "def factorial2(n):\n",
    "    if n == 1:\n",
    "        return 1\n",
    "    else:\n",
    "        return n * factorial2(n - 1)"
   ]
  },
  {
   "cell_type": "code",
   "execution_count": null,
   "metadata": {
    "collapsed": false
   },
   "outputs": [],
   "source": [
    "factorial2(5)"
   ]
  },
  {
   "cell_type": "markdown",
   "metadata": {},
   "source": [
    "Let's look at a decorator that comes with Python. This is the `@property` decorator. It allows you to create methods that act like normal object properties."
   ]
  },
  {
   "cell_type": "code",
   "execution_count": null,
   "metadata": {
    "collapsed": false
   },
   "outputs": [],
   "source": [
    "class Card:\n",
    "    def __init__(self, rank, suit):\n",
    "        self.rank = rank\n",
    "        self.suit = suit\n",
    "        \n",
    "    def value(self):\n",
    "        if self.rank in [\"K\", \"Q\", \"J\"]:\n",
    "            return 10\n",
    "        elif self.rank == \"A\":\n",
    "            return 1\n",
    "        else:\n",
    "            return int(self.rank)"
   ]
  },
  {
   "cell_type": "code",
   "execution_count": null,
   "metadata": {
    "collapsed": false
   },
   "outputs": [],
   "source": [
    "nine = Card(\"9\", \"Hearts\")\n",
    "print(nine.rank)\n",
    "print(nine.suit)\n",
    "print(nine.value())"
   ]
  },
  {
   "cell_type": "code",
   "execution_count": null,
   "metadata": {
    "collapsed": false
   },
   "outputs": [],
   "source": [
    "class Card2:\n",
    "    def __init__(self, rank, suit):\n",
    "        self.rank = rank\n",
    "        self.suit = suit\n",
    "        \n",
    "    @property    \n",
    "    def value(self):\n",
    "        if self.rank in [\"K\", \"Q\", \"J\"]:\n",
    "            return 10\n",
    "        elif self.rank == \"A\":\n",
    "            return 1\n",
    "        else:\n",
    "            return int(self.rank)"
   ]
  },
  {
   "cell_type": "code",
   "execution_count": null,
   "metadata": {
    "collapsed": false
   },
   "outputs": [],
   "source": [
    "eight = Card2(\"8\", \"Diamonds\")\n",
    "eight.value"
   ]
  },
  {
   "cell_type": "code",
   "execution_count": null,
   "metadata": {
    "collapsed": false
   },
   "outputs": [],
   "source": [
    "eight.value = 9"
   ]
  },
  {
   "cell_type": "markdown",
   "metadata": {},
   "source": [
    "# kwargs"
   ]
  },
  {
   "cell_type": "code",
   "execution_count": null,
   "metadata": {
    "collapsed": false
   },
   "outputs": [],
   "source": [
    "def print_table(**kwargs):\n",
    "    \"\"\"Prints a set of keyword arguments as a table.\"\"\"\n",
    "    key_len = max([len(key) for key in kwargs.keys()])\n",
    "    for key, value in kwargs.items():\n",
    "        print(key.ljust(key_len), value)\n",
    "    "
   ]
  },
  {
   "cell_type": "code",
   "execution_count": null,
   "metadata": {
    "collapsed": false
   },
   "outputs": [],
   "source": [
    "print_table(clinton=\"A\", kelly=\"A\", allison=\"B\", jorgenheimer=\"C\")"
   ]
  }
 ],
 "metadata": {
  "kernelspec": {
   "display_name": "Python 3",
   "language": "python",
   "name": "python3"
  },
  "language_info": {
   "codemirror_mode": {
    "name": "ipython",
    "version": 3
   },
   "file_extension": ".py",
   "mimetype": "text/x-python",
   "name": "python",
   "nbconvert_exporter": "python",
   "pygments_lexer": "ipython3",
   "version": "3.4.3"
  }
 },
 "nbformat": 4,
 "nbformat_minor": 0
}
