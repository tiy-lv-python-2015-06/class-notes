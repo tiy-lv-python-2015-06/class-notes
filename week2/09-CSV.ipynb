{
 "cells": [
  {
   "cell_type": "markdown",
   "metadata": {},
   "source": [
    "#Comma Seperated Values (CSV)"
   ]
  },
  {
   "cell_type": "markdown",
   "metadata": {},
   "source": [
    "The csv module works with the open file you have seen before. "
   ]
  },
  {
   "cell_type": "code",
   "execution_count": 1,
   "metadata": {
    "collapsed": true
   },
   "outputs": [],
   "source": [
    "import csv"
   ]
  },
  {
   "cell_type": "markdown",
   "metadata": {},
   "source": [
    "You can read in the rows of the file with the csv reader which outputs a list"
   ]
  },
  {
   "cell_type": "code",
   "execution_count": 3,
   "metadata": {
    "collapsed": false
   },
   "outputs": [
    {
     "name": "stdout",
     "output_type": "stream",
     "text": [
      "['id', 'student', 'grade']\n",
      "---\n",
      "['1', 'Hunter', 'A']\n",
      "['2', 'Grey', 'B']\n",
      "['3', 'Elliot', 'C']\n",
      "['4', 'Kerry', 'B']\n",
      "['5', 'Marion', 'D']\n"
     ]
    }
   ],
   "source": [
    "with open(\"students.csv\") as file:\n",
    "    reader = csv.reader(file)\n",
    "    headers = next(reader)\n",
    "    print(headers)\n",
    "    print(\"---\")\n",
    "    for row in reader:\n",
    "        print(row)"
   ]
  },
  {
   "cell_type": "markdown",
   "metadata": {},
   "source": [
    "You can also use the ```DictReader``` which uses the first row of the file as a header then creates a dictionary out of each other row"
   ]
  },
  {
   "cell_type": "code",
   "execution_count": 4,
   "metadata": {
    "collapsed": false
   },
   "outputs": [
    {
     "name": "stdout",
     "output_type": "stream",
     "text": [
      "{'grade': 'A', 'student': 'Hunter', 'id': '1'}\n",
      "{'grade': 'B', 'student': 'Grey', 'id': '2'}\n",
      "{'grade': 'C', 'student': 'Elliot', 'id': '3'}\n",
      "{'grade': 'B', 'student': 'Kerry', 'id': '4'}\n",
      "{'grade': 'D', 'student': 'Marion', 'id': '5'}\n"
     ]
    }
   ],
   "source": [
    "with open(\"students.csv\") as file:\n",
    "    reader = csv.DictReader(file)\n",
    "    for row in reader:\n",
    "        print(row)"
   ]
  },
  {
   "cell_type": "code",
   "execution_count": 6,
   "metadata": {
    "collapsed": false
   },
   "outputs": [
    {
     "name": "stdout",
     "output_type": "stream",
     "text": [
      "{'student_id': '1', 'topic_id': '2'}\n",
      "{'student_id': '1', 'topic_id': '3'}\n",
      "{'student_id': '2', 'topic_id': '4'}\n",
      "{'student_id': '2', 'topic_id': '1'}\n",
      "{'student_id': '2', 'topic_id': '5'}\n",
      "{'student_id': '3', 'topic_id': '2'}\n",
      "{'student_id': '3', 'topic_id': '4'}\n"
     ]
    }
   ],
   "source": [
    "with open(\"student_topics.csv\") as file:\n",
    "    reader = csv.DictReader(file, delimiter=\"|\")\n",
    "    for row in reader:\n",
    "        print(row)"
   ]
  },
  {
   "cell_type": "markdown",
   "metadata": {},
   "source": [
    "Using a simple list comprehension you can get a list of each student in a dictionary"
   ]
  },
  {
   "cell_type": "code",
   "execution_count": 16,
   "metadata": {
    "collapsed": false
   },
   "outputs": [],
   "source": [
    "with open(\"student_topics.csv\") as file:\n",
    "    reader = csv.DictReader(file, delimiter=\"|\")\n",
    "    student_topics = [row for row in reader]"
   ]
  },
  {
   "cell_type": "code",
   "execution_count": 17,
   "metadata": {
    "collapsed": false,
    "scrolled": true
   },
   "outputs": [
    {
     "data": {
      "text/plain": [
       "[{'student_id': '1', 'topic_id': '2'},\n",
       " {'student_id': '1', 'topic_id': '3'},\n",
       " {'student_id': '2', 'topic_id': '4'},\n",
       " {'student_id': '2', 'topic_id': '1'},\n",
       " {'student_id': '2', 'topic_id': '5'},\n",
       " {'student_id': '3', 'topic_id': '2'},\n",
       " {'student_id': '3', 'topic_id': '4'}]"
      ]
     },
     "execution_count": 17,
     "metadata": {},
     "output_type": "execute_result"
    }
   ],
   "source": [
    "student_topics"
   ]
  },
  {
   "cell_type": "markdown",
   "metadata": {},
   "source": [
    "Using a dictionary comprehension you can create a dictionary with the ```student_id``` as the key and the student dictionary as the value"
   ]
  },
  {
   "cell_type": "code",
   "execution_count": 11,
   "metadata": {
    "collapsed": true
   },
   "outputs": [],
   "source": [
    "with open(\"students.csv\") as file:\n",
    "    reader = csv.DictReader(file)\n",
    "    students = {row[\"id\"]: row for row in reader}"
   ]
  },
  {
   "cell_type": "code",
   "execution_count": 12,
   "metadata": {
    "collapsed": false,
    "scrolled": true
   },
   "outputs": [
    {
     "data": {
      "text/plain": [
       "{'1': {'grade': 'A', 'id': '1', 'student': 'Hunter'},\n",
       " '2': {'grade': 'B', 'id': '2', 'student': 'Grey'},\n",
       " '3': {'grade': 'C', 'id': '3', 'student': 'Elliot'},\n",
       " '4': {'grade': 'B', 'id': '4', 'student': 'Kerry'},\n",
       " '5': {'grade': 'D', 'id': '5', 'student': 'Marion'}}"
      ]
     },
     "execution_count": 12,
     "metadata": {},
     "output_type": "execute_result"
    }
   ],
   "source": [
    "students"
   ]
  },
  {
   "cell_type": "markdown",
   "metadata": {},
   "source": [
    "A quick list comprehension to get all topics for a given student 1"
   ]
  },
  {
   "cell_type": "code",
   "execution_count": 19,
   "metadata": {
    "collapsed": false
   },
   "outputs": [
    {
     "data": {
      "text/plain": [
       "['2', '3']"
      ]
     },
     "execution_count": 19,
     "metadata": {},
     "output_type": "execute_result"
    }
   ],
   "source": [
    "[st[\"topic_id\"] for st in student_topics if st[\"student_id\"] == '1']"
   ]
  },
  {
   "cell_type": "code",
   "execution_count": null,
   "metadata": {
    "collapsed": true
   },
   "outputs": [],
   "source": []
  }
 ],
 "metadata": {
  "kernelspec": {
   "display_name": "Python 3",
   "language": "python",
   "name": "python3"
  },
  "language_info": {
   "codemirror_mode": {
    "name": "ipython",
    "version": 3
   },
   "file_extension": ".py",
   "mimetype": "text/x-python",
   "name": "python",
   "nbconvert_exporter": "python",
   "pygments_lexer": "ipython3",
   "version": "3.4.3"
  }
 },
 "nbformat": 4,
 "nbformat_minor": 0
}
