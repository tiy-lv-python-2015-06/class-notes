{
 "cells": [
  {
   "cell_type": "markdown",
   "metadata": {},
   "source": [
    "#Magic Methods"
   ]
  },
  {
   "cell_type": "markdown",
   "metadata": {},
   "source": [
    "Python has a host of magic methods that allow you to make your objects easier to use."
   ]
  },
  {
   "cell_type": "markdown",
   "metadata": {},
   "source": [
    "##Object Lifecycle\n",
    "There are 3 major methods on a class for its creation and destruction\n",
    "* ```__new__```: Actually creates the object instance and calls ```__init__```\n",
    "* ```__init__```: Most commonly used to pass in variables\n",
    "* ```__del__```: Part of the deconstructor to clean up object before destruction"
   ]
  },
  {
   "cell_type": "code",
   "execution_count": 66,
   "metadata": {
    "collapsed": true
   },
   "outputs": [],
   "source": [
    "class Card:\n",
    "    def __init__(self, suit, rank):\n",
    "        self.suit = suit\n",
    "        self.rank = rank\n",
    "    \n",
    "    @property\n",
    "    def value(self):\n",
    "        if rank in ['A', 'K', 'J', 'Q']:\n",
    "            return 10\n",
    "        else:\n",
    "            return rank\n",
    "        \n",
    "class Deck:\n",
    "    def __init__(self):\n",
    "        suits = ['Diamond', 'Spade', 'Heart', 'Club']\n",
    "        ranks = [1,2,3,4,5,6,7,8,9,10,'J','Q','K','A']\n",
    "        \n",
    "        self.cards = [Card(suit, rank) for rank in ranks for suit in suits]\n",
    "        \n",
    "    def __del__(self):\n",
    "        self.cards = None\n",
    "        "
   ]
  },
  {
   "cell_type": "markdown",
   "metadata": {},
   "source": [
    "## Str and Repr\n",
    "These two functions serve two different purposes.\n",
    "* ```__str__```: Pretty print.  This is called whenever anything needs to convert to a string\n",
    "* ```__repr__```: machine readable. This is intended to reproduce the object."
   ]
  },
  {
   "cell_type": "code",
   "execution_count": 67,
   "metadata": {
    "collapsed": true
   },
   "outputs": [],
   "source": [
    "class Card:\n",
    "    def __init__(self, suit, rank):\n",
    "        self.suit = suit\n",
    "        self.rank = rank\n",
    "    \n",
    "    @property\n",
    "    def value(self):\n",
    "        if self.rank in ['A', 'K', 'J', 'Q']:\n",
    "            return 10\n",
    "        else:\n",
    "            return self.rank\n",
    "        \n",
    "    def __str__(self):\n",
    "        return \"{} of {}s\".format(self.rank, self.suit)\n",
    "    \n",
    "    def __repr__(self):\n",
    "        return \"Card('{}','{}')\".format(self.suit, self.rank)"
   ]
  },
  {
   "cell_type": "code",
   "execution_count": 68,
   "metadata": {
    "collapsed": false
   },
   "outputs": [
    {
     "name": "stdout",
     "output_type": "stream",
     "text": [
      "A of Spades\n"
     ]
    },
    {
     "data": {
      "text/plain": [
       "Card('Spade','A')"
      ]
     },
     "execution_count": 68,
     "metadata": {},
     "output_type": "execute_result"
    }
   ],
   "source": [
    "card = Card(\"Spade\", \"A\")\n",
    "print(card)\n",
    "card"
   ]
  },
  {
   "cell_type": "code",
   "execution_count": 69,
   "metadata": {
    "collapsed": false
   },
   "outputs": [
    {
     "data": {
      "text/plain": [
       "__main__.Card"
      ]
     },
     "execution_count": 69,
     "metadata": {},
     "output_type": "execute_result"
    }
   ],
   "source": [
    "#Why should this scare you?\n",
    "card_eval = eval(card.__repr__())\n",
    "type(card_eval)"
   ]
  },
  {
   "cell_type": "markdown",
   "metadata": {},
   "source": [
    "##Comparison Methods\n",
    "These methods control all comparison such as ==, <=, != etc.  Very useful when classes need to be compared but are not simple.\n",
    "\n",
    "Examples:\n",
    "* ```__cmp__```: This no longer works in 3.X\n",
    "* ```__eq__```: equals\n",
    "* ```__ne__```: not equals\n",
    "* ```__le__```: less than or equal\n",
    "* ```__lt__```: less than\n",
    "* ```__gt__```: greater than\n",
    "* ```__ge__```: greater than or equal"
   ]
  },
  {
   "cell_type": "code",
   "execution_count": 72,
   "metadata": {
    "collapsed": true
   },
   "outputs": [],
   "source": [
    "class Card:\n",
    "    suit_order = ['Club', 'Diamond', 'Heart', 'Spade']\n",
    "    rank_order = [1,2,3,4,5,6,7,8,9,10,'J','Q','K','A']\n",
    "    \n",
    "    def __init__(self, suit, rank):\n",
    "        self.suit = suit\n",
    "        self.rank = rank\n",
    "    \n",
    "    @property\n",
    "    def value(self):\n",
    "        if self.rank in ['A', 'K', 'J', 'Q']:\n",
    "            return 10\n",
    "        else:\n",
    "            return self.rank\n",
    "        \n",
    "    def __str__(self):\n",
    "        return \"{} of {}s\".format(self.rank, self.suit)\n",
    "    \n",
    "    def __repr__(self):\n",
    "        return self.__str__()\n",
    "    \n",
    "    def __lt__(self, other):\n",
    "        return self.cmp(other) < 0\n",
    "    \n",
    "    def cmp(self, other):\n",
    "        this_rank_index = self.rank_order.index(self.rank)\n",
    "        other_rank_index = self.rank_order.index(other.rank)\n",
    "        \n",
    "        if this_rank_index == other_rank_index:\n",
    "            this_suit_index = self.suit_order.index(self.suit)\n",
    "            other_suit_index = self.suit_order.index(other.suit)\n",
    "\n",
    "            if this_suit_index == other_suit_index:\n",
    "                return 0\n",
    "            else:\n",
    "                return this_suit_index - other_suit_index\n",
    "        else:\n",
    "            return this_rank_index - other_rank_index"
   ]
  },
  {
   "cell_type": "code",
   "execution_count": 73,
   "metadata": {
    "collapsed": false
   },
   "outputs": [
    {
     "data": {
      "text/plain": [
       "[A of Spades, A of Diamonds, 10 of Hearts]"
      ]
     },
     "execution_count": 73,
     "metadata": {},
     "output_type": "execute_result"
    }
   ],
   "source": [
    "cards = [Card('Spade','A'), Card('Diamond', 'A'), Card('Heart', 10)]\n",
    "cards"
   ]
  },
  {
   "cell_type": "code",
   "execution_count": 74,
   "metadata": {
    "collapsed": false
   },
   "outputs": [
    {
     "data": {
      "text/plain": [
       "[10 of Hearts, A of Diamonds, A of Spades]"
      ]
     },
     "execution_count": 74,
     "metadata": {},
     "output_type": "execute_result"
    }
   ],
   "source": [
    "cards.sort()\n",
    "cards"
   ]
  },
  {
   "cell_type": "markdown",
   "metadata": {},
   "source": [
    "##Math with objects\n",
    "Classes can have their own math as well to allow for addition type of operations\n",
    "* ```__add__```\n",
    "* ```__mul__```\n",
    "* ```__sub__```\n",
    "* ```__mod__```\n",
    "* etc"
   ]
  },
  {
   "cell_type": "code",
   "execution_count": 77,
   "metadata": {
    "collapsed": false
   },
   "outputs": [],
   "source": [
    "class Drink:\n",
    "    def __init__(self, ingredients):\n",
    "        \"\"\" Ingredients should be a list of items\"\"\"\n",
    "        self.ingredients = ingredients\n",
    "        \n",
    "    def __add__(self, other):\n",
    "        return Drink(self.ingredients + other.ingredients)"
   ]
  },
  {
   "cell_type": "code",
   "execution_count": 85,
   "metadata": {
    "collapsed": false
   },
   "outputs": [
    {
     "ename": "TypeError",
     "evalue": "unsupported operand type(s) for +: 'Drink' and 'str'",
     "output_type": "error",
     "traceback": [
      "\u001b[0;31m---------------------------------------------------------------------------\u001b[0m",
      "\u001b[0;31mTypeError\u001b[0m                                 Traceback (most recent call last)",
      "\u001b[0;32m<ipython-input-85-6d5525c24ed5>\u001b[0m in \u001b[0;36m<module>\u001b[0;34m()\u001b[0m\n\u001b[1;32m      1\u001b[0m \u001b[0mmamosa\u001b[0m \u001b[0;34m=\u001b[0m \u001b[0mDrink\u001b[0m\u001b[0;34m(\u001b[0m\u001b[0;34m[\u001b[0m\u001b[0;34m'Orange Juice'\u001b[0m\u001b[0;34m,\u001b[0m \u001b[0;34m'Champagne'\u001b[0m\u001b[0;34m]\u001b[0m\u001b[0;34m)\u001b[0m\u001b[0;34m\u001b[0m\u001b[0m\n\u001b[1;32m      2\u001b[0m \u001b[0mfuzzy_navel\u001b[0m \u001b[0;34m=\u001b[0m \u001b[0mDrink\u001b[0m\u001b[0;34m(\u001b[0m\u001b[0;34m[\u001b[0m\u001b[0;34m'Peach Schnapps'\u001b[0m\u001b[0;34m,\u001b[0m \u001b[0;34m'Orange Juice'\u001b[0m\u001b[0;34m]\u001b[0m\u001b[0;34m)\u001b[0m\u001b[0;34m\u001b[0m\u001b[0m\n\u001b[0;32m----> 3\u001b[0;31m \u001b[0mmixed\u001b[0m \u001b[0;34m=\u001b[0m \u001b[0mmamosa\u001b[0m \u001b[0;34m+\u001b[0m \u001b[0;34m\"Hello\"\u001b[0m\u001b[0;34m\u001b[0m\u001b[0m\n\u001b[0m",
      "\u001b[0;31mTypeError\u001b[0m: unsupported operand type(s) for +: 'Drink' and 'str'"
     ]
    }
   ],
   "source": [
    "mamosa = Drink(['Orange Juice', 'Champagne'])\n",
    "fuzzy_navel = Drink(['Peach Schnapps', 'Orange Juice'])\n",
    "mixed = mamosa + \"Hello\""
   ]
  },
  {
   "cell_type": "code",
   "execution_count": 79,
   "metadata": {
    "collapsed": false
   },
   "outputs": [],
   "source": [
    "yuck = mamosa + fuzzy_navel"
   ]
  },
  {
   "cell_type": "code",
   "execution_count": 80,
   "metadata": {
    "collapsed": false
   },
   "outputs": [
    {
     "data": {
      "text/plain": [
       "['Orange Juice', 'Champagne', 'Peach Schnapps', 'Orange Juice']"
      ]
     },
     "execution_count": 80,
     "metadata": {},
     "output_type": "execute_result"
    }
   ],
   "source": [
    "yuck.ingredients"
   ]
  },
  {
   "cell_type": "markdown",
   "metadata": {},
   "source": [
    "You can even implement an add with assignment"
   ]
  },
  {
   "cell_type": "code",
   "execution_count": 81,
   "metadata": {
    "collapsed": true
   },
   "outputs": [],
   "source": [
    "class Drink:\n",
    "    def __init__(self, ingredients):\n",
    "        \"\"\" Ingredients should be a list of items\"\"\"\n",
    "        self.ingredients = ingredients\n",
    "        \n",
    "    def __iadd__(self, other):\n",
    "        self.ingredients.extend(other.ingredients)\n",
    "        return self"
   ]
  },
  {
   "cell_type": "code",
   "execution_count": 82,
   "metadata": {
    "collapsed": true
   },
   "outputs": [],
   "source": [
    "mamosa = Drink(['Orange Juice', 'Champagne'])\n",
    "fuzzy_navel = Drink(['Peach Schnapps', 'Orange Juice'])"
   ]
  },
  {
   "cell_type": "code",
   "execution_count": 83,
   "metadata": {
    "collapsed": true
   },
   "outputs": [],
   "source": [
    "mamosa += fuzzy_navel"
   ]
  },
  {
   "cell_type": "code",
   "execution_count": 84,
   "metadata": {
    "collapsed": false
   },
   "outputs": [
    {
     "data": {
      "text/plain": [
       "['Orange Juice', 'Champagne', 'Peach Schnapps', 'Orange Juice']"
      ]
     },
     "execution_count": 84,
     "metadata": {},
     "output_type": "execute_result"
    }
   ],
   "source": [
    "mamosa.ingredients"
   ]
  },
  {
   "cell_type": "markdown",
   "metadata": {},
   "source": [
    "#Type conversion\n",
    "You can also allow an object to be converted to other types.\n",
    "* ```__int__```\n",
    "* ```__float__```\n",
    "* etc"
   ]
  },
  {
   "cell_type": "code",
   "execution_count": 86,
   "metadata": {
    "collapsed": true
   },
   "outputs": [],
   "source": [
    "class Card:\n",
    "    def __init__(self, suit, rank):\n",
    "        self.suit = suit\n",
    "        self.rank = rank\n",
    "    \n",
    "    @property\n",
    "    def value(self):\n",
    "        if self.rank in ['A', 'K', 'J', 'Q']:\n",
    "            return 10\n",
    "        else:\n",
    "            return self.rank\n",
    "\n",
    "    def __int__(self):\n",
    "        return self.value\n",
    "        \n",
    "    def __str__(self):\n",
    "        return \"{} of {}s\".format(self.rank, self.suit)\n",
    "    \n",
    "    def __repr__(self):\n",
    "        return self.__str__()"
   ]
  },
  {
   "cell_type": "code",
   "execution_count": 87,
   "metadata": {
    "collapsed": false
   },
   "outputs": [
    {
     "data": {
      "text/plain": [
       "10"
      ]
     },
     "execution_count": 87,
     "metadata": {},
     "output_type": "execute_result"
    }
   ],
   "source": [
    "card = Card('Spade', 'A')\n",
    "card_int = int(card)\n",
    "card_int"
   ]
  },
  {
   "cell_type": "markdown",
   "metadata": {},
   "source": [
    "#Making your object callable\n",
    "You can make an object act like a function if you want"
   ]
  },
  {
   "cell_type": "code",
   "execution_count": 90,
   "metadata": {
    "collapsed": true
   },
   "outputs": [],
   "source": [
    "class CallMe:\n",
    "    stuck = \"In your head\"\n",
    "    \n",
    "    def __call__(self):\n",
    "        print(\"Maybe\")"
   ]
  },
  {
   "cell_type": "code",
   "execution_count": 91,
   "metadata": {
    "collapsed": false
   },
   "outputs": [
    {
     "name": "stdout",
     "output_type": "stream",
     "text": [
      "Maybe\n"
     ]
    }
   ],
   "source": [
    "call_me = CallMe()\n",
    "call_me()"
   ]
  },
  {
   "cell_type": "code",
   "execution_count": 92,
   "metadata": {
    "collapsed": false
   },
   "outputs": [
    {
     "data": {
      "text/plain": [
       "'In your head'"
      ]
     },
     "execution_count": 92,
     "metadata": {},
     "output_type": "execute_result"
    }
   ],
   "source": [
    "call_me.stuck"
   ]
  },
  {
   "cell_type": "markdown",
   "metadata": {},
   "source": [
    "#Context Managers\n",
    "This allows people to use the ```with``` keyword on your objects to automatically clean up"
   ]
  },
  {
   "cell_type": "code",
   "execution_count": null,
   "metadata": {
    "collapsed": true
   },
   "outputs": [],
   "source": [
    "class Cleaner:\n",
    "    message = \"Hello\"\n",
    "    \n",
    "    def __enter__(self):\n",
    "        return self.message\n",
    "    \n",
    "    def __exit__(self, exception_type, exception_val, trace):\n",
    "        print(\"Cleaning up\")\n",
    "        message = None"
   ]
  },
  {
   "cell_type": "code",
   "execution_count": 93,
   "metadata": {
    "collapsed": false
   },
   "outputs": [
    {
     "data": {
      "text/plain": [
       "'Hello'"
      ]
     },
     "execution_count": 93,
     "metadata": {},
     "output_type": "execute_result"
    }
   ],
   "source": [
    "cleaner = Cleaner()\n",
    "cleaner.message"
   ]
  },
  {
   "cell_type": "code",
   "execution_count": 94,
   "metadata": {
    "collapsed": false
   },
   "outputs": [
    {
     "name": "stdout",
     "output_type": "stream",
     "text": [
      "Hello\n",
      "Cleaning up\n"
     ]
    }
   ],
   "source": [
    "with Cleaner() as message:\n",
    "    print(message)"
   ]
  },
  {
   "cell_type": "code",
   "execution_count": null,
   "metadata": {
    "collapsed": true
   },
   "outputs": [],
   "source": []
  }
 ],
 "metadata": {
  "kernelspec": {
   "display_name": "Python 3",
   "language": "python",
   "name": "python3"
  },
  "language_info": {
   "codemirror_mode": {
    "name": "ipython",
    "version": 3
   },
   "file_extension": ".py",
   "mimetype": "text/x-python",
   "name": "python",
   "nbconvert_exporter": "python",
   "pygments_lexer": "ipython3",
   "version": "3.4.3"
  }
 },
 "nbformat": 4,
 "nbformat_minor": 0
}
