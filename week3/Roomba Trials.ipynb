{
 "cells": [
  {
   "cell_type": "code",
   "execution_count": 3,
   "metadata": {
    "collapsed": true
   },
   "outputs": [],
   "source": [
    "from roomba import Roomba, Room, Simulation\n",
    "import statistics as st\n",
    "import random\n",
    "import matplotlib.pyplot as plt"
   ]
  },
  {
   "cell_type": "code",
   "execution_count": 9,
   "metadata": {
    "collapsed": true
   },
   "outputs": [],
   "source": [
    "roomba = Roomba(0,0)\n",
    "room = Room(10, 10)\n",
    "sim = Simulation(room, roomba)"
   ]
  },
  {
   "cell_type": "code",
   "execution_count": 10,
   "metadata": {
    "collapsed": false
   },
   "outputs": [
    {
     "data": {
      "text/plain": [
       "{0.5: 94, 0.9: 329, 1.0: 655}"
      ]
     },
     "execution_count": 10,
     "metadata": {},
     "output_type": "execute_result"
    }
   ],
   "source": [
    "sim.run()"
   ]
  },
  {
   "cell_type": "code",
   "execution_count": 11,
   "metadata": {
    "collapsed": true
   },
   "outputs": [],
   "source": [
    "sim1000results = []\n",
    "for i in range(1000):\n",
    "    roomba = Roomba(0,0)\n",
    "    room = Room(10, 10)\n",
    "    sim = Simulation(room, roomba)\n",
    "    sim1000results.append(sim.run())"
   ]
  },
  {
   "cell_type": "code",
   "execution_count": 13,
   "metadata": {
    "collapsed": false
   },
   "outputs": [
    {
     "data": {
      "text/plain": [
       "286.325"
      ]
     },
     "execution_count": 13,
     "metadata": {},
     "output_type": "execute_result"
    }
   ],
   "source": [
    "st.mean([r[0.9] for r in sim1000results])"
   ]
  },
  {
   "cell_type": "code",
   "execution_count": 14,
   "metadata": {
    "collapsed": false
   },
   "outputs": [
    {
     "data": {
      "text/plain": [
       "661.777"
      ]
     },
     "execution_count": 14,
     "metadata": {},
     "output_type": "execute_result"
    }
   ],
   "source": [
    "st.mean([r[1.0] for r in sim1000results])"
   ]
  },
  {
   "cell_type": "code",
   "execution_count": 15,
   "metadata": {
    "collapsed": true
   },
   "outputs": [],
   "source": [
    "class SideTurningRoomba(Roomba):\n",
    "    def collide(self):\n",
    "        if random.random() > 0.5:\n",
    "            self.turn(random.randint(30, 120))\n",
    "        else:\n",
    "            self.turn(random.randint(240, 330))"
   ]
  },
  {
   "cell_type": "code",
   "execution_count": 17,
   "metadata": {
    "collapsed": false
   },
   "outputs": [],
   "source": [
    "def n_trials(n, roomba_type=Roomba):\n",
    "    results = []\n",
    "    for _ in range(n):\n",
    "        roomba = roomba_type(0,0)\n",
    "        room = Room(10, 10)\n",
    "        sim = Simulation(room, roomba)\n",
    "        results.append(sim.run())\n",
    "    return (st.mean(r[0.5] for r in results),\n",
    "            st.mean(r[0.9] for r in results),\n",
    "            st.mean(r[1.0] for r in results)\n",
    "           )"
   ]
  },
  {
   "cell_type": "code",
   "execution_count": 18,
   "metadata": {
    "collapsed": false
   },
   "outputs": [
    {
     "data": {
      "text/plain": [
       "(85.74, 281.45, 652.91)"
      ]
     },
     "execution_count": 18,
     "metadata": {},
     "output_type": "execute_result"
    }
   ],
   "source": [
    "n_trials(100, Roomba)"
   ]
  },
  {
   "cell_type": "code",
   "execution_count": 19,
   "metadata": {
    "collapsed": false
   },
   "outputs": [
    {
     "data": {
      "text/plain": [
       "(96.13, 335.44, 831.44)"
      ]
     },
     "execution_count": 19,
     "metadata": {},
     "output_type": "execute_result"
    }
   ],
   "source": [
    "n_trials(100, SideTurningRoomba)"
   ]
  },
  {
   "cell_type": "code",
   "execution_count": 20,
   "metadata": {
    "collapsed": true
   },
   "outputs": [],
   "source": [
    "class BackTurningRoomba(Roomba):\n",
    "    def collide(self):\n",
    "        self.turn(random.randint(120, 240))"
   ]
  },
  {
   "cell_type": "code",
   "execution_count": 21,
   "metadata": {
    "collapsed": false
   },
   "outputs": [
    {
     "data": {
      "text/plain": [
       "(89.52, 306.4, 721.19)"
      ]
     },
     "execution_count": 21,
     "metadata": {},
     "output_type": "execute_result"
    }
   ],
   "source": [
    "n_trials(100, BackTurningRoomba)"
   ]
  },
  {
   "cell_type": "code",
   "execution_count": 22,
   "metadata": {
    "collapsed": true
   },
   "outputs": [],
   "source": [
    "%matplotlib inline"
   ]
  },
  {
   "cell_type": "code",
   "execution_count": 23,
   "metadata": {
    "collapsed": true
   },
   "outputs": [],
   "source": [
    "roomba_trials = n_trials(200, Roomba)\n",
    "side_trials = n_trials(200, SideTurningRoomba)\n",
    "back_trials = n_trials(200, BackTurningRoomba)"
   ]
  },
  {
   "cell_type": "code",
   "execution_count": 24,
   "metadata": {
    "collapsed": false
   },
   "outputs": [
    {
     "data": {
      "image/png": "[encoded data removed]",
      "text/plain": [
       "<matplotlib.figure.Figure at 0x112abb3c8>"
      ]
     },
     "metadata": {},
     "output_type": "display_data"
    }
   ],
   "source": [
    "plt.plot([0, 0.5, 0.9, 1.0], [0] + list(roomba_trials), label=\"Roomba\")\n",
    "plt.plot([0, 0.5, 0.9, 1.0], [0] + list(side_trials), label=\"SideTurner\")\n",
    "plt.plot([0, 0.5, 0.9, 1.0], [0] + list(back_trials), label=\"BackTurner\")\n",
    "plt.legend()\n",
    "plt.show()"
   ]
  },
  {
   "cell_type": "code",
   "execution_count": 25,
   "metadata": {
    "collapsed": true
   },
   "outputs": [],
   "source": [
    "class SpeedyRoomba(Roomba):\n",
    "    def __init__(self, x=0, y=0, angle=0):\n",
    "        super().__init__(x, y, angle)\n",
    "        self.speed = 1.5"
   ]
  },
  {
   "cell_type": "code",
   "execution_count": 28,
   "metadata": {
    "collapsed": false
   },
   "outputs": [
    {
     "data": {
      "text/plain": [
       "(89.93, 304.035, 755.05)"
      ]
     },
     "execution_count": 28,
     "metadata": {},
     "output_type": "execute_result"
    }
   ],
   "source": [
    "speed_trials = n_trials(200, SpeedyRoomba)\n",
    "speed_trials"
   ]
  },
  {
   "cell_type": "code",
   "execution_count": 27,
   "metadata": {
    "collapsed": false
   },
   "outputs": [
    {
     "data": {
      "image/png": "[encoded data removed]",
      "text/plain": [
       "<matplotlib.figure.Figure at 0x112c0d278>"
      ]
     },
     "metadata": {},
     "output_type": "display_data"
    }
   ],
   "source": [
    "plt.plot([0, 0.5, 0.9, 1.0], [0] + list(roomba_trials), label=\"Roomba\")\n",
    "plt.plot([0, 0.5, 0.9, 1.0], [0] + list(side_trials), label=\"SideTurner\")\n",
    "plt.plot([0, 0.5, 0.9, 1.0], [0] + list(back_trials), label=\"BackTurner\")\n",
    "plt.plot([0, 0.5, 0.9, 1.0], [0] + list(speed_trials), label=\"Speedy\")\n",
    "plt.legend()\n",
    "plt.show()"
   ]
  },
  {
   "cell_type": "code",
   "execution_count": 29,
   "metadata": {
    "collapsed": true
   },
   "outputs": [],
   "source": [
    "class SuperSpeedyRoomba(Roomba):\n",
    "    def __init__(self, x=0, y=0, angle=0):\n",
    "        super().__init__(x, y, angle)\n",
    "        self.speed = 5.0"
   ]
  },
  {
   "cell_type": "code",
   "execution_count": 30,
   "metadata": {
    "collapsed": false
   },
   "outputs": [
    {
     "data": {
      "text/plain": [
       "(173.94, 610.96, 1524.985)"
      ]
     },
     "execution_count": 30,
     "metadata": {},
     "output_type": "execute_result"
    }
   ],
   "source": [
    "super_speed_trials = n_trials(200, SuperSpeedyRoomba)\n",
    "super_speed_trials"
   ]
  },
  {
   "cell_type": "code",
   "execution_count": null,
   "metadata": {
    "collapsed": true
   },
   "outputs": [],
   "source": []
  }
 ],
 "metadata": {
  "kernelspec": {
   "display_name": "Python 3",
   "language": "python",
   "name": "python3"
  },
  "language_info": {
   "codemirror_mode": {
    "name": "ipython",
    "version": 3
   },
   "file_extension": ".py",
   "mimetype": "text/x-python",
   "name": "python",
   "nbconvert_exporter": "python",
   "pygments_lexer": "ipython3",
   "version": "3.4.3"
  }
 },
 "nbformat": 4,
 "nbformat_minor": 0
}
