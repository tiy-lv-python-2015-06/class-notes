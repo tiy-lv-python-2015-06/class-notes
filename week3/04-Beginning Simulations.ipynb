{
 "cells": [
  {
   "cell_type": "code",
   "execution_count": 1,
   "metadata": {
    "collapsed": true
   },
   "outputs": [],
   "source": [
    "import random\n",
    "import matplotlib.pyplot as plt\n",
    "import statistics as st\n",
    "import math"
   ]
  },
  {
   "cell_type": "code",
   "execution_count": 2,
   "metadata": {
    "collapsed": true
   },
   "outputs": [],
   "source": [
    "%matplotlib inline"
   ]
  },
  {
   "cell_type": "markdown",
   "metadata": {},
   "source": [
    "Let's simulate some die rolls. We're going to see the chance of rolling 12 or higher on n dice.\n",
    "\n",
    "It's important to note here that anything we simulate with random numbers could be calculated. Simulation is very helpful, though, when the amount of variables make calculation difficult."
   ]
  },
  {
   "cell_type": "markdown",
   "metadata": {},
   "source": [
    "#Dice Roll"
   ]
  },
  {
   "cell_type": "code",
   "execution_count": 3,
   "metadata": {
    "collapsed": true
   },
   "outputs": [],
   "source": [
    "def roll_die():\n",
    "    return random.randint(1,6)\n",
    "\n",
    "def roll_n_dice(n=1):\n",
    "    return sum(roll_die() for _ in range(n))"
   ]
  },
  {
   "cell_type": "code",
   "execution_count": 6,
   "metadata": {
    "collapsed": false,
    "scrolled": true
   },
   "outputs": [
    {
     "data": {
      "text/plain": [
       "15"
      ]
     },
     "execution_count": 6,
     "metadata": {},
     "output_type": "execute_result"
    }
   ],
   "source": [
    "roll_n_dice(3)"
   ]
  },
  {
   "cell_type": "code",
   "execution_count": 10,
   "metadata": {
    "collapsed": true
   },
   "outputs": [],
   "source": [
    "def trial_roll(target, num_dice, num_trials=1000):\n",
    "    rolls = [roll_n_dice(num_dice) for _ in range(num_trials)]\n",
    "    successes = len([roll for roll in rolls if roll >= target])\n",
    "    return successes / num_trials"
   ]
  },
  {
   "cell_type": "code",
   "execution_count": 13,
   "metadata": {
    "collapsed": false
   },
   "outputs": [
    {
     "name": "stdout",
     "output_type": "stream",
     "text": [
      "Chance on 2 dice: 0.0292\n",
      "Chance on 3 dice: 0.3758\n",
      "Chance on 4 dice: 0.7617\n",
      "Chance on 5 dice: 0.9443\n"
     ]
    }
   ],
   "source": [
    "print(\"Chance on 2 dice:\", trial_roll(12, 2))\n",
    "print(\"Chance on 3 dice:\", trial_roll(12, 3))\n",
    "print(\"Chance on 4 dice:\", trial_roll(12, 4))\n",
    "print(\"Chance on 5 dice:\", trial_roll(12, 5))\n"
   ]
  },
  {
   "cell_type": "code",
   "execution_count": 14,
   "metadata": {
    "collapsed": false
   },
   "outputs": [
    {
     "name": "stdout",
     "output_type": "stream",
     "text": [
      "Chance on 2 dice: 0.1\n",
      "Chance on 3 dice: 0.5\n",
      "Chance on 4 dice: 0.8\n",
      "Chance on 5 dice: 1.0\n"
     ]
    }
   ],
   "source": [
    "print(\"Chance on 2 dice:\", trial_roll(12, 2, 10))\n",
    "print(\"Chance on 3 dice:\", trial_roll(12, 3, 10))\n",
    "print(\"Chance on 4 dice:\", trial_roll(12, 4, 10))\n",
    "print(\"Chance on 5 dice:\", trial_roll(12, 5, 10))\n"
   ]
  },
  {
   "cell_type": "code",
   "execution_count": 15,
   "metadata": {
    "collapsed": false
   },
   "outputs": [
    {
     "name": "stdout",
     "output_type": "stream",
     "text": [
      "Chance on 2 dice: 0.02761\n",
      "Chance on 3 dice: 0.37591\n",
      "Chance on 4 dice: 0.76287\n",
      "Chance on 5 dice: 0.94137\n"
     ]
    }
   ],
   "source": [
    "print(\"Chance on 2 dice:\", trial_roll(12, 2, 100000))\n",
    "print(\"Chance on 3 dice:\", trial_roll(12, 3, 100000))\n",
    "print(\"Chance on 4 dice:\", trial_roll(12, 4, 100000))\n",
    "print(\"Chance on 5 dice:\", trial_roll(12, 5, 100000))"
   ]
  },
  {
   "cell_type": "markdown",
   "metadata": {},
   "source": [
    "#ATM Simulation\n",
    "\n",
    "Every Friday, you go to the ATM to deposit checks. There's a lot of people who do this and so the line can be long -- an average of 3 people, but as many as 6 or as few as 0. Each person in front of you in line takes about 2 minutes, but they sometimes take as long as 5 minutes and never take less than 1 minute. You need to know how long of a wait to expect.\n",
    "\n",
    "I'm using a normal distribution for the number of customers and their wait times, but am putting a lower limit on each. The number of customers is a normal distribution with μ of 3 and σ of 1, but always an integer and never less than 0, and the time for each customer is a normal distribution with μ of 2 minutes and σ of 1 minute, but never less than 1 minute.\n"
   ]
  },
  {
   "cell_type": "code",
   "execution_count": 16,
   "metadata": {
    "collapsed": true
   },
   "outputs": [],
   "source": [
    "num_customers = lambda: max(0, int(random.gauss(3,1)))\n",
    "time_at_atm = lambda: max(1, random.gauss(2,1))"
   ]
  },
  {
   "cell_type": "code",
   "execution_count": 17,
   "metadata": {
    "collapsed": true
   },
   "outputs": [],
   "source": [
    "def sample_atm_time():\n",
    "    return sum(time_at_atm() for _ in range(num_customers()))"
   ]
  },
  {
   "cell_type": "code",
   "execution_count": 23,
   "metadata": {
    "collapsed": false
   },
   "outputs": [
    {
     "data": {
      "text/plain": [
       "3.465138234243061"
      ]
     },
     "execution_count": 23,
     "metadata": {},
     "output_type": "execute_result"
    }
   ],
   "source": [
    "sample_atm_time()"
   ]
  },
  {
   "cell_type": "code",
   "execution_count": 28,
   "metadata": {
    "collapsed": true
   },
   "outputs": [],
   "source": [
    "def atm_trials(num_trials=10000):\n",
    "    return [sample_atm_time() for _ in range(num_trials)]"
   ]
  },
  {
   "cell_type": "code",
   "execution_count": 29,
   "metadata": {
    "collapsed": true
   },
   "outputs": [],
   "source": [
    "trials = atm_trials()"
   ]
  },
  {
   "cell_type": "code",
   "execution_count": 30,
   "metadata": {
    "collapsed": false
   },
   "outputs": [
    {
     "data": {
      "text/plain": [
       "5.251032685038573"
      ]
     },
     "execution_count": 30,
     "metadata": {},
     "output_type": "execute_result"
    }
   ],
   "source": [
    "st.mean(trials)"
   ]
  },
  {
   "cell_type": "code",
   "execution_count": 31,
   "metadata": {
    "collapsed": false
   },
   "outputs": [
    {
     "data": {
      "text/plain": [
       "2.5778935958097695"
      ]
     },
     "execution_count": 31,
     "metadata": {},
     "output_type": "execute_result"
    }
   ],
   "source": [
    "st.pstdev(trials)"
   ]
  },
  {
   "cell_type": "code",
   "execution_count": 32,
   "metadata": {
    "collapsed": false
   },
   "outputs": [
    {
     "data": {
      "image/png": "[encoded data removed]",
      "text/plain": [
       "<matplotlib.figure.Figure at 0x10e6c3898>"
      ]
     },
     "metadata": {},
     "output_type": "display_data"
    }
   ],
   "source": [
    "plt.hist(trials, bins=30)\n",
    "plt.xlabel(\"minutes\")\n",
    "plt.ylabel(\"frequency\")\n",
    "plt.title(\"Wait Time at ATM\")\n",
    "plt.show()"
   ]
  },
  {
   "cell_type": "code",
   "execution_count": null,
   "metadata": {
    "collapsed": true
   },
   "outputs": [],
   "source": []
  }
 ],
 "metadata": {
  "kernelspec": {
   "display_name": "Python 3",
   "language": "python",
   "name": "python3"
  },
  "language_info": {
   "codemirror_mode": {
    "name": "ipython",
    "version": 3
   },
   "file_extension": ".py",
   "mimetype": "text/x-python",
   "name": "python",
   "nbconvert_exporter": "python",
   "pygments_lexer": "ipython3",
   "version": "3.4.3"
  }
 },
 "nbformat": 4,
 "nbformat_minor": 0
}
