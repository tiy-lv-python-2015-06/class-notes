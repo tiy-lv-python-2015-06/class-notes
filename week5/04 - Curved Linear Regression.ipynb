{
 "cells": [
  {
   "cell_type": "code",
   "execution_count": 1,
   "metadata": {
    "collapsed": true
   },
   "outputs": [],
   "source": [
    "%matplotlib inline\n",
    "import pandas as pd\n",
    "import matplotlib.pyplot as plt\n",
    "import numpy as np\n",
    "import seaborn as sns\n",
    "from sklearn import linear_model\n",
    "sns.set_style(\"whitegrid\")"
   ]
  },
  {
   "cell_type": "code",
   "execution_count": 4,
   "metadata": {
    "collapsed": false
   },
   "outputs": [
    {
     "name": "stdout",
     "output_type": "stream",
     "text": [
      "<class 'pandas.core.frame.DataFrame'>\n",
      "Int64Index: 11385 entries, 0 to 11384\n",
      "Columns: 413 entries, tucaseid to t500107\n",
      "dtypes: float64(1), int64(412)\n",
      "memory usage: 36.0 MB\n"
     ]
    }
   ],
   "source": [
    "summary = pd.read_csv(\"atussum_2013.dat\")\n",
    "summary.info()\n",
    "\n",
    "def linear_least_squares(df, fn):\n",
    "    values = df.index.map(fn)\n",
    "    diffs = df.mean_minutes - values\n",
    "    diffs_squared = diffs ** 2\n",
    "    return diffs_squared.sum() / (2 * len(diffs)) "
   ]
  },
  {
   "cell_type": "code",
   "execution_count": 5,
   "metadata": {
    "collapsed": false
   },
   "outputs": [
    {
     "name": "stdout",
     "output_type": "stream",
     "text": [
      "<class 'pandas.core.frame.DataFrame'>\n",
      "Int64Index: 11385 entries, 0 to 11384\n",
      "Data columns (total 5 columns):\n",
      "weight              11385 non-null float64\n",
      "age                 11385 non-null int64\n",
      "sex                 11385 non-null int64\n",
      "minutes             11385 non-null int64\n",
      "weighted_minutes    11385 non-null float64\n",
      "dtypes: float64(2), int64(3)\n",
      "memory usage: 533.7 KB\n"
     ]
    }
   ],
   "source": [
    "sleep_data = summary[['TUFINLWGT', 'TEAGE', 'TESEX', 't010101']]\n",
    "sleep_data = sleep_data.rename(columns={\"TUFINLWGT\": \"weight\", \"TEAGE\": \"age\", \"TESEX\": \"sex\", \"t010101\": \"minutes\"})\n",
    "sleep_data['weighted_minutes'] = sleep_data.weight * sleep_data.minutes\n",
    "sleep_data.info()"
   ]
  },
  {
   "cell_type": "code",
   "execution_count": 6,
   "metadata": {
    "collapsed": false
   },
   "outputs": [
    {
     "data": {
      "text/html": [
       "<div>\n",
       "<table border=\"1\" class=\"dataframe\">\n",
       "  <thead>\n",
       "    <tr style=\"text-align: right;\">\n",
       "      <th></th>\n",
       "      <th>weight</th>\n",
       "      <th>sex</th>\n",
       "      <th>minutes</th>\n",
       "      <th>weighted_minutes</th>\n",
       "    </tr>\n",
       "    <tr>\n",
       "      <th>age</th>\n",
       "      <th></th>\n",
       "      <th></th>\n",
       "      <th></th>\n",
       "      <th></th>\n",
       "    </tr>\n",
       "  </thead>\n",
       "  <tbody>\n",
       "    <tr>\n",
       "      <th>15</th>\n",
       "      <td>1.168895e+09</td>\n",
       "      <td>159</td>\n",
       "      <td>62992</td>\n",
       "      <td>6.645155e+11</td>\n",
       "    </tr>\n",
       "    <tr>\n",
       "      <th>16</th>\n",
       "      <td>1.807565e+09</td>\n",
       "      <td>243</td>\n",
       "      <td>96196</td>\n",
       "      <td>1.013404e+12</td>\n",
       "    </tr>\n",
       "    <tr>\n",
       "      <th>17</th>\n",
       "      <td>1.929189e+09</td>\n",
       "      <td>246</td>\n",
       "      <td>96861</td>\n",
       "      <td>1.094304e+12</td>\n",
       "    </tr>\n",
       "    <tr>\n",
       "      <th>18</th>\n",
       "      <td>1.419704e+09</td>\n",
       "      <td>165</td>\n",
       "      <td>64722</td>\n",
       "      <td>8.498931e+11</td>\n",
       "    </tr>\n",
       "    <tr>\n",
       "      <th>19</th>\n",
       "      <td>1.307960e+09</td>\n",
       "      <td>130</td>\n",
       "      <td>50557</td>\n",
       "      <td>7.508169e+11</td>\n",
       "    </tr>\n",
       "  </tbody>\n",
       "</table>\n",
       "</div>"
      ],
      "text/plain": [
       "           weight  sex  minutes  weighted_minutes\n",
       "age                                              \n",
       "15   1.168895e+09  159    62992      6.645155e+11\n",
       "16   1.807565e+09  243    96196      1.013404e+12\n",
       "17   1.929189e+09  246    96861      1.094304e+12\n",
       "18   1.419704e+09  165    64722      8.498931e+11\n",
       "19   1.307960e+09  130    50557      7.508169e+11"
      ]
     },
     "execution_count": 6,
     "metadata": {},
     "output_type": "execute_result"
    }
   ],
   "source": [
    "sleep_by_age = sleep_data.groupby(\"age\").sum()\n",
    "sleep_by_age.head()"
   ]
  },
  {
   "cell_type": "code",
   "execution_count": 7,
   "metadata": {
    "collapsed": false
   },
   "outputs": [
    {
     "data": {
      "text/html": [
       "<div>\n",
       "<table border=\"1\" class=\"dataframe\">\n",
       "  <thead>\n",
       "    <tr style=\"text-align: right;\">\n",
       "      <th></th>\n",
       "      <th>weight</th>\n",
       "      <th>sex</th>\n",
       "      <th>minutes</th>\n",
       "      <th>weighted_minutes</th>\n",
       "      <th>mean_minutes</th>\n",
       "    </tr>\n",
       "    <tr>\n",
       "      <th>age</th>\n",
       "      <th></th>\n",
       "      <th></th>\n",
       "      <th></th>\n",
       "      <th></th>\n",
       "      <th></th>\n",
       "    </tr>\n",
       "  </thead>\n",
       "  <tbody>\n",
       "    <tr>\n",
       "      <th>15</th>\n",
       "      <td>1.168895e+09</td>\n",
       "      <td>159</td>\n",
       "      <td>62992</td>\n",
       "      <td>6.645155e+11</td>\n",
       "      <td>568.498993</td>\n",
       "    </tr>\n",
       "    <tr>\n",
       "      <th>16</th>\n",
       "      <td>1.807565e+09</td>\n",
       "      <td>243</td>\n",
       "      <td>96196</td>\n",
       "      <td>1.013404e+12</td>\n",
       "      <td>560.646005</td>\n",
       "    </tr>\n",
       "    <tr>\n",
       "      <th>17</th>\n",
       "      <td>1.929189e+09</td>\n",
       "      <td>246</td>\n",
       "      <td>96861</td>\n",
       "      <td>1.094304e+12</td>\n",
       "      <td>567.235373</td>\n",
       "    </tr>\n",
       "    <tr>\n",
       "      <th>18</th>\n",
       "      <td>1.419704e+09</td>\n",
       "      <td>165</td>\n",
       "      <td>64722</td>\n",
       "      <td>8.498931e+11</td>\n",
       "      <td>598.641088</td>\n",
       "    </tr>\n",
       "    <tr>\n",
       "      <th>19</th>\n",
       "      <td>1.307960e+09</td>\n",
       "      <td>130</td>\n",
       "      <td>50557</td>\n",
       "      <td>7.508169e+11</td>\n",
       "      <td>574.036484</td>\n",
       "    </tr>\n",
       "  </tbody>\n",
       "</table>\n",
       "</div>"
      ],
      "text/plain": [
       "           weight  sex  minutes  weighted_minutes  mean_minutes\n",
       "age                                                            \n",
       "15   1.168895e+09  159    62992      6.645155e+11    568.498993\n",
       "16   1.807565e+09  243    96196      1.013404e+12    560.646005\n",
       "17   1.929189e+09  246    96861      1.094304e+12    567.235373\n",
       "18   1.419704e+09  165    64722      8.498931e+11    598.641088\n",
       "19   1.307960e+09  130    50557      7.508169e+11    574.036484"
      ]
     },
     "execution_count": 7,
     "metadata": {},
     "output_type": "execute_result"
    }
   ],
   "source": [
    "sleep_by_age['mean_minutes'] = sleep_by_age.weighted_minutes / sleep_by_age.weight\n",
    "sleep_by_age.head()"
   ]
  },
  {
   "cell_type": "markdown",
   "metadata": {},
   "source": [
    "Grab the age 37 and lets see how much sleep they get"
   ]
  },
  {
   "cell_type": "code",
   "execution_count": 14,
   "metadata": {
    "collapsed": false
   },
   "outputs": [
    {
     "data": {
      "text/plain": [
       "8.152801822258235"
      ]
     },
     "execution_count": 14,
     "metadata": {},
     "output_type": "execute_result"
    }
   ],
   "source": [
    "sleep_by_age.loc[37].mean_minutes/60"
   ]
  },
  {
   "cell_type": "code",
   "execution_count": 15,
   "metadata": {
    "collapsed": false
   },
   "outputs": [
    {
     "data": {
      "image/png": "[encoded data removed]",
      "text/plain": [
       "<matplotlib.figure.Figure at 0x110cb0940>"
      ]
     },
     "metadata": {},
     "output_type": "display_data"
    }
   ],
   "source": [
    "plt.scatter(sleep_by_age.index, sleep_by_age.mean_minutes)\n",
    "plt.show()"
   ]
  },
  {
   "cell_type": "markdown",
   "metadata": {},
   "source": [
    "#### Let's create a linear regression model"
   ]
  },
  {
   "cell_type": "code",
   "execution_count": 16,
   "metadata": {
    "collapsed": false
   },
   "outputs": [
    {
     "name": "stdout",
     "output_type": "stream",
     "text": [
      "[-0.3727603] 538.764180347\n"
     ]
    }
   ],
   "source": [
    "regression = linear_model.LinearRegression()\n",
    "transposed_sleep_values = np.array(sleep_by_age.index.values).reshape((-1, 1))\n",
    "regression.fit(transposed_sleep_values, sleep_by_age.mean_minutes.values)\n",
    "print(regression.coef_, regression.intercept_)"
   ]
  },
  {
   "cell_type": "markdown",
   "metadata": {},
   "source": [
    "#### Save some time later and set up the line creation overlay"
   ]
  },
  {
   "cell_type": "code",
   "execution_count": 19,
   "metadata": {
    "collapsed": true
   },
   "outputs": [],
   "source": [
    "def plot_regression(fn):\n",
    "    plt.scatter(sleep_by_age.index, sleep_by_age.mean_minutes)\n",
    "    xmin, xmax = plt.xlim()\n",
    "    xs = np.linspace(xmin, xmax, 100)\n",
    "    plt.plot(xs, [fn(x) for x in xs])\n",
    "    plt.show()"
   ]
  },
  {
   "cell_type": "code",
   "execution_count": 30,
   "metadata": {
    "collapsed": false
   },
   "outputs": [
    {
     "data": {
      "image/png": "[encoded data removed]",
      "text/plain": [
       "<matplotlib.figure.Figure at 0x110f98cc0>"
      ]
     },
     "metadata": {},
     "output_type": "display_data"
    },
    {
     "data": {
      "text/plain": [
       "0.086941602635587478"
      ]
     },
     "execution_count": 30,
     "metadata": {},
     "output_type": "execute_result"
    }
   ],
   "source": [
    "fn = lambda x: regression.predict(x)[0]\n",
    "\n",
    "plot_regression(fn)\n",
    "regression.score(transposed_sleep_values, sleep_by_age.mean_minutes.values)"
   ]
  },
  {
   "cell_type": "markdown",
   "metadata": {},
   "source": [
    "####Well that looks very wrong"
   ]
  },
  {
   "cell_type": "code",
   "execution_count": 21,
   "metadata": {
    "collapsed": true
   },
   "outputs": [],
   "source": [
    "from sklearn.preprocessing import PolynomialFeatures\n",
    "from sklearn.linear_model import LinearRegression\n",
    "from sklearn.pipeline import Pipeline"
   ]
  },
  {
   "cell_type": "code",
   "execution_count": 26,
   "metadata": {
    "collapsed": false
   },
   "outputs": [
    {
     "name": "stdout",
     "output_type": "stream",
     "text": [
      "[  6.45733647e+02  -5.66518847e+00   5.48318311e-02]\n"
     ]
    }
   ],
   "source": [
    "model = Pipeline([('poly', PolynomialFeatures(degree=2)),\n",
    "                  ('linear', LinearRegression(fit_intercept=False))])\n",
    "model.fit(np.array(sleep_by_age.index.values).reshape((-1, 1)), \n",
    "                  sleep_by_age.mean_minutes.values)\n",
    "\n",
    "print(model.named_steps['linear'].coef_)"
   ]
  },
  {
   "cell_type": "code",
   "execution_count": 33,
   "metadata": {
    "collapsed": false
   },
   "outputs": [
    {
     "data": {
      "image/png": "[encoded data removed]",
      "text/plain": [
       "<matplotlib.figure.Figure at 0x1112241d0>"
      ]
     },
     "metadata": {},
     "output_type": "display_data"
    },
    {
     "data": {
      "text/plain": [
       "0.67815914472774552"
      ]
     },
     "execution_count": 33,
     "metadata": {},
     "output_type": "execute_result"
    }
   ],
   "source": [
    "fn = lambda x: model.predict(x)[0]\n",
    "plot_regression(fn)\n",
    "model.score((sleep_by_age.index.values).reshape((-1, 1)), sleep_by_age.mean_minutes.values)"
   ]
  },
  {
   "cell_type": "markdown",
   "metadata": {},
   "source": [
    "#### Now predictions make sense"
   ]
  },
  {
   "cell_type": "code",
   "execution_count": 34,
   "metadata": {
    "collapsed": false
   },
   "outputs": [
    {
     "data": {
      "text/plain": [
       "array([ 8.67659018])"
      ]
     },
     "execution_count": 34,
     "metadata": {},
     "output_type": "execute_result"
    }
   ],
   "source": [
    "model.predict(32) / 60"
   ]
  },
  {
   "cell_type": "code",
   "execution_count": 35,
   "metadata": {
    "collapsed": false
   },
   "outputs": [
    {
     "data": {
      "text/plain": [
       "array([ 8.32589668])"
      ]
     },
     "execution_count": 35,
     "metadata": {},
     "output_type": "execute_result"
    }
   ],
   "source": [
    "model.predict(50) / 60"
   ]
  },
  {
   "cell_type": "markdown",
   "metadata": {},
   "source": [
    "### Several degrees of poly"
   ]
  },
  {
   "cell_type": "markdown",
   "metadata": {},
   "source": [
    "#### Zero"
   ]
  },
  {
   "cell_type": "code",
   "execution_count": 37,
   "metadata": {
    "collapsed": false
   },
   "outputs": [
    {
     "name": "stdout",
     "output_type": "stream",
     "text": [
      "[ 520.84943152]\n"
     ]
    },
    {
     "data": {
      "image/png": "[encoded data removed]",
      "text/plain": [
       "<matplotlib.figure.Figure at 0x111362048>"
      ]
     },
     "metadata": {},
     "output_type": "display_data"
    },
    {
     "data": {
      "text/plain": [
       "0.0"
      ]
     },
     "execution_count": 37,
     "metadata": {},
     "output_type": "execute_result"
    }
   ],
   "source": [
    "model = Pipeline([('poly', PolynomialFeatures(degree=0)),\n",
    "                  ('linear', LinearRegression(fit_intercept=False))])\n",
    "model.fit(np.array(sleep_by_age.index.values).reshape((-1, 1)), \n",
    "                  sleep_by_age.mean_minutes.values)\n",
    "\n",
    "\n",
    "print(model.named_steps['linear'].coef_)\n",
    "\n",
    "fn = lambda x: model.predict(x)[0]\n",
    "\n",
    "plot_regression(fn)\n",
    "model.score(np.array(sleep_by_age.index.values).reshape((-1, 1)), \n",
    "                  sleep_by_age.mean_minutes.values)"
   ]
  },
  {
   "cell_type": "markdown",
   "metadata": {},
   "source": [
    "#### One (This is the same as the original line)"
   ]
  },
  {
   "cell_type": "code",
   "execution_count": 39,
   "metadata": {
    "collapsed": false
   },
   "outputs": [
    {
     "name": "stdout",
     "output_type": "stream",
     "text": [
      "[  5.38764180e+02  -3.72760302e-01]\n"
     ]
    },
    {
     "data": {
      "image/png": "[encoded data removed]",
      "text/plain": [
       "<matplotlib.figure.Figure at 0x1114733c8>"
      ]
     },
     "metadata": {},
     "output_type": "display_data"
    },
    {
     "data": {
      "text/plain": [
       "0.086941602635587145"
      ]
     },
     "execution_count": 39,
     "metadata": {},
     "output_type": "execute_result"
    }
   ],
   "source": [
    "model = Pipeline([('poly', PolynomialFeatures(degree=1)),\n",
    "                  ('linear', LinearRegression(fit_intercept=False))])\n",
    "model.fit(np.array(sleep_by_age.index.values).reshape((-1, 1)), \n",
    "                  sleep_by_age.mean_minutes.values)\n",
    "\n",
    "print(model.named_steps['linear'].coef_)\n",
    "\n",
    "fn = lambda x: model.predict(x)[0]\n",
    "\n",
    "plot_regression(fn)\n",
    "model.score(np.array(sleep_by_age.index.values).reshape((-1, 1)), \n",
    "                  sleep_by_age.mean_minutes.values)"
   ]
  },
  {
   "cell_type": "code",
   "execution_count": 40,
   "metadata": {
    "collapsed": false
   },
   "outputs": [
    {
     "name": "stdout",
     "output_type": "stream",
     "text": [
      "[  0.00000000e+00  -1.96775534e+01   4.95578215e-01  -4.70230260e-03\n",
      "  -1.15898708e-06   1.87993805e-07]\n"
     ]
    },
    {
     "data": {
      "image/png": "[encoded data removed]",
      "text/plain": [
       "<matplotlib.figure.Figure at 0x111473390>"
      ]
     },
     "metadata": {},
     "output_type": "display_data"
    },
    {
     "data": {
      "text/plain": [
       "0.72521711883999118"
      ]
     },
     "execution_count": 40,
     "metadata": {},
     "output_type": "execute_result"
    }
   ],
   "source": [
    "model = Pipeline([('poly', PolynomialFeatures(degree=5)),\n",
    "                  ('linear', LinearRegression())])\n",
    "model.fit(np.array(sleep_by_age.index.values).reshape((-1, 1)), \n",
    "                  sleep_by_age.mean_minutes.values)\n",
    "\n",
    "print(model.named_steps['linear'].coef_)\n",
    "fn = lambda x: model.predict(x)[0]\n",
    "\n",
    "plot_regression(fn)\n",
    "model.score(np.array(sleep_by_age.index.values).reshape((-1, 1)), \n",
    "                  sleep_by_age.mean_minutes.values)"
   ]
  },
  {
   "cell_type": "code",
   "execution_count": 41,
   "metadata": {
    "collapsed": false
   },
   "outputs": [
    {
     "name": "stdout",
     "output_type": "stream",
     "text": [
      "[  0.00000000e+00  -4.12828643e-05  -9.08344345e-06  -1.56606931e-04\n",
      "  -1.54756470e-03   1.10207603e-04  -3.18351478e-06   4.61845298e-08\n",
      "  -3.34619263e-10   9.66018225e-13  -7.95726712e-19]\n"
     ]
    },
    {
     "data": {
      "image/png": "[encoded data removed]",
      "text/plain": [
       "<matplotlib.figure.Figure at 0x111333dd8>"
      ]
     },
     "metadata": {},
     "output_type": "display_data"
    },
    {
     "data": {
      "text/plain": [
       "0.74810791951034128"
      ]
     },
     "execution_count": 41,
     "metadata": {},
     "output_type": "execute_result"
    }
   ],
   "source": [
    "model = Pipeline([('poly', PolynomialFeatures(degree=10)),\n",
    "                  ('linear', LinearRegression())])\n",
    "model.fit(np.array(sleep_by_age.index.values).reshape((-1, 1)), \n",
    "                  sleep_by_age.mean_minutes.values)\n",
    "\n",
    "print(model.named_steps['linear'].coef_)\n",
    "fn = lambda x: model.predict(x)[0]\n",
    "\n",
    "plot_regression(fn)\n",
    "model.score(np.array(sleep_by_age.index.values).reshape((-1, 1)), \n",
    "                  sleep_by_age.mean_minutes.values)"
   ]
  },
  {
   "cell_type": "code",
   "execution_count": null,
   "metadata": {
    "collapsed": true
   },
   "outputs": [],
   "source": []
  }
 ],
 "metadata": {
  "kernelspec": {
   "display_name": "Python 3",
   "language": "python",
   "name": "python3"
  },
  "language_info": {
   "codemirror_mode": {
    "name": "ipython",
    "version": 3
   },
   "file_extension": ".py",
   "mimetype": "text/x-python",
   "name": "python",
   "nbconvert_exporter": "python",
   "pygments_lexer": "ipython3",
   "version": "3.4.3"
  }
 },
 "nbformat": 4,
 "nbformat_minor": 0
}
