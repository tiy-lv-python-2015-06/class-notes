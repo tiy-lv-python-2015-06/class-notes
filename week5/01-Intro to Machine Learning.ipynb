{
 "cells": [
  {
   "cell_type": "code",
   "execution_count": 1,
   "metadata": {
    "collapsed": true
   },
   "outputs": [],
   "source": [
    "import pandas as pd\n",
    "import numpy as np\n",
    "import matplotlib.pyplot as plt\n",
    "import seaborn as sbs\n",
    "import math"
   ]
  },
  {
   "cell_type": "code",
   "execution_count": 2,
   "metadata": {
    "collapsed": true
   },
   "outputs": [],
   "source": [
    "%matplotlib inline"
   ]
  },
  {
   "cell_type": "markdown",
   "metadata": {},
   "source": [
    "Machine learning is a very large topic, and we're covering it for the one week, so this will be a survey."
   ]
  },
  {
   "cell_type": "markdown",
   "metadata": {},
   "source": [
    "#scikit-learn\n",
    "\n",
    "The Python package we will be using for most everything this week is scikit-learn.\n",
    "\n",
    "Download it: ```pip install scikit-learn```.\n",
    "\n",
    "Learn about it: http://scikit-learn.org/"
   ]
  },
  {
   "cell_type": "markdown",
   "metadata": {},
   "source": [
    "#What is machine learning?\n",
    "Lots of definitions. A simple one: \"a field of study that gives computers the ability to learn without being explicitly programmed.\" (Arthur Samuel)\n",
    "\n",
    "Different types:\n",
    "* supervised learning: prediction/regression, classification\n",
    "* unsupervised learning: clustering, organizing\n",
    "\n",
    "Machine learning \"involves observing a set of examples that represent incomplete information about some statistical phenomenon, and then attempting to infer something about the process that generated those examples.\" (John Gottag, *Introduction to Programming and Computation with Python*)\n",
    "\n",
    "(A large amount of what comes below comes from *Introduction to Programming and Computation with Python.*)\n",
    "\n",
    "Machine learning is at its core about representation and generalization.\n",
    "\n",
    "* __representation__ is extracting structure from data\n",
    "* __generalization__ is making predictions from data"
   ]
  },
  {
   "cell_type": "markdown",
   "metadata": {},
   "source": [
    "#Feature vectors"
   ]
  },
  {
   "cell_type": "code",
   "execution_count": null,
   "metadata": {
    "collapsed": true
   },
   "outputs": [],
   "source": [
    "dog_breeds = {\"Alaskan Malamute\": {\"height\": 24, \"weight\": 80, \"energy\": 4},\n",
    "              \"Bichon Frise\": {\"height\": 10, \"weight\": 9.5, \"energy\": 4},\n",
    "              \"Irish Wolfhound\": {\"height\": 32, \"weight\": 120, \"energy\": 2},\n",
    "              \"Basset Hound\": {\"height\": 14, \"weight\": 50, \"energy\": 2}}\n",
    "\n",
    "set_a = {\"Alaskan Malamute\", \"Irish Wolfhound\"}\n",
    "set_b = {\"Bichon Frise\", \"Basset Hound\"}"
   ]
  },
  {
   "cell_type": "markdown",
   "metadata": {},
   "source": [
    "*How were the above separated?*\n",
    "\n",
    "The information being used here is called a feature vector. Each element of the vector describes some feature of the example. *What other feature vectors might we have here? Which ones are more useful than others?*\n",
    "\n",
    "In __supervised learning__, we have the labels we want to apply to our data and the feature vectors of our data, like we do above. Classification, a supervised learning technique, could take the data above and then given a new example, place it in the right set based on its height. This is used for many applications: detecting spam or fraud, labeling documents, recommending products.\n",
    "\n",
    "In __unsupervised learning__, we have our feature vectors, but no labels. Unsupervised learning looks for structure in our feature vectors that we do not yet know. Given the dog breeds above, unsupervised learning might break them into tall and short dogs, heavy and light dogs, or high and low energy dogs."
   ]
  },
  {
   "cell_type": "markdown",
   "metadata": {},
   "source": [
    "## Figuring out our feature vectors\n",
    "\n",
    "The problem with much of our data is that there's too much of it. If you used every possible feature to organize your data, you would likely end up with just a giant mess. Using too many features can make a bad statistical model, and can also slow down the learning process.\n",
    "\n",
    "__Feature extraction__ is hard, but is necessary. Even in unsupervised learning, we need human input to decide what feature vectors to use.\n",
    "\n",
    "Create a ```list``` of ```dicts``` that contain the following features:\n",
    "\n",
    "* _name (string)\n",
    "* egg-laying (bool)\n",
    "* scales (bool)\n",
    "* poisonous (bool)\n",
    "* cold-blooded (bool)\n",
    "* num_legs (int)\n",
    "\n",
    "Create a ```dataFrame``` with this list."
   ]
  },
  {
   "cell_type": "code",
   "execution_count": 3,
   "metadata": {
    "collapsed": true
   },
   "outputs": [],
   "source": [
    "data = [\n",
    "    {\"_name\": \"Alligator\", \"egg_laying\": True, \"scale\": True, \"poisonous\": False, \"cold_blooded\": True, \"num_legs\": 4}, \n",
    "    {\"_name\": \"Boa Constrictor\", \"egg_laying\": True, \"scale\": True, \"poisonous\": False, \"cold_blooded\": True, \"num_legs\": 0}, \n",
    "    {\"_name\": \"Newt\", \"egg_laying\": True, \"scale\": False, \"poisonous\": True, \"cold_blooded\": True, \"num_legs\": 4}, \n",
    "    {\"_name\": \"Python\", \"egg_laying\": True, \"scale\": True, \"poisonous\": False, \"cold_blooded\": True, \"num_legs\": 0}, \n",
    "    {\"_name\": \"King Cobra\", \"egg_laying\": True, \"scale\": True, \"poisonous\": True, \"cold_blooded\": True, \"num_legs\": 0}, \n",
    "]"
   ]
  },
  {
   "cell_type": "code",
   "execution_count": 4,
   "metadata": {
    "collapsed": false
   },
   "outputs": [
    {
     "data": {
      "text/html": [
       "<div>\n",
       "<table border=\"1\" class=\"dataframe\">\n",
       "  <thead>\n",
       "    <tr style=\"text-align: right;\">\n",
       "      <th></th>\n",
       "      <th>_name</th>\n",
       "      <th>cold_blooded</th>\n",
       "      <th>egg_laying</th>\n",
       "      <th>num_legs</th>\n",
       "      <th>poisonous</th>\n",
       "      <th>scale</th>\n",
       "    </tr>\n",
       "  </thead>\n",
       "  <tbody>\n",
       "    <tr>\n",
       "      <th>0</th>\n",
       "      <td>Alligator</td>\n",
       "      <td>True</td>\n",
       "      <td>True</td>\n",
       "      <td>4</td>\n",
       "      <td>False</td>\n",
       "      <td>True</td>\n",
       "    </tr>\n",
       "    <tr>\n",
       "      <th>1</th>\n",
       "      <td>Boa Constrictor</td>\n",
       "      <td>True</td>\n",
       "      <td>True</td>\n",
       "      <td>0</td>\n",
       "      <td>False</td>\n",
       "      <td>True</td>\n",
       "    </tr>\n",
       "    <tr>\n",
       "      <th>2</th>\n",
       "      <td>Newt</td>\n",
       "      <td>True</td>\n",
       "      <td>True</td>\n",
       "      <td>4</td>\n",
       "      <td>True</td>\n",
       "      <td>False</td>\n",
       "    </tr>\n",
       "    <tr>\n",
       "      <th>3</th>\n",
       "      <td>Python</td>\n",
       "      <td>True</td>\n",
       "      <td>True</td>\n",
       "      <td>0</td>\n",
       "      <td>False</td>\n",
       "      <td>True</td>\n",
       "    </tr>\n",
       "    <tr>\n",
       "      <th>4</th>\n",
       "      <td>King Cobra</td>\n",
       "      <td>True</td>\n",
       "      <td>True</td>\n",
       "      <td>0</td>\n",
       "      <td>True</td>\n",
       "      <td>True</td>\n",
       "    </tr>\n",
       "  </tbody>\n",
       "</table>\n",
       "</div>"
      ],
      "text/plain": [
       "             _name cold_blooded egg_laying  num_legs poisonous  scale\n",
       "0        Alligator         True       True         4     False   True\n",
       "1  Boa Constrictor         True       True         0     False   True\n",
       "2             Newt         True       True         4      True  False\n",
       "3           Python         True       True         0     False   True\n",
       "4       King Cobra         True       True         0      True   True"
      ]
     },
     "execution_count": 4,
     "metadata": {},
     "output_type": "execute_result"
    }
   ],
   "source": [
    "original_df = pd.DataFrame(data)\n",
    "original_df"
   ]
  },
  {
   "cell_type": "markdown",
   "metadata": {},
   "source": [
    "*What features help determine if an animal is a reptile or not, based off this data?*"
   ]
  },
  {
   "cell_type": "markdown",
   "metadata": {},
   "source": [
    "# Measuring distance\n",
    "Let's say we want to use the above data to give us the similarity of two animals. We might ask, for example, if an alligator is more like a cobra or a dart frog.\n",
    "\n",
    "In order to do this, we can measure the similarity of the feature vectors, but the vectors must be made up of numbers first. Four of ours are booleans, so let's convert them.\n",
    "\n",
    "Iterate over the ```df.columns``` and set anything not ```_name``` to an ```int```"
   ]
  },
  {
   "cell_type": "code",
   "execution_count": 5,
   "metadata": {
    "collapsed": true
   },
   "outputs": [],
   "source": [
    "for column in original_df.columns:\n",
    "    if column != \"_name\":\n",
    "        original_df[column] = original_df[column].astype(np.int)"
   ]
  },
  {
   "cell_type": "code",
   "execution_count": 6,
   "metadata": {
    "collapsed": false,
    "scrolled": true
   },
   "outputs": [
    {
     "data": {
      "text/html": [
       "<div>\n",
       "<table border=\"1\" class=\"dataframe\">\n",
       "  <thead>\n",
       "    <tr style=\"text-align: right;\">\n",
       "      <th></th>\n",
       "      <th>_name</th>\n",
       "      <th>cold_blooded</th>\n",
       "      <th>egg_laying</th>\n",
       "      <th>num_legs</th>\n",
       "      <th>poisonous</th>\n",
       "      <th>scale</th>\n",
       "    </tr>\n",
       "  </thead>\n",
       "  <tbody>\n",
       "    <tr>\n",
       "      <th>0</th>\n",
       "      <td>Alligator</td>\n",
       "      <td>1</td>\n",
       "      <td>1</td>\n",
       "      <td>4</td>\n",
       "      <td>0</td>\n",
       "      <td>1</td>\n",
       "    </tr>\n",
       "    <tr>\n",
       "      <th>1</th>\n",
       "      <td>Boa Constrictor</td>\n",
       "      <td>1</td>\n",
       "      <td>1</td>\n",
       "      <td>0</td>\n",
       "      <td>0</td>\n",
       "      <td>1</td>\n",
       "    </tr>\n",
       "    <tr>\n",
       "      <th>2</th>\n",
       "      <td>Newt</td>\n",
       "      <td>1</td>\n",
       "      <td>1</td>\n",
       "      <td>4</td>\n",
       "      <td>1</td>\n",
       "      <td>0</td>\n",
       "    </tr>\n",
       "    <tr>\n",
       "      <th>3</th>\n",
       "      <td>Python</td>\n",
       "      <td>1</td>\n",
       "      <td>1</td>\n",
       "      <td>0</td>\n",
       "      <td>0</td>\n",
       "      <td>1</td>\n",
       "    </tr>\n",
       "    <tr>\n",
       "      <th>4</th>\n",
       "      <td>King Cobra</td>\n",
       "      <td>1</td>\n",
       "      <td>1</td>\n",
       "      <td>0</td>\n",
       "      <td>1</td>\n",
       "      <td>1</td>\n",
       "    </tr>\n",
       "  </tbody>\n",
       "</table>\n",
       "</div>"
      ],
      "text/plain": [
       "             _name  cold_blooded  egg_laying  num_legs  poisonous  scale\n",
       "0        Alligator             1           1         4          0      1\n",
       "1  Boa Constrictor             1           1         0          0      1\n",
       "2             Newt             1           1         4          1      0\n",
       "3           Python             1           1         0          0      1\n",
       "4       King Cobra             1           1         0          1      1"
      ]
     },
     "execution_count": 6,
     "metadata": {},
     "output_type": "execute_result"
    }
   ],
   "source": [
    "original_df"
   ]
  },
  {
   "cell_type": "markdown",
   "metadata": {},
   "source": [
    "Let's create a feature vector for each animal.\n",
    "\n",
    "You can convert your dataFrame to a dictionary with:\n",
    "\n",
    "```df.T.to_dict()```\n",
    "\n",
    "Iterate over it's ```.items()``` and set the value in our animals dict to an np.array of the list of values."
   ]
  },
  {
   "cell_type": "code",
   "execution_count": 10,
   "metadata": {
    "collapsed": false
   },
   "outputs": [
    {
     "data": {
      "text/plain": [
       "{0: {'_name': 'Alligator',\n",
       "  'cold_blooded': 1,\n",
       "  'egg_laying': 1,\n",
       "  'num_legs': 4,\n",
       "  'poisonous': 0,\n",
       "  'scale': 1},\n",
       " 1: {'_name': 'Boa Constrictor',\n",
       "  'cold_blooded': 1,\n",
       "  'egg_laying': 1,\n",
       "  'num_legs': 0,\n",
       "  'poisonous': 0,\n",
       "  'scale': 1},\n",
       " 2: {'_name': 'Newt',\n",
       "  'cold_blooded': 1,\n",
       "  'egg_laying': 1,\n",
       "  'num_legs': 4,\n",
       "  'poisonous': 1,\n",
       "  'scale': 0},\n",
       " 3: {'_name': 'Python',\n",
       "  'cold_blooded': 1,\n",
       "  'egg_laying': 1,\n",
       "  'num_legs': 0,\n",
       "  'poisonous': 0,\n",
       "  'scale': 1},\n",
       " 4: {'_name': 'King Cobra',\n",
       "  'cold_blooded': 1,\n",
       "  'egg_laying': 1,\n",
       "  'num_legs': 0,\n",
       "  'poisonous': 1,\n",
       "  'scale': 1}}"
      ]
     },
     "execution_count": 10,
     "metadata": {},
     "output_type": "execute_result"
    }
   ],
   "source": [
    "original_df.T.to_dict()"
   ]
  },
  {
   "cell_type": "code",
   "execution_count": 11,
   "metadata": {
    "collapsed": false
   },
   "outputs": [],
   "source": [
    "animal_dict = original_df.T.to_dict()\n",
    "new_animal_dict = {}\n",
    "\n",
    "for key, features in animal_dict.items():\n",
    "    animal_name = features.pop('_name')\n",
    "    new_animal_dict[animal_name] = np.array(list(features.values()))"
   ]
  },
  {
   "cell_type": "code",
   "execution_count": 13,
   "metadata": {
    "collapsed": false
   },
   "outputs": [
    {
     "data": {
      "text/plain": [
       "{'Alligator': array([1, 1, 0, 4, 1]),\n",
       " 'Boa Constrictor': array([1, 1, 0, 0, 1]),\n",
       " 'King Cobra': array([1, 1, 1, 0, 1]),\n",
       " 'Newt': array([0, 1, 1, 4, 1]),\n",
       " 'Python': array([1, 1, 0, 0, 1])}"
      ]
     },
     "execution_count": 13,
     "metadata": {},
     "output_type": "execute_result"
    }
   ],
   "source": [
    "new_animal_dict"
   ]
  },
  {
   "cell_type": "markdown",
   "metadata": {},
   "source": [
    "Now, we are going to use a formula called the __Euclidean distance__. You might remember this from your movie review homework.  This is used to compare the distance between equal-length vectors of numbers.\n",
    "\n",
    "$$distance(V1, V2) = \\sqrt{\\sum\\limits_{i=1}^{len}(V1_i-V2_i)^{2}}$$\n",
    "\n",
    "Here's that in English:\n",
    "\n",
    "The distance between vector 1 and vector 2 is the square root of the sum of the difference between each of their features squared.\n",
    "\n",
    "This sounds really hard, but is much like something we've done before: the Pythagorean theorem. If you have two vectors with two elements each, you could see those as x/y coordinates.\n",
    "\n",
    "* V1 = [0, 0]\n",
    "* V2 = [3, 4]\n",
    "\n",
    "Take the difference of each coordinate squared: $(3 - 0)^2 = 9; (4 - 0)^2 = 16$. \n",
    "\n",
    "Sum them: $9 + 16 = 25$.\n",
    "\n",
    "Now find the square root: $\\sqrt{25} = 5$.\n",
    "\n",
    "The Euclidean distance between these vectors is 5, the same as the hypotenuse of a right triangle using them as coordinates would be.  The difference is the Euclidean distance can be used with vectors of any length.\n",
    "\n",
    "Let's write our own Euclidean distance function to help us out.\n",
    "\n",
    "Make sure it takes 2 vectors (lists of numbers) as parameters, calculates the squares of the vectors and stores as a new vector, and return the square root of the sum of the numbers in the squared vector."
   ]
  },
  {
   "cell_type": "code",
   "execution_count": 14,
   "metadata": {
    "collapsed": true
   },
   "outputs": [],
   "source": [
    "def euclidean_distance(v1, v2):\n",
    "    squares = (v1 - v2) ** 2\n",
    "    return math.sqrt(squares.sum())"
   ]
  },
  {
   "cell_type": "code",
   "execution_count": 15,
   "metadata": {
    "collapsed": false
   },
   "outputs": [
    {
     "name": "stdout",
     "output_type": "stream",
     "text": [
      "15.362291495737216\n"
     ]
    }
   ],
   "source": [
    "print(euclidean_distance(np.array([1, 6, 8, 0]), np.array([7, 0, 0, 10])))\n",
    "\n",
    "assert euclidean_distance(np.array([0, 0]), np.array([3, 4])) == 5"
   ]
  },
  {
   "cell_type": "markdown",
   "metadata": {},
   "source": [
    "Create a function that creates a dictionary (of animals for example), and creates a new dataFrame that contains the animal as both columns and rows while each cell contains the Euclidean distance between each of the animals. Display -- for instances of the animal when compared with itself."
   ]
  },
  {
   "cell_type": "code",
   "execution_count": 16,
   "metadata": {
    "collapsed": true
   },
   "outputs": [],
   "source": [
    "def create_distance_table(search_animals, new_animal_dict):\n",
    "    data_frame_list = []\n",
    "    for column_animal in search_animals:\n",
    "        animal_dict_ = {}\n",
    "        \n",
    "        for row_animal in search_animals:\n",
    "            if row_animal == column_animal:\n",
    "                animal_dict_[row_animal] = \"---\"\n",
    "            else:\n",
    "                distance = euclidean_distance(new_animal_dict[column_animal], new_animal_dict[row_animal])\n",
    "                animal_dict_[row_animal] = distance\n",
    "        data_frame_list.append(animal_dict_)\n",
    "    return data_frame_list\n",
    "            "
   ]
  },
  {
   "cell_type": "code",
   "execution_count": 18,
   "metadata": {
    "collapsed": false
   },
   "outputs": [],
   "source": [
    "search_animals = [\"Alligator\", \"Boa Constrictor\", \"Newt\", \"Python\"]\n",
    "df = pd.DataFrame(create_distance_table(search_animals, new_animal_dict))\n",
    "df.index = search_animals"
   ]
  },
  {
   "cell_type": "code",
   "execution_count": 19,
   "metadata": {
    "collapsed": false
   },
   "outputs": [
    {
     "data": {
      "text/html": [
       "<div>\n",
       "<table border=\"1\" class=\"dataframe\">\n",
       "  <thead>\n",
       "    <tr style=\"text-align: right;\">\n",
       "      <th></th>\n",
       "      <th>Alligator</th>\n",
       "      <th>Boa Constrictor</th>\n",
       "      <th>Newt</th>\n",
       "      <th>Python</th>\n",
       "    </tr>\n",
       "  </thead>\n",
       "  <tbody>\n",
       "    <tr>\n",
       "      <th>Alligator</th>\n",
       "      <td>---</td>\n",
       "      <td>4</td>\n",
       "      <td>1.414214</td>\n",
       "      <td>4</td>\n",
       "    </tr>\n",
       "    <tr>\n",
       "      <th>Boa Constrictor</th>\n",
       "      <td>4</td>\n",
       "      <td>---</td>\n",
       "      <td>4.242641</td>\n",
       "      <td>0</td>\n",
       "    </tr>\n",
       "    <tr>\n",
       "      <th>Newt</th>\n",
       "      <td>1.414214</td>\n",
       "      <td>4.242641</td>\n",
       "      <td>---</td>\n",
       "      <td>4.242641</td>\n",
       "    </tr>\n",
       "    <tr>\n",
       "      <th>Python</th>\n",
       "      <td>4</td>\n",
       "      <td>0</td>\n",
       "      <td>4.242641</td>\n",
       "      <td>---</td>\n",
       "    </tr>\n",
       "  </tbody>\n",
       "</table>\n",
       "</div>"
      ],
      "text/plain": [
       "                Alligator Boa Constrictor      Newt    Python\n",
       "Alligator             ---               4  1.414214         4\n",
       "Boa Constrictor         4             ---  4.242641         0\n",
       "Newt             1.414214        4.242641       ---  4.242641\n",
       "Python                  4               0  4.242641       ---"
      ]
     },
     "execution_count": 19,
     "metadata": {},
     "output_type": "execute_result"
    }
   ],
   "source": [
    "df"
   ]
  },
  {
   "cell_type": "markdown",
   "metadata": {},
   "source": [
    "Lets view the dataFrame returned when asked to compare the following animals:\n",
    "* Rattlesnake\n",
    "* Boa Constrictor\n",
    "* Dart frog\n",
    "* Alligator"
   ]
  },
  {
   "cell_type": "code",
   "execution_count": null,
   "metadata": {
    "collapsed": true
   },
   "outputs": [],
   "source": []
  },
  {
   "cell_type": "markdown",
   "metadata": {},
   "source": [
    "Well, that looks wrong. *What might the problem be?*\n",
    "\n",
    "of course! The ```num_legs``` doesn't contain a ```bool```, it contains the count of legs for the given animal. Lets replace num_legs to a boolean that represents if the animals has legs or not.\n",
    "\n",
    "* 0 if the animal has no legs\n",
    "* 1 if the animals has 1 or more legs\n",
    "\n",
    "Lets look at the animal list again."
   ]
  },
  {
   "cell_type": "code",
   "execution_count": 20,
   "metadata": {
    "collapsed": false
   },
   "outputs": [
    {
     "data": {
      "text/plain": [
       "{'Alligator': array([1, 1, 0, 4, 1]),\n",
       " 'Boa Constrictor': array([1, 1, 0, 0, 1]),\n",
       " 'King Cobra': array([1, 1, 1, 0, 1]),\n",
       " 'Newt': array([0, 1, 1, 4, 1]),\n",
       " 'Python': array([1, 1, 0, 0, 1])}"
      ]
     },
     "execution_count": 20,
     "metadata": {},
     "output_type": "execute_result"
    }
   ],
   "source": [
    "new_animal_dict"
   ]
  },
  {
   "cell_type": "code",
   "execution_count": 21,
   "metadata": {
    "collapsed": true
   },
   "outputs": [],
   "source": [
    "original_df['num_legs'] = original_df['num_legs'].astype(bool).astype(np.int)"
   ]
  },
  {
   "cell_type": "code",
   "execution_count": 22,
   "metadata": {
    "collapsed": false
   },
   "outputs": [
    {
     "data": {
      "text/html": [
       "<div>\n",
       "<table border=\"1\" class=\"dataframe\">\n",
       "  <thead>\n",
       "    <tr style=\"text-align: right;\">\n",
       "      <th></th>\n",
       "      <th>_name</th>\n",
       "      <th>cold_blooded</th>\n",
       "      <th>egg_laying</th>\n",
       "      <th>num_legs</th>\n",
       "      <th>poisonous</th>\n",
       "      <th>scale</th>\n",
       "    </tr>\n",
       "  </thead>\n",
       "  <tbody>\n",
       "    <tr>\n",
       "      <th>0</th>\n",
       "      <td>Alligator</td>\n",
       "      <td>1</td>\n",
       "      <td>1</td>\n",
       "      <td>1</td>\n",
       "      <td>0</td>\n",
       "      <td>1</td>\n",
       "    </tr>\n",
       "    <tr>\n",
       "      <th>1</th>\n",
       "      <td>Boa Constrictor</td>\n",
       "      <td>1</td>\n",
       "      <td>1</td>\n",
       "      <td>0</td>\n",
       "      <td>0</td>\n",
       "      <td>1</td>\n",
       "    </tr>\n",
       "    <tr>\n",
       "      <th>2</th>\n",
       "      <td>Newt</td>\n",
       "      <td>1</td>\n",
       "      <td>1</td>\n",
       "      <td>1</td>\n",
       "      <td>1</td>\n",
       "      <td>0</td>\n",
       "    </tr>\n",
       "    <tr>\n",
       "      <th>3</th>\n",
       "      <td>Python</td>\n",
       "      <td>1</td>\n",
       "      <td>1</td>\n",
       "      <td>0</td>\n",
       "      <td>0</td>\n",
       "      <td>1</td>\n",
       "    </tr>\n",
       "    <tr>\n",
       "      <th>4</th>\n",
       "      <td>King Cobra</td>\n",
       "      <td>1</td>\n",
       "      <td>1</td>\n",
       "      <td>0</td>\n",
       "      <td>1</td>\n",
       "      <td>1</td>\n",
       "    </tr>\n",
       "  </tbody>\n",
       "</table>\n",
       "</div>"
      ],
      "text/plain": [
       "             _name  cold_blooded  egg_laying  num_legs  poisonous  scale\n",
       "0        Alligator             1           1         1          0      1\n",
       "1  Boa Constrictor             1           1         0          0      1\n",
       "2             Newt             1           1         1          1      0\n",
       "3           Python             1           1         0          0      1\n",
       "4       King Cobra             1           1         0          1      1"
      ]
     },
     "execution_count": 22,
     "metadata": {},
     "output_type": "execute_result"
    }
   ],
   "source": [
    "original_df"
   ]
  },
  {
   "cell_type": "code",
   "execution_count": 23,
   "metadata": {
    "collapsed": false
   },
   "outputs": [],
   "source": [
    "animal_dict = original_df.T.to_dict()\n",
    "new_animal_dict = {}\n",
    "\n",
    "for key, features in animal_dict.items():\n",
    "    animal_name = features.pop('_name')\n",
    "    new_animal_dict[animal_name] = np.array(list(features.values()))"
   ]
  },
  {
   "cell_type": "code",
   "execution_count": 24,
   "metadata": {
    "collapsed": false
   },
   "outputs": [
    {
     "data": {
      "text/plain": [
       "{'Alligator': array([1, 1, 0, 1, 1]),\n",
       " 'Boa Constrictor': array([1, 1, 0, 0, 1]),\n",
       " 'King Cobra': array([1, 1, 1, 0, 1]),\n",
       " 'Newt': array([0, 1, 1, 1, 1]),\n",
       " 'Python': array([1, 1, 0, 0, 1])}"
      ]
     },
     "execution_count": 24,
     "metadata": {},
     "output_type": "execute_result"
    }
   ],
   "source": [
    "new_animal_dict"
   ]
  },
  {
   "cell_type": "code",
   "execution_count": 25,
   "metadata": {
    "collapsed": false
   },
   "outputs": [
    {
     "data": {
      "text/html": [
       "<div>\n",
       "<table border=\"1\" class=\"dataframe\">\n",
       "  <thead>\n",
       "    <tr style=\"text-align: right;\">\n",
       "      <th></th>\n",
       "      <th>Alligator</th>\n",
       "      <th>Boa Constrictor</th>\n",
       "      <th>Newt</th>\n",
       "      <th>Python</th>\n",
       "    </tr>\n",
       "  </thead>\n",
       "  <tbody>\n",
       "    <tr>\n",
       "      <th>Alligator</th>\n",
       "      <td>---</td>\n",
       "      <td>1</td>\n",
       "      <td>1.414214</td>\n",
       "      <td>1</td>\n",
       "    </tr>\n",
       "    <tr>\n",
       "      <th>Boa Constrictor</th>\n",
       "      <td>1</td>\n",
       "      <td>---</td>\n",
       "      <td>1.732051</td>\n",
       "      <td>0</td>\n",
       "    </tr>\n",
       "    <tr>\n",
       "      <th>Newt</th>\n",
       "      <td>1.414214</td>\n",
       "      <td>1.732051</td>\n",
       "      <td>---</td>\n",
       "      <td>1.732051</td>\n",
       "    </tr>\n",
       "    <tr>\n",
       "      <th>Python</th>\n",
       "      <td>1</td>\n",
       "      <td>0</td>\n",
       "      <td>1.732051</td>\n",
       "      <td>---</td>\n",
       "    </tr>\n",
       "  </tbody>\n",
       "</table>\n",
       "</div>"
      ],
      "text/plain": [
       "                Alligator Boa Constrictor      Newt    Python\n",
       "Alligator             ---               1  1.414214         1\n",
       "Boa Constrictor         1             ---  1.732051         0\n",
       "Newt             1.414214        1.732051       ---  1.732051\n",
       "Python                  1               0  1.732051       ---"
      ]
     },
     "execution_count": 25,
     "metadata": {},
     "output_type": "execute_result"
    }
   ],
   "source": [
    "cleaned_df = pd.DataFrame(create_distance_table(search_animals, new_animal_dict))\n",
    "cleaned_df.index = search_animals\n",
    "cleaned_df"
   ]
  },
  {
   "cell_type": "markdown",
   "metadata": {},
   "source": [
    "Again, we need to convert our dataframe to a dictionary containing the key of the animal name and the value of a vector of feature values. We've done this before but lets do it again for practice."
   ]
  },
  {
   "cell_type": "code",
   "execution_count": null,
   "metadata": {
    "collapsed": true
   },
   "outputs": [],
   "source": []
  },
  {
   "cell_type": "markdown",
   "metadata": {},
   "source": [
    "How does this change our Euclidean distance for each animal?\n",
    "\n",
    " - Rattlesnake\n",
    " - Boa Constrictor\n",
    " - Dart frog\n",
    " - Alligator\n",
    " \n",
    "<!---\n",
    "compare_animals(animal_features, \n",
    "                ['Rattlesnake', 'Boa constrictor', 'Dart frog', 'Alligator'])\n",
    "--->"
   ]
  },
  {
   "cell_type": "code",
   "execution_count": null,
   "metadata": {
    "collapsed": true
   },
   "outputs": [],
   "source": []
  },
  {
   "cell_type": "markdown",
   "metadata": {},
   "source": [
    "And for funzies lets check all animals against eachother."
   ]
  },
  {
   "cell_type": "code",
   "execution_count": null,
   "metadata": {
    "collapsed": true
   },
   "outputs": [],
   "source": []
  },
  {
   "cell_type": "markdown",
   "metadata": {},
   "source": [
    "# References and Further Reading\n",
    "\n",
    "* [A Few Useful Things to Know about Machine Learning](http://www.astro.caltech.edu/~george/ay122/cacm12.pdf)"
   ]
  },
  {
   "cell_type": "code",
   "execution_count": null,
   "metadata": {
    "collapsed": true
   },
   "outputs": [],
   "source": []
  }
 ],
 "metadata": {
  "kernelspec": {
   "display_name": "Python 3",
   "language": "python",
   "name": "python3"
  },
  "language_info": {
   "codemirror_mode": {
    "name": "ipython",
    "version": 3
   },
   "file_extension": ".py",
   "mimetype": "text/x-python",
   "name": "python",
   "nbconvert_exporter": "python",
   "pygments_lexer": "ipython3",
   "version": "3.4.3"
  }
 },
 "nbformat": 4,
 "nbformat_minor": 0
}
