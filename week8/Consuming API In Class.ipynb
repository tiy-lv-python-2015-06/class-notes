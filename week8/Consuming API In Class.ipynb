{
 "cells": [
  {
   "cell_type": "code",
   "execution_count": 1,
   "metadata": {
    "collapsed": true
   },
   "outputs": [],
   "source": [
    "import requests"
   ]
  },
  {
   "cell_type": "code",
   "execution_count": 2,
   "metadata": {
    "collapsed": true
   },
   "outputs": [],
   "source": [
    "response = requests.get(\"http://swapi.co/api/people/1\")"
   ]
  },
  {
   "cell_type": "code",
   "execution_count": 3,
   "metadata": {
    "collapsed": false
   },
   "outputs": [
    {
     "data": {
      "text/plain": [
       "<Response [200]>"
      ]
     },
     "execution_count": 3,
     "metadata": {},
     "output_type": "execute_result"
    }
   ],
   "source": [
    "response"
   ]
  },
  {
   "cell_type": "code",
   "execution_count": 4,
   "metadata": {
    "collapsed": false
   },
   "outputs": [
    {
     "data": {
      "text/plain": [
       "b'{\"name\":\"Luke Skywalker\",\"height\":\"172\",\"mass\":\"77\",\"hair_color\":\"blond\",\"skin_color\":\"fair\",\"eye_color\":\"blue\",\"birth_year\":\"19BBY\",\"gender\":\"male\",\"homeworld\":\"http://swapi.co/api/planets/1/\",\"films\":[\"http://swapi.co/api/films/7/\",\"http://swapi.co/api/films/6/\",\"http://swapi.co/api/films/3/\",\"http://swapi.co/api/films/2/\",\"http://swapi.co/api/films/1/\"],\"species\":[\"http://swapi.co/api/species/1/\"],\"vehicles\":[\"http://swapi.co/api/vehicles/14/\",\"http://swapi.co/api/vehicles/30/\"],\"starships\":[\"http://swapi.co/api/starships/12/\",\"http://swapi.co/api/starships/22/\"],\"created\":\"2014-12-09T13:50:51.644000Z\",\"edited\":\"2014-12-20T21:17:56.891000Z\",\"url\":\"http://swapi.co/api/people/1/\"}'"
      ]
     },
     "execution_count": 4,
     "metadata": {},
     "output_type": "execute_result"
    }
   ],
   "source": [
    "response.content"
   ]
  },
  {
   "cell_type": "code",
   "execution_count": 5,
   "metadata": {
    "collapsed": true
   },
   "outputs": [],
   "source": [
    "import json"
   ]
  },
  {
   "cell_type": "code",
   "execution_count": 6,
   "metadata": {
    "collapsed": false
   },
   "outputs": [
    {
     "name": "stdout",
     "output_type": "stream",
     "text": [
      "<class 'list'> <class 'dict'>\n"
     ]
    }
   ],
   "source": [
    "simple_info = [{\"name\":\"Back to the Future\", \"id\":42, \"year\":1985}]\n",
    "print(type(simple_info), type(simple_info[0]))"
   ]
  },
  {
   "cell_type": "code",
   "execution_count": 7,
   "metadata": {
    "collapsed": true
   },
   "outputs": [],
   "source": [
    "serialized_info = json.dumps(simple_info)"
   ]
  },
  {
   "cell_type": "code",
   "execution_count": 8,
   "metadata": {
    "collapsed": false
   },
   "outputs": [
    {
     "name": "stdout",
     "output_type": "stream",
     "text": [
      "<class 'str'> [{\"name\": \"Back to the Future\", \"id\": 42, \"year\": 1985}]\n"
     ]
    }
   ],
   "source": [
    "print(type(serialized_info), serialized_info)"
   ]
  },
  {
   "cell_type": "code",
   "execution_count": 9,
   "metadata": {
    "collapsed": false
   },
   "outputs": [
    {
     "name": "stdout",
     "output_type": "stream",
     "text": [
      "<class 'list'> [{'name': 'Back to the Future', 'id': 42, 'year': 1985}]\n"
     ]
    }
   ],
   "source": [
    "native_info = json.loads(serialized_info)\n",
    "print(type(native_info), native_info)"
   ]
  },
  {
   "cell_type": "code",
   "execution_count": 10,
   "metadata": {
    "collapsed": false
   },
   "outputs": [
    {
     "name": "stdout",
     "output_type": "stream",
     "text": [
      "<class 'dict'>\n",
      "{'created': '2014-12-09T13:50:51.644000Z', 'films': ['http://swapi.co/api/films/7/', 'http://swapi.co/api/films/6/', 'http://swapi.co/api/films/3/', 'http://swapi.co/api/films/2/', 'http://swapi.co/api/films/1/'], 'url': 'http://swapi.co/api/people/1/', 'birth_year': '19BBY', 'edited': '2014-12-20T21:17:56.891000Z', 'gender': 'male', 'mass': '77', 'skin_color': 'fair', 'eye_color': 'blue', 'species': ['http://swapi.co/api/species/1/'], 'hair_color': 'blond', 'homeworld': 'http://swapi.co/api/planets/1/', 'name': 'Luke Skywalker', 'starships': ['http://swapi.co/api/starships/12/', 'http://swapi.co/api/starships/22/'], 'vehicles': ['http://swapi.co/api/vehicles/14/', 'http://swapi.co/api/vehicles/30/'], 'height': '172'}\n"
     ]
    }
   ],
   "source": [
    "print(type(response.json()))\n",
    "print(response.json())"
   ]
  },
  {
   "cell_type": "code",
   "execution_count": 11,
   "metadata": {
    "collapsed": true
   },
   "outputs": [],
   "source": [
    "def get_person(person_id):\n",
    "    return requests.get(\"http://swapi.co/api/people/{}/\".format(person_id)).json()"
   ]
  },
  {
   "cell_type": "code",
   "execution_count": 12,
   "metadata": {
    "collapsed": true
   },
   "outputs": [],
   "source": [
    "vader = get_person(4)"
   ]
  },
  {
   "cell_type": "code",
   "execution_count": 13,
   "metadata": {
    "collapsed": false
   },
   "outputs": [
    {
     "data": {
      "text/plain": [
       "{'birth_year': '41.9BBY',\n",
       " 'created': '2014-12-10T15:18:20.704000Z',\n",
       " 'edited': '2014-12-20T21:17:50.313000Z',\n",
       " 'eye_color': 'yellow',\n",
       " 'films': ['http://swapi.co/api/films/6/',\n",
       "  'http://swapi.co/api/films/3/',\n",
       "  'http://swapi.co/api/films/2/',\n",
       "  'http://swapi.co/api/films/1/'],\n",
       " 'gender': 'male',\n",
       " 'hair_color': 'none',\n",
       " 'height': '202',\n",
       " 'homeworld': 'http://swapi.co/api/planets/1/',\n",
       " 'mass': '136',\n",
       " 'name': 'Darth Vader',\n",
       " 'skin_color': 'white',\n",
       " 'species': ['http://swapi.co/api/species/1/'],\n",
       " 'starships': ['http://swapi.co/api/starships/13/'],\n",
       " 'url': 'http://swapi.co/api/people/4/',\n",
       " 'vehicles': []}"
      ]
     },
     "execution_count": 13,
     "metadata": {},
     "output_type": "execute_result"
    }
   ],
   "source": [
    "vader"
   ]
  },
  {
   "cell_type": "code",
   "execution_count": 14,
   "metadata": {
    "collapsed": true
   },
   "outputs": [],
   "source": [
    "def get_movies_for_person(person):\n",
    "    film_titles = []\n",
    "    for film in person['films']:\n",
    "        film_titles.append(requests.get(film).json()['title'])\n",
    "    return film_titles"
   ]
  },
  {
   "cell_type": "code",
   "execution_count": 15,
   "metadata": {
    "collapsed": false
   },
   "outputs": [
    {
     "data": {
      "text/plain": [
       "['Revenge of the Sith',\n",
       " 'Return of the Jedi',\n",
       " 'The Empire Strikes Back',\n",
       " 'A New Hope']"
      ]
     },
     "execution_count": 15,
     "metadata": {},
     "output_type": "execute_result"
    }
   ],
   "source": [
    "get_movies_for_person(vader)"
   ]
  },
  {
   "cell_type": "code",
   "execution_count": 20,
   "metadata": {
    "collapsed": true
   },
   "outputs": [],
   "source": [
    "def clean_people(people_list):\n",
    "    return [{\"id\": int(people['url'].split(\"/\")[-2]), \n",
    "            \"name\": people['name'], \n",
    "            \"films\": people['films']\n",
    "            } for people in people_list]"
   ]
  },
  {
   "cell_type": "code",
   "execution_count": 24,
   "metadata": {
    "collapsed": true
   },
   "outputs": [],
   "source": [
    "def get_all_people():\n",
    "    return clean_people(requests.get(\"http://swapi.co/api/people/\").json()['results'])"
   ]
  },
  {
   "cell_type": "code",
   "execution_count": 25,
   "metadata": {
    "collapsed": true
   },
   "outputs": [],
   "source": [
    "def get_people_details(input_name):\n",
    "    cleaned_people = get_all_people()\n",
    "    for people in cleaned_people:\n",
    "        if people[\"name\"] == input_name:\n",
    "            return people"
   ]
  },
  {
   "cell_type": "code",
   "execution_count": 27,
   "metadata": {
    "collapsed": false
   },
   "outputs": [
    {
     "data": {
      "text/plain": [
       "['The Force Awakens',\n",
       " 'Revenge of the Sith',\n",
       " 'Return of the Jedi',\n",
       " 'The Empire Strikes Back',\n",
       " 'A New Hope']"
      ]
     },
     "execution_count": 27,
     "metadata": {},
     "output_type": "execute_result"
    }
   ],
   "source": [
    "get_movies_for_person(get_people_details(\"Luke Skywalker\"))"
   ]
  },
  {
   "cell_type": "code",
   "execution_count": 28,
   "metadata": {
    "collapsed": true
   },
   "outputs": [],
   "source": [
    "SID = \"ACf5621a7aa589028f8599c048067ab692\"\n",
    "SECRET = "
   ]
  },
  {
   "cell_type": "code",
   "execution_count": 29,
   "metadata": {
    "collapsed": true
   },
   "outputs": [],
   "source": [
    "data = {\"Body\": \"This is a test of twilio\", \"From\":\"+17023187997\", \"To\":\"+19703108303\"}"
   ]
  },
  {
   "cell_type": "code",
   "execution_count": 30,
   "metadata": {
    "collapsed": true
   },
   "outputs": [],
   "source": [
    "from requests.auth import HTTPBasicAuth"
   ]
  },
  {
   "cell_type": "code",
   "execution_count": 35,
   "metadata": {
    "collapsed": true
   },
   "outputs": [],
   "source": [
    "response = requests.post(\"https://api.twilio.com/2010-04-01/Accounts/ACf5621a7aa589028f8599c048067ab692/Messages.json\",\n",
    "                        data=data, auth=HTTPBasicAuth(SID, SECRET))"
   ]
  },
  {
   "cell_type": "code",
   "execution_count": 32,
   "metadata": {
    "collapsed": false
   },
   "outputs": [
    {
     "data": {
      "text/plain": [
       "201"
      ]
     },
     "execution_count": 32,
     "metadata": {},
     "output_type": "execute_result"
    }
   ],
   "source": [
    "response.status_code"
   ]
  },
  {
   "cell_type": "code",
   "execution_count": 33,
   "metadata": {
    "collapsed": false
   },
   "outputs": [
    {
     "data": {
      "text/plain": [
       "b'{\"sid\": \"SM230153118cca43b8b2438695dac7c3b8\", \"date_created\": \"Tue, 18 Aug 2015 17:44:44 +0000\", \"date_updated\": \"Tue, 18 Aug 2015 17:44:44 +0000\", \"date_sent\": null, \"account_sid\": \"ACf5621a7aa589028f8599c048067ab692\", \"to\": \"+19703108303\", \"from\": \"+17023187997\", \"body\": \"This is a test of twilio\", \"status\": \"queued\", \"num_segments\": \"1\", \"num_media\": \"0\", \"direction\": \"outbound-api\", \"api_version\": \"2010-04-01\", \"price\": null, \"price_unit\": \"USD\", \"error_code\": null, \"error_message\": null, \"uri\": \"/2010-04-01/Accounts/ACf5621a7aa589028f8599c048067ab692/Messages/SM230153118cca43b8b2438695dac7c3b8.json\", \"subresource_uris\": {\"media\": \"/2010-04-01/Accounts/ACf5621a7aa589028f8599c048067ab692/Messages/SM230153118cca43b8b2438695dac7c3b8/Media.json\"}}'"
      ]
     },
     "execution_count": 33,
     "metadata": {},
     "output_type": "execute_result"
    }
   ],
   "source": [
    "response.content"
   ]
  },
  {
   "cell_type": "code",
   "execution_count": 34,
   "metadata": {
    "collapsed": false
   },
   "outputs": [
    {
     "data": {
      "text/plain": [
       "{'account_sid': 'ACf5621a7aa589028f8599c048067ab692',\n",
       " 'api_version': '2010-04-01',\n",
       " 'body': 'This is a test of twilio',\n",
       " 'date_created': 'Tue, 18 Aug 2015 17:44:44 +0000',\n",
       " 'date_sent': None,\n",
       " 'date_updated': 'Tue, 18 Aug 2015 17:44:44 +0000',\n",
       " 'direction': 'outbound-api',\n",
       " 'error_code': None,\n",
       " 'error_message': None,\n",
       " 'from': '+17023187997',\n",
       " 'num_media': '0',\n",
       " 'num_segments': '1',\n",
       " 'price': None,\n",
       " 'price_unit': 'USD',\n",
       " 'sid': 'SM230153118cca43b8b2438695dac7c3b8',\n",
       " 'status': 'queued',\n",
       " 'subresource_uris': {'media': '/2010-04-01/Accounts/ACf5621a7aa589028f8599c048067ab692/Messages/SM230153118cca43b8b2438695dac7c3b8/Media.json'},\n",
       " 'to': '+19703108303',\n",
       " 'uri': '/2010-04-01/Accounts/ACf5621a7aa589028f8599c048067ab692/Messages/SM230153118cca43b8b2438695dac7c3b8.json'}"
      ]
     },
     "execution_count": 34,
     "metadata": {},
     "output_type": "execute_result"
    }
   ],
   "source": [
    "response.json()"
   ]
  },
  {
   "cell_type": "code",
   "execution_count": null,
   "metadata": {
    "collapsed": true
   },
   "outputs": [],
   "source": []
  }
 ],
 "metadata": {
  "kernelspec": {
   "display_name": "Python 3",
   "language": "python",
   "name": "python3"
  },
  "language_info": {
   "codemirror_mode": {
    "name": "ipython",
    "version": 3
   },
   "file_extension": ".py",
   "mimetype": "text/x-python",
   "name": "python",
   "nbconvert_exporter": "python",
   "pygments_lexer": "ipython3",
   "version": "3.4.3"
  }
 },
 "nbformat": 4,
 "nbformat_minor": 0
}
