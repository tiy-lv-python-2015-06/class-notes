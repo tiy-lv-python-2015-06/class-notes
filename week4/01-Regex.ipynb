{
 "cells": [
  {
   "cell_type": "markdown",
   "metadata": {},
   "source": [
    "Regular expressions (regexes) are, when you understand them, one of the most fun things you can work with in programming. They are a mini-language for matching text.\n",
    "\n",
    "The first thing to know is that non-special characters match themselves in text."
   ]
  },
  {
   "cell_type": "code",
   "execution_count": 1,
   "metadata": {
    "collapsed": false
   },
   "outputs": [
    {
     "name": "stdout",
     "output_type": "stream",
     "text": [
      "Help on function search in module re:\n",
      "\n",
      "search(pattern, string, flags=0)\n",
      "    Scan through string looking for a match to the pattern, returning\n",
      "    a match object, or None if no match was found.\n",
      "\n"
     ]
    }
   ],
   "source": [
    "import re\n",
    "help(re.search)"
   ]
  },
  {
   "cell_type": "code",
   "execution_count": 2,
   "metadata": {
    "collapsed": false
   },
   "outputs": [
    {
     "data": {
      "text/plain": [
       "<_sre.SRE_Match object; span=(1, 2), match='e'>"
      ]
     },
     "execution_count": 2,
     "metadata": {},
     "output_type": "execute_result"
    }
   ],
   "source": [
    "re.search(r\"e\", \"hello\")"
   ]
  },
  {
   "cell_type": "code",
   "execution_count": 3,
   "metadata": {
    "collapsed": false
   },
   "outputs": [
    {
     "data": {
      "text/plain": [
       "<_sre.SRE_Match object; span=(2, 3), match='l'>"
      ]
     },
     "execution_count": 3,
     "metadata": {},
     "output_type": "execute_result"
    }
   ],
   "source": [
    "re.search(r\"l\", \"hello\")"
   ]
  },
  {
   "cell_type": "code",
   "execution_count": 4,
   "metadata": {
    "collapsed": true
   },
   "outputs": [],
   "source": [
    "sentence = (\"A symmetry of a pattern is, loosely speaking, a way of transforming \"\n",
    "            \"the pattern so that the pattern looks exactly the same after the \"\n",
    "            \"transformation.\")"
   ]
  },
  {
   "cell_type": "code",
   "execution_count": 5,
   "metadata": {
    "collapsed": false
   },
   "outputs": [
    {
     "data": {
      "text/plain": [
       "<_sre.SRE_Match object; span=(16, 23), match='pattern'>"
      ]
     },
     "execution_count": 5,
     "metadata": {},
     "output_type": "execute_result"
    }
   ],
   "source": [
    "re.search(r\"pattern\", sentence)"
   ]
  },
  {
   "cell_type": "code",
   "execution_count": 6,
   "metadata": {
    "collapsed": false
   },
   "outputs": [
    {
     "data": {
      "text/plain": [
       "['pattern', 'pattern', 'pattern']"
      ]
     },
     "execution_count": 6,
     "metadata": {},
     "output_type": "execute_result"
    }
   ],
   "source": [
    "re.findall(r\"pattern\", sentence)"
   ]
  },
  {
   "cell_type": "code",
   "execution_count": 7,
   "metadata": {
    "collapsed": false
   },
   "outputs": [
    {
     "data": {
      "text/plain": [
       "['at', 'at', 'at', 'at', 'at']"
      ]
     },
     "execution_count": 7,
     "metadata": {},
     "output_type": "execute_result"
    }
   ],
   "source": [
    "re.findall(r\"at\", sentence)"
   ]
  },
  {
   "cell_type": "markdown",
   "metadata": {},
   "source": [
    "#Matching Anything\n",
    "The . (period) character matches anything (except a newline). We can use this to find strings that match wildcards, like \"a double-o followed by any character.\""
   ]
  },
  {
   "cell_type": "code",
   "execution_count": 8,
   "metadata": {
    "collapsed": false
   },
   "outputs": [
    {
     "data": {
      "text/plain": [
       "<_sre.SRE_Match object; span=(29, 32), match='oos'>"
      ]
     },
     "execution_count": 8,
     "metadata": {},
     "output_type": "execute_result"
    }
   ],
   "source": [
    "re.search(r\"oo.\", sentence)"
   ]
  },
  {
   "cell_type": "markdown",
   "metadata": {},
   "source": [
    "See how the match is \"oos\"."
   ]
  },
  {
   "cell_type": "code",
   "execution_count": 9,
   "metadata": {
    "collapsed": false
   },
   "outputs": [
    {
     "data": {
      "text/plain": [
       "<_sre.SRE_Match object; span=(28, 32), match='loos'>"
      ]
     },
     "execution_count": 9,
     "metadata": {},
     "output_type": "execute_result"
    }
   ],
   "source": [
    "re.search(r\".oo.\", sentence)"
   ]
  },
  {
   "cell_type": "code",
   "execution_count": 11,
   "metadata": {
    "collapsed": false
   },
   "outputs": [
    {
     "data": {
      "text/plain": [
       "<_sre.SRE_Match object; span=(28, 33), match='loose'>"
      ]
     },
     "execution_count": 11,
     "metadata": {},
     "output_type": "execute_result"
    }
   ],
   "source": [
    "re.search(r\".oo..\", sentence)"
   ]
  },
  {
   "cell_type": "code",
   "execution_count": 12,
   "metadata": {
    "collapsed": false
   },
   "outputs": [
    {
     "data": {
      "text/plain": [
       "<_sre.SRE_Match object; span=(147, 148), match='.'>"
      ]
     },
     "execution_count": 12,
     "metadata": {},
     "output_type": "execute_result"
    }
   ],
   "source": [
    "re.search(r\"\\.\", sentence)"
   ]
  },
  {
   "cell_type": "code",
   "execution_count": 14,
   "metadata": {
    "collapsed": false
   },
   "outputs": [],
   "source": [
    "re.search(r\"xjeiorajgfioeajthi\", sentence)"
   ]
  },
  {
   "cell_type": "code",
   "execution_count": 15,
   "metadata": {
    "collapsed": false
   },
   "outputs": [
    {
     "name": "stdout",
     "output_type": "stream",
     "text": [
      "['h', 'h']\n",
      "['H', 'h', 'H', 'h']\n"
     ]
    }
   ],
   "source": [
    "print(re.findall(r\"h\", \"Hello there! How may I help you?\"))\n",
    "print(re.findall(r\"h\", \"Hello there! How may I help you?\", re.IGNORECASE))"
   ]
  },
  {
   "cell_type": "markdown",
   "metadata": {},
   "source": [
    "#What can I do with a match object?"
   ]
  },
  {
   "cell_type": "code",
   "execution_count": 16,
   "metadata": {
    "collapsed": false
   },
   "outputs": [
    {
     "name": "stdout",
     "output_type": "stream",
     "text": [
      "Help on SRE_Match object:\n",
      "\n",
      "class SRE_Match(builtins.object)\n",
      " |  The result of re.match() and re.search().\n",
      " |  Match objects always have a boolean value of True.\n",
      " |  \n",
      " |  Methods defined here:\n",
      " |  \n",
      " |  __copy__(...)\n",
      " |  \n",
      " |  __deepcopy__(...)\n",
      " |  \n",
      " |  __repr__(self, /)\n",
      " |      Return repr(self).\n",
      " |  \n",
      " |  end(...)\n",
      " |      end([group=0]) -> int.\n",
      " |      Return index of the end of the substring matched by group.\n",
      " |  \n",
      " |  expand(...)\n",
      " |      expand(template) -> str.\n",
      " |      Return the string obtained by doing backslash substitution\n",
      " |      on the string template, as done by the sub() method.\n",
      " |  \n",
      " |  group(...)\n",
      " |      group([group1, ...]) -> str or tuple.\n",
      " |      Return subgroup(s) of the match by indices or names.\n",
      " |      For 0 returns the entire match.\n",
      " |  \n",
      " |  groupdict(...)\n",
      " |      groupdict([default=None]) -> dict.\n",
      " |      Return a dictionary containing all the named subgroups of the match,\n",
      " |      keyed by the subgroup name. The default argument is used for groups\n",
      " |      that did not participate in the match\n",
      " |  \n",
      " |  groups(...)\n",
      " |      groups([default=None]) -> tuple.\n",
      " |      Return a tuple containing all the subgroups of the match, from 1.\n",
      " |      The default argument is used for groups\n",
      " |      that did not participate in the match\n",
      " |  \n",
      " |  span(...)\n",
      " |      span([group]) -> tuple.\n",
      " |      For MatchObject m, return the 2-tuple (m.start(group), m.end(group)).\n",
      " |  \n",
      " |  start(...)\n",
      " |      start([group=0]) -> int.\n",
      " |      Return index of the start of the substring matched by group.\n",
      " |  \n",
      " |  ----------------------------------------------------------------------\n",
      " |  Data descriptors defined here:\n",
      " |  \n",
      " |  endpos\n",
      " |  \n",
      " |  lastgroup\n",
      " |  \n",
      " |  lastindex\n",
      " |  \n",
      " |  pos\n",
      " |  \n",
      " |  re\n",
      " |  \n",
      " |  regs\n",
      " |  \n",
      " |  string\n",
      "\n"
     ]
    }
   ],
   "source": [
    "match = re.search(\"pattern\", sentence)\n",
    "help(match)"
   ]
  },
  {
   "cell_type": "code",
   "execution_count": 17,
   "metadata": {
    "collapsed": true
   },
   "outputs": [],
   "source": [
    "import antigravity"
   ]
  },
  {
   "cell_type": "markdown",
   "metadata": {},
   "source": [
    "#Start and end matches\n",
    "You often want to match something if and only if it is at the beginning or end of a string.\n",
    "\n",
    "^ matches the beginning of a string.\n",
    "\n",
    "$ matches the end of a string."
   ]
  },
  {
   "cell_type": "code",
   "execution_count": 18,
   "metadata": {
    "collapsed": false
   },
   "outputs": [
    {
     "data": {
      "text/plain": [
       "<_sre.SRE_Match object; span=(0, 2), match='A '>"
      ]
     },
     "execution_count": 18,
     "metadata": {},
     "output_type": "execute_result"
    }
   ],
   "source": [
    "re.search(r\"^A \", sentence)"
   ]
  },
  {
   "cell_type": "code",
   "execution_count": 19,
   "metadata": {
    "collapsed": true
   },
   "outputs": [],
   "source": [
    "re.search(r\"^pattern\", sentence)"
   ]
  },
  {
   "cell_type": "code",
   "execution_count": 20,
   "metadata": {
    "collapsed": false
   },
   "outputs": [
    {
     "data": {
      "text/plain": [
       "<_sre.SRE_Match object; span=(146, 148), match='n.'>"
      ]
     },
     "execution_count": 20,
     "metadata": {},
     "output_type": "execute_result"
    }
   ],
   "source": [
    "re.search(r\"n.$\", sentence)"
   ]
  },
  {
   "cell_type": "code",
   "execution_count": 47,
   "metadata": {
    "collapsed": false
   },
   "outputs": [
    {
     "data": {
      "text/plain": [
       "<_sre.SRE_Match object; span=(146, 148), match='n.'>"
      ]
     },
     "execution_count": 47,
     "metadata": {},
     "output_type": "execute_result"
    }
   ],
   "source": [
    "re.search(r\"n\\.$\", sentence)"
   ]
  },
  {
   "cell_type": "code",
   "execution_count": 48,
   "metadata": {
    "collapsed": true
   },
   "outputs": [],
   "source": [
    "re.search(r\"n\\.$\", \"I like singing\")"
   ]
  },
  {
   "cell_type": "markdown",
   "metadata": {},
   "source": [
    "#Matching multiples\n",
    "Often, you want to match a multiple amount of something. Whether it's 0 or more, 1 or more, 0 or 1, or something else, we've got you covered.\n",
    "* \\* matches 0 or more.\n",
    "* \\+ matches 1 or more.\n",
    "* ? matches 0 or 1.\n",
    "* {n} matches n repetitions.\n",
    "* {m,n} matches m to n repetitions. You can leave out m or n to match 0 to n, or m to infinity."
   ]
  },
  {
   "cell_type": "code",
   "execution_count": 21,
   "metadata": {
    "collapsed": false
   },
   "outputs": [
    {
     "data": {
      "text/plain": [
       "['o', 'oo', 'o', 'o', 'o', 'oo', 'o', 'o']"
      ]
     },
     "execution_count": 21,
     "metadata": {},
     "output_type": "execute_result"
    }
   ],
   "source": [
    "re.findall(r\"o+\", sentence)"
   ]
  },
  {
   "cell_type": "code",
   "execution_count": 22,
   "metadata": {
    "collapsed": false
   },
   "outputs": [
    {
     "data": {
      "text/plain": [
       "['o', 'oo', 'o', 'o', 'o', 'oo', 'o', 'o']"
      ]
     },
     "execution_count": 22,
     "metadata": {},
     "output_type": "execute_result"
    }
   ],
   "source": [
    "re.findall(r\"oo*\", sentence)"
   ]
  },
  {
   "cell_type": "code",
   "execution_count": 23,
   "metadata": {
    "collapsed": false
   },
   "outputs": [
    {
     "data": {
      "text/plain": [
       "['ooooooooo']"
      ]
     },
     "execution_count": 23,
     "metadata": {},
     "output_type": "execute_result"
    }
   ],
   "source": [
    "re.findall(r\"oo*\", \"Sooooooooon\")"
   ]
  },
  {
   "cell_type": "code",
   "execution_count": 24,
   "metadata": {
    "collapsed": false
   },
   "outputs": [
    {
     "data": {
      "text/plain": [
       "['n ', 'ng ', 'n ', 'n ']"
      ]
     },
     "execution_count": 24,
     "metadata": {},
     "output_type": "execute_result"
    }
   ],
   "source": [
    "re.findall(r\"ng? \", sentence)"
   ]
  },
  {
   "cell_type": "code",
   "execution_count": 25,
   "metadata": {
    "collapsed": true
   },
   "outputs": [],
   "source": [
    "no_a = \"b\"\n",
    "one_a = \"ab\"\n",
    "lots_of_a = \"aaaaaaaaaab\""
   ]
  },
  {
   "cell_type": "code",
   "execution_count": 27,
   "metadata": {
    "collapsed": false
   },
   "outputs": [
    {
     "name": "stdout",
     "output_type": "stream",
     "text": [
      "<_sre.SRE_Match object; span=(0, 1), match='b'>\n",
      "<_sre.SRE_Match object; span=(0, 2), match='ab'>\n",
      "<_sre.SRE_Match object; span=(0, 11), match='aaaaaaaaaab'>\n"
     ]
    }
   ],
   "source": [
    "print(re.search(r\"a*b\", no_a))\n",
    "print(re.search(r\"a*b\", one_a))\n",
    "print(re.search(r\"a*b\", lots_of_a))"
   ]
  },
  {
   "cell_type": "code",
   "execution_count": 28,
   "metadata": {
    "collapsed": false
   },
   "outputs": [
    {
     "name": "stdout",
     "output_type": "stream",
     "text": [
      "None\n",
      "<_sre.SRE_Match object; span=(0, 2), match='ab'>\n",
      "<_sre.SRE_Match object; span=(0, 11), match='aaaaaaaaaab'>\n"
     ]
    }
   ],
   "source": [
    "print(re.search(r\"a+b\", no_a))\n",
    "print(re.search(r\"a+b\", one_a))\n",
    "print(re.search(r\"a+b\", lots_of_a))"
   ]
  },
  {
   "cell_type": "code",
   "execution_count": 29,
   "metadata": {
    "collapsed": false
   },
   "outputs": [
    {
     "name": "stdout",
     "output_type": "stream",
     "text": [
      "None\n",
      "None\n",
      "<_sre.SRE_Match object; span=(8, 11), match='aab'>\n"
     ]
    }
   ],
   "source": [
    "print(re.search(r\"a{2}b\", no_a))\n",
    "print(re.search(r\"a{2}b\", one_a))\n",
    "print(re.search(r\"a{2}b\", lots_of_a))"
   ]
  },
  {
   "cell_type": "code",
   "execution_count": 30,
   "metadata": {
    "collapsed": false
   },
   "outputs": [
    {
     "name": "stdout",
     "output_type": "stream",
     "text": [
      "None\n",
      "<_sre.SRE_Match object; span=(0, 2), match='ab'>\n",
      "<_sre.SRE_Match object; span=(8, 11), match='aab'>\n"
     ]
    }
   ],
   "source": [
    "print(re.search(r\"a{1,2}b\", no_a))\n",
    "print(re.search(r\"a{1,2}b\", one_a))\n",
    "print(re.search(r\"a{1,2}b\", lots_of_a))"
   ]
  },
  {
   "cell_type": "code",
   "execution_count": 31,
   "metadata": {
    "collapsed": false
   },
   "outputs": [
    {
     "name": "stdout",
     "output_type": "stream",
     "text": [
      "None\n",
      "<_sre.SRE_Match object; span=(0, 2), match='ab'>\n",
      "<_sre.SRE_Match object; span=(0, 11), match='aaaaaaaaaab'>\n"
     ]
    }
   ],
   "source": [
    "print(re.search(r\"a{1,}b\", no_a))\n",
    "print(re.search(r\"a{1,}b\", one_a))\n",
    "print(re.search(r\"a{1,}b\", lots_of_a))"
   ]
  },
  {
   "cell_type": "code",
   "execution_count": 32,
   "metadata": {
    "collapsed": false
   },
   "outputs": [
    {
     "name": "stdout",
     "output_type": "stream",
     "text": [
      "<_sre.SRE_Match object; span=(0, 1), match='b'>\n",
      "<_sre.SRE_Match object; span=(0, 2), match='ab'>\n",
      "<_sre.SRE_Match object; span=(8, 11), match='aab'>\n"
     ]
    }
   ],
   "source": [
    "print(re.search(r\"a{,2}b\", no_a))\n",
    "print(re.search(r\"a{,2}b\", one_a))\n",
    "print(re.search(r\"a{,2}b\", lots_of_a))"
   ]
  },
  {
   "cell_type": "code",
   "execution_count": 49,
   "metadata": {
    "collapsed": false
   },
   "outputs": [
    {
     "data": {
      "text/plain": [
       "<_sre.SRE_Match object; span=(0, 7), match='abaaaab'>"
      ]
     },
     "execution_count": 49,
     "metadata": {},
     "output_type": "execute_result"
    }
   ],
   "source": [
    "re.search(r\"(a+b){2}\", \"abaaaabaab\")"
   ]
  },
  {
   "cell_type": "markdown",
   "metadata": {},
   "source": [
    "#Matching sets of things\n",
    "All the above is good, but not that useful by itself. Being able to match a group of characters is super-useful.\n",
    "\n",
    "We use square brackets to do this.\n",
    "\n",
    "* [abz] will match an a, b, or z.\n",
    "* [A-Z] matches a range of letters from A to Z.\n",
    "* [^A-Z] matches anything that isn't A to Z."
   ]
  },
  {
   "cell_type": "code",
   "execution_count": 34,
   "metadata": {
    "collapsed": false
   },
   "outputs": [
    {
     "data": {
      "text/plain": [
       "[' way ', ' the ', ' that ', ' looks ', ' the ', ' after ']"
      ]
     },
     "execution_count": 34,
     "metadata": {},
     "output_type": "execute_result"
    }
   ],
   "source": [
    "# Get words that are 3 to 5 letters long\n",
    "re.findall(r\" [A-Za-z]{3,5} \", sentence)"
   ]
  },
  {
   "cell_type": "code",
   "execution_count": 35,
   "metadata": {
    "collapsed": false
   },
   "outputs": [
    {
     "data": {
      "text/plain": [
       "<_sre.SRE_Match object; span=(6, 9), match='130'>"
      ]
     },
     "execution_count": 35,
     "metadata": {},
     "output_type": "execute_result"
    }
   ],
   "source": [
    "# Find the first number in a string\n",
    "re.search(r\"[0-9]+\", \"I ate 130 ghost peppers\")"
   ]
  },
  {
   "cell_type": "code",
   "execution_count": 36,
   "metadata": {
    "collapsed": false
   },
   "outputs": [
    {
     "data": {
      "text/plain": [
       "<_sre.SRE_Match object; span=(26, 27), match=','>"
      ]
     },
     "execution_count": 36,
     "metadata": {},
     "output_type": "execute_result"
    }
   ],
   "source": [
    "# Find all punctuation\n",
    "re.search(r\"[\\.,;?!]\", sentence)"
   ]
  },
  {
   "cell_type": "code",
   "execution_count": 50,
   "metadata": {
    "collapsed": false
   },
   "outputs": [
    {
     "data": {
      "text/plain": [
       "[',', ',', '.']"
      ]
     },
     "execution_count": 50,
     "metadata": {},
     "output_type": "execute_result"
    }
   ],
   "source": [
    "# or\n",
    "re.findall(r\"[^A-Za-z0-9 ]\", sentence)"
   ]
  },
  {
   "cell_type": "code",
   "execution_count": 51,
   "metadata": {
    "collapsed": false
   },
   "outputs": [
    {
     "data": {
      "text/plain": [
       "<_sre.SRE_Match object; span=(19, 31), match='919-555-1212'>"
      ]
     },
     "execution_count": 51,
     "metadata": {},
     "output_type": "execute_result"
    }
   ],
   "source": [
    "# Find a phone number\n",
    "re.search(r\"[0-9]{3}-[0-9]{3}-[0-9]{4}\", \"My phone number is 919-555-1212.\")"
   ]
  },
  {
   "cell_type": "markdown",
   "metadata": {},
   "source": [
    "#Character class\n",
    "\n",
    "That last match was pretty wordy. Luckily, we have something called character classes for commonly used groups of characters.\n",
    "\n",
    "* \\d matches digits.\n",
    "* \\D matches non-digits.\n",
    "* \\w matches \"word characters\": basically [a-zA-Z0-9_], plus all other valid Unicode characters that can be in words.\n",
    "* \\W matches non-word-characters.\n",
    "* \\s matches space characters -- [ \\t\\n\\r\\f\\v].\n",
    "* \\S matches non-space characters."
   ]
  },
  {
   "cell_type": "code",
   "execution_count": 37,
   "metadata": {
    "collapsed": false
   },
   "outputs": [
    {
     "data": {
      "text/plain": [
       "<_sre.SRE_Match object; span=(19, 31), match='702-555-1212'>"
      ]
     },
     "execution_count": 37,
     "metadata": {},
     "output_type": "execute_result"
    }
   ],
   "source": [
    "# Find a phone number\n",
    "re.search(r\"\\d{3}-\\d{3}-\\d{4}\", \"My phone number is 702-555-1212\")"
   ]
  },
  {
   "cell_type": "code",
   "execution_count": 38,
   "metadata": {
    "collapsed": false
   },
   "outputs": [
    {
     "data": {
      "text/plain": [
       "[',', ',', '.']"
      ]
     },
     "execution_count": 38,
     "metadata": {},
     "output_type": "execute_result"
    }
   ],
   "source": [
    "# Find all punctuation\n",
    "re.findall(r\"[^\\w\\s]\", sentence)"
   ]
  },
  {
   "cell_type": "code",
   "execution_count": 39,
   "metadata": {
    "collapsed": false,
    "scrolled": true
   },
   "outputs": [
    {
     "data": {
      "text/plain": [
       "<_sre.SRE_Match object; span=(0, 19), match='My phone number is '>"
      ]
     },
     "execution_count": 39,
     "metadata": {},
     "output_type": "execute_result"
    }
   ],
   "source": [
    "# Find a phone number\n",
    "re.search(r\"\\D*\", \"My phone number is 702-555-1212\")"
   ]
  },
  {
   "cell_type": "code",
   "execution_count": 52,
   "metadata": {
    "collapsed": false
   },
   "outputs": [
    {
     "data": {
      "text/plain": [
       "['A',\n",
       " ' ',\n",
       " 's',\n",
       " 'y',\n",
       " 'm',\n",
       " 'm',\n",
       " 'e',\n",
       " 't',\n",
       " 'r',\n",
       " 'y',\n",
       " ' ',\n",
       " 'o',\n",
       " 'f',\n",
       " ' ',\n",
       " 'a',\n",
       " ' ',\n",
       " 'p',\n",
       " 'a',\n",
       " 't',\n",
       " 't',\n",
       " 'e',\n",
       " 'r',\n",
       " 'n',\n",
       " ' ',\n",
       " 'i',\n",
       " 's',\n",
       " ',',\n",
       " ' ',\n",
       " 'l',\n",
       " 'o',\n",
       " 'o',\n",
       " 's',\n",
       " 'e',\n",
       " 'l',\n",
       " 'y',\n",
       " ' ',\n",
       " 's',\n",
       " 'p',\n",
       " 'e',\n",
       " 'a',\n",
       " 'k',\n",
       " 'i',\n",
       " 'n',\n",
       " 'g',\n",
       " ',',\n",
       " ' ',\n",
       " 'a',\n",
       " ' ',\n",
       " 'w',\n",
       " 'a',\n",
       " 'y',\n",
       " ' ',\n",
       " 'o',\n",
       " 'f',\n",
       " ' ',\n",
       " 't',\n",
       " 'r',\n",
       " 'a',\n",
       " 'n',\n",
       " 's',\n",
       " 'f',\n",
       " 'o',\n",
       " 'r',\n",
       " 'm',\n",
       " 'i',\n",
       " 'n',\n",
       " 'g',\n",
       " ' ',\n",
       " 't',\n",
       " 'h',\n",
       " 'e',\n",
       " ' ',\n",
       " 'p',\n",
       " 'a',\n",
       " 't',\n",
       " 't',\n",
       " 'e',\n",
       " 'r',\n",
       " 'n',\n",
       " ' ',\n",
       " 's',\n",
       " 'o',\n",
       " ' ',\n",
       " 't',\n",
       " 'h',\n",
       " 'a',\n",
       " 't',\n",
       " ' ',\n",
       " 't',\n",
       " 'h',\n",
       " 'e',\n",
       " ' ',\n",
       " 'p',\n",
       " 'a',\n",
       " 't',\n",
       " 't',\n",
       " 'e',\n",
       " 'r',\n",
       " 'n',\n",
       " ' ',\n",
       " 'l',\n",
       " 'o',\n",
       " 'o',\n",
       " 'k',\n",
       " 's',\n",
       " ' ',\n",
       " 'e',\n",
       " 'x',\n",
       " 'a',\n",
       " 'c',\n",
       " 't',\n",
       " 'l',\n",
       " 'y',\n",
       " ' ',\n",
       " 't',\n",
       " 'h',\n",
       " 'e',\n",
       " ' ',\n",
       " 's',\n",
       " 'a',\n",
       " 'm',\n",
       " 'e',\n",
       " ' ',\n",
       " 'a',\n",
       " 'f',\n",
       " 't',\n",
       " 'e',\n",
       " 'r',\n",
       " ' ',\n",
       " 't',\n",
       " 'h',\n",
       " 'e',\n",
       " ' ',\n",
       " 't',\n",
       " 'r',\n",
       " 'a',\n",
       " 'n',\n",
       " 's',\n",
       " 'f',\n",
       " 'o',\n",
       " 'r',\n",
       " 'm',\n",
       " 'a',\n",
       " 't',\n",
       " 'i',\n",
       " 'o',\n",
       " 'n',\n",
       " '.']"
      ]
     },
     "execution_count": 52,
     "metadata": {},
     "output_type": "execute_result"
    }
   ],
   "source": [
    "# Find all punctuation -- why doesn't this work?\n",
    "re.findall(r\"[\\W\\S]\", sentence)"
   ]
  },
  {
   "cell_type": "code",
   "execution_count": 41,
   "metadata": {
    "collapsed": false
   },
   "outputs": [
    {
     "data": {
      "text/plain": [
       "['A',\n",
       " 's',\n",
       " 'y',\n",
       " 'm',\n",
       " 'm',\n",
       " 'e',\n",
       " 't',\n",
       " 'r',\n",
       " 'y',\n",
       " 'o',\n",
       " 'f',\n",
       " 'a',\n",
       " 'p',\n",
       " 'a',\n",
       " 't',\n",
       " 't',\n",
       " 'e',\n",
       " 'r',\n",
       " 'n',\n",
       " 'i',\n",
       " 's',\n",
       " ',',\n",
       " 'l',\n",
       " 'o',\n",
       " 'o',\n",
       " 's',\n",
       " 'e',\n",
       " 'l',\n",
       " 'y',\n",
       " 's',\n",
       " 'p',\n",
       " 'e',\n",
       " 'a',\n",
       " 'k',\n",
       " 'i',\n",
       " 'n',\n",
       " 'g',\n",
       " ',',\n",
       " 'a',\n",
       " 'w',\n",
       " 'a',\n",
       " 'y',\n",
       " 'o',\n",
       " 'f',\n",
       " 't',\n",
       " 'r',\n",
       " 'a',\n",
       " 'n',\n",
       " 's',\n",
       " 'f',\n",
       " 'o',\n",
       " 'r',\n",
       " 'm',\n",
       " 'i',\n",
       " 'n',\n",
       " 'g',\n",
       " 't',\n",
       " 'h',\n",
       " 'e',\n",
       " 'p',\n",
       " 'a',\n",
       " 't',\n",
       " 't',\n",
       " 'e',\n",
       " 'r',\n",
       " 'n',\n",
       " 's',\n",
       " 'o',\n",
       " 't',\n",
       " 'h',\n",
       " 'a',\n",
       " 't',\n",
       " 't',\n",
       " 'h',\n",
       " 'e',\n",
       " 'p',\n",
       " 'a',\n",
       " 't',\n",
       " 't',\n",
       " 'e',\n",
       " 'r',\n",
       " 'n',\n",
       " 'l',\n",
       " 'o',\n",
       " 'o',\n",
       " 'k',\n",
       " 's',\n",
       " 'e',\n",
       " 'x',\n",
       " 'a',\n",
       " 'c',\n",
       " 't',\n",
       " 'l',\n",
       " 'y',\n",
       " 't',\n",
       " 'h',\n",
       " 'e',\n",
       " 's',\n",
       " 'a',\n",
       " 'm',\n",
       " 'e',\n",
       " 'a',\n",
       " 'f',\n",
       " 't',\n",
       " 'e',\n",
       " 'r',\n",
       " 't',\n",
       " 'h',\n",
       " 'e',\n",
       " 't',\n",
       " 'r',\n",
       " 'a',\n",
       " 'n',\n",
       " 's',\n",
       " 'f',\n",
       " 'o',\n",
       " 'r',\n",
       " 'm',\n",
       " 'a',\n",
       " 't',\n",
       " 'i',\n",
       " 'o',\n",
       " 'n',\n",
       " '.']"
      ]
     },
     "execution_count": 41,
     "metadata": {},
     "output_type": "execute_result"
    }
   ],
   "source": [
    "re.findall(r\"\\S\", sentence)"
   ]
  },
  {
   "cell_type": "markdown",
   "metadata": {},
   "source": [
    "There's a few odder ones:\n",
    "* \\A matches the beginning of the string. This is a lot like ^, but different for multi-line strings.\n",
    "* \\Z matches the end of the string. This is a lot like $, but different for multi-line strings.\n",
    "* \\b matches a word boundary. This means it matches an empty string at the end of a word."
   ]
  },
  {
   "cell_type": "code",
   "execution_count": 53,
   "metadata": {
    "collapsed": false
   },
   "outputs": [
    {
     "data": {
      "text/plain": [
       "['way', 'the', 'that', 'the', 'looks', 'the', 'same', 'after', 'the']"
      ]
     },
     "execution_count": 53,
     "metadata": {},
     "output_type": "execute_result"
    }
   ],
   "source": [
    "# Get words three to five letters long\n",
    "re.findall(r\"\\b\\w{3,5}\\b\", sentence)"
   ]
  },
  {
   "cell_type": "code",
   "execution_count": 54,
   "metadata": {
    "collapsed": false
   },
   "outputs": [
    {
     "name": "stdout",
     "output_type": "stream",
     "text": [
      "['g.', 't.']\n",
      "['t.']\n"
     ]
    }
   ],
   "source": [
    "text = \"\"\"This is a multi-line string.\n",
    "It has newlines in it.\"\"\"\n",
    "\n",
    "print(re.findall(r\"\\w\\.$\", text, re.MULTILINE))\n",
    "print(re.findall(r\"\\w\\.\\Z\", text, re.MULTILINE))"
   ]
  },
  {
   "cell_type": "code",
   "execution_count": 56,
   "metadata": {
    "collapsed": false
   },
   "outputs": [
    {
     "data": {
      "text/plain": [
       "['beanguy@example.org', 'terry@example.org', 'hi@example.org']"
      ]
     },
     "execution_count": 56,
     "metadata": {},
     "output_type": "execute_result"
    }
   ],
   "source": [
    "# Pick out email addresses\n",
    "possible_emails = [\"clinton\", \"jeff.newburn@theironyard.com\", \"beanguy@example.org\", \n",
    "                   \"Email help@example.org for more information\",\n",
    "                   \"terry@example.org\", \"@carmen\", \"what@what\", \"hi@example.org\"]\n",
    "[possibility \n",
    " for possibility in possible_emails \n",
    " if re.search(\"\\A\\w+@\\w+\\.\\w{2,3}\\Z\", possibility)]"
   ]
  },
  {
   "cell_type": "markdown",
   "metadata": {},
   "source": [
    "Note that a regex for emails is more complex than this. It's not that hard, though:\n",
    "\n",
    "```[a-z0-9!#$%&'*+/=?^_`{|}~-]+(?:\\.[a-z0-9!#$%&'*+/=?^_`{|}~-]+)*@(?:[a-z0-9](?:[a-z0-9-]*[a-z0-9])?\\.)+[a-z0-9](?:[a-z0-9-]*[a-z0-9])?```"
   ]
  },
  {
   "cell_type": "markdown",
   "metadata": {},
   "source": [
    "#Capturing Matches\n",
    "We often want to capture part of a match for later use. You can use parentheses to mark part of your regex as something you will capture."
   ]
  },
  {
   "cell_type": "code",
   "execution_count": 43,
   "metadata": {
    "collapsed": false
   },
   "outputs": [
    {
     "data": {
      "text/plain": [
       "('1112 S Casino Center',)"
      ]
     },
     "execution_count": 43,
     "metadata": {},
     "output_type": "execute_result"
    }
   ],
   "source": [
    "foo = \"I live at 1112 S Casino Center, Las Vegas NV 90104\"\n",
    "match = re.search(\"I live at (.*), Las Vegas\", foo)\n",
    "match.groups()"
   ]
  },
  {
   "cell_type": "code",
   "execution_count": 57,
   "metadata": {
    "collapsed": false
   },
   "outputs": [
    {
     "name": "stdout",
     "output_type": "stream",
     "text": [
      "City: Decatur | State: GA\n",
      "City: Wilkesboro | State: NC\n",
      "City: Wichita Falls | State: TX\n"
     ]
    }
   ],
   "source": [
    "possibilities = [\"Decatur, GA\", \"Wilkesboro, NC\", \"Seattle\", \"Wichita Falls, TX\", \"DC\"]\n",
    "for possibility in possibilities:\n",
    "    match = re.search(r\"^([\\w\\s]+), ([A-Z]{2})\", possibility)\n",
    "    if match:\n",
    "        city, state = match.groups()\n",
    "        print(\"City:\", city, \"| State:\", state)"
   ]
  },
  {
   "cell_type": "code",
   "execution_count": 45,
   "metadata": {
    "collapsed": false
   },
   "outputs": [
    {
     "data": {
      "text/plain": [
       "['999-555-1212', '703-555-9999', '800-555-7341', '314-555-8286']"
      ]
     },
     "execution_count": 45,
     "metadata": {},
     "output_type": "execute_result"
    }
   ],
   "source": [
    "phone_nums = [\"999-555-1212\", \"(703) 555-9999\", \"800.555.7341\", \"3145558286\"]\n",
    "cleaned = []\n",
    "for num in phone_nums:\n",
    "    match = re.search(r\"\\(?(\\d{3})\\)?[\\-\\.]?\\s*(\\d{3})[\\-\\.]?(\\d{4})\",num)\n",
    "    cleaned.append(\"{}-{}-{}\".format(*match.groups()))\n",
    "cleaned"
   ]
  },
  {
   "cell_type": "markdown",
   "metadata": {},
   "source": [
    "#Non-capturing group\n",
    "Use (?:) to make a group but not capture it."
   ]
  },
  {
   "cell_type": "code",
   "execution_count": 58,
   "metadata": {
    "collapsed": false
   },
   "outputs": [
    {
     "name": "stdout",
     "output_type": "stream",
     "text": [
      "['999-555-1212', '703-555-9999', '800-555-7341', '314-555-8286', 'None-555-1212']\n"
     ]
    }
   ],
   "source": [
    "phone_num_with_possible_area_code = r\"(?:\\(?(\\d{3})\\)?[\\-\\.]?\\s*)?(\\d{3})[\\-\\.]?(\\d{4})\"\n",
    "phone_nums = [\"999-555-1212\", \"(703) 555-9999\", \"800.555.7341\", \"3145558286\", \"555-1212\"]\n",
    "cleaned = []\n",
    "for num in phone_nums:\n",
    "    match = re.search(phone_num_with_possible_area_code, num)\n",
    "    cleaned.append(\"{}-{}-{}\".format(*match.groups()))\n",
    "print(cleaned)"
   ]
  },
  {
   "cell_type": "code",
   "execution_count": 46,
   "metadata": {
    "collapsed": false
   },
   "outputs": [
    {
     "name": "stdout",
     "output_type": "stream",
     "text": [
      "('999', '555', '1212')\n",
      "('703', '555', '9999')\n",
      "('800', '555', '7341')\n",
      "('314', '555', '8286')\n",
      "(None, '555', '1212')\n"
     ]
    }
   ],
   "source": [
    "phone_num_with_possible_area_code  = r\"(?:\\(?(\\d{3})\\)?[\\-\\.]?\\s*)?(\\d{3})[\\-\\.]?(\\d{4})\"\n",
    "phone_nums = [\"999-555-1212\", \"(703) 555-9999\", \"800.555.7341\", \"3145558286\", \"555-1212\"]\n",
    "for num in phone_nums:\n",
    "    match = re.search(phone_num_with_possible_area_code, num)\n",
    "    print(match.groups())"
   ]
  },
  {
   "cell_type": "code",
   "execution_count": 59,
   "metadata": {
    "collapsed": false
   },
   "outputs": [
    {
     "data": {
      "text/plain": [
       "<_sre.SRE_Match object; span=(4, 12), match='abababab'>"
      ]
     },
     "execution_count": 59,
     "metadata": {},
     "output_type": "execute_result"
    }
   ],
   "source": [
    "re.search(r\"(?:ab)+\", \"ccccababababcccccab\")"
   ]
  },
  {
   "cell_type": "markdown",
   "metadata": {},
   "source": [
    "#Scratching the surface\n",
    "This is just the beginning with regular expressions. You can go really deep down this hole.\n",
    "* [Python regex docs](https://docs.python.org/3/library/re.html)\n",
    "* [Regexr](http://www.regexr.com/)\n",
    "* [Regex One](http://regexone.com/)\n",
    "* [Regular-Expressions.info](http://www.regular-expressions.info/)"
   ]
  }
 ],
 "metadata": {
  "kernelspec": {
   "display_name": "Python 3",
   "language": "python",
   "name": "python3"
  },
  "language_info": {
   "codemirror_mode": {
    "name": "ipython",
    "version": 3
   },
   "file_extension": ".py",
   "mimetype": "text/x-python",
   "name": "python",
   "nbconvert_exporter": "python",
   "pygments_lexer": "ipython3",
   "version": "3.4.3"
  }
 },
 "nbformat": 4,
 "nbformat_minor": 0
}
