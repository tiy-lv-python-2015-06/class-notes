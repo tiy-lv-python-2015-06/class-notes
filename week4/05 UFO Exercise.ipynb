{
 "cells": [
  {
   "cell_type": "code",
   "execution_count": null,
   "metadata": {
    "collapsed": false
   },
   "outputs": [],
   "source": [
    "inpath = 'ufo_awesome.tsv'\n",
    "inf = open(inpath, 'r')\n",
    "\n",
    "for i, line in enumerate(inf):\n",
    "    splitline = line.split('\\\\t')\n",
    "    if len(splitline) != 6:\n",
    "        first_bad_line = splitline\n",
    "        print(\"First bad row:\", i)\n",
    "        for j, col in enumerate(first_bad_line):\n",
    "            print(j, col)\n",
    "        break\n",
    "\n",
    "inf.close()"
   ]
  },
  {
   "cell_type": "code",
   "execution_count": 22,
   "metadata": {
    "collapsed": true
   },
   "outputs": [],
   "source": [
    "import pandas as pd\n",
    "import datetime\n",
    "import numpy as np\n",
    "import matplotlib.pyplot as plt"
   ]
  },
  {
   "cell_type": "code",
   "execution_count": 23,
   "metadata": {
    "collapsed": true
   },
   "outputs": [],
   "source": [
    "%matplotlib inline"
   ]
  },
  {
   "cell_type": "code",
   "execution_count": 24,
   "metadata": {
    "collapsed": true
   },
   "outputs": [],
   "source": [
    "col_names = [\"date_occurred\", \"date_reported\", \"location\", \"short_desc\", \"duration\", \"description\"]\n",
    "ufo = pd.read_csv(\"ufo_awesome.tsv\", sep=\"\\t\", names=col_names, na_values=[\"0000\"], dtype=str)"
   ]
  },
  {
   "cell_type": "code",
   "execution_count": 25,
   "metadata": {
    "collapsed": false
   },
   "outputs": [
    {
     "data": {
      "text/html": [
       "<div>\n",
       "<table border=\"1\" class=\"dataframe\">\n",
       "  <thead>\n",
       "    <tr style=\"text-align: right;\">\n",
       "      <th></th>\n",
       "      <th>date_occurred</th>\n",
       "      <th>date_reported</th>\n",
       "      <th>location</th>\n",
       "      <th>short_desc</th>\n",
       "      <th>duration</th>\n",
       "      <th>description</th>\n",
       "    </tr>\n",
       "  </thead>\n",
       "  <tbody>\n",
       "    <tr>\n",
       "      <th>0</th>\n",
       "      <td>19951009</td>\n",
       "      <td>19951009</td>\n",
       "      <td>Iowa City, IA</td>\n",
       "      <td>NaN</td>\n",
       "      <td>NaN</td>\n",
       "      <td>Man repts. witnessing &amp;quot;flash, followed by...</td>\n",
       "    </tr>\n",
       "    <tr>\n",
       "      <th>1</th>\n",
       "      <td>19951010</td>\n",
       "      <td>19951011</td>\n",
       "      <td>Milwaukee, WI</td>\n",
       "      <td>NaN</td>\n",
       "      <td>2 min.</td>\n",
       "      <td>Man  on Hwy 43 SW of Milwaukee sees large, bri...</td>\n",
       "    </tr>\n",
       "    <tr>\n",
       "      <th>2</th>\n",
       "      <td>19950101</td>\n",
       "      <td>19950103</td>\n",
       "      <td>Shelton, WA</td>\n",
       "      <td>NaN</td>\n",
       "      <td>NaN</td>\n",
       "      <td>Telephoned Report:CA woman visiting daughter w...</td>\n",
       "    </tr>\n",
       "    <tr>\n",
       "      <th>3</th>\n",
       "      <td>19950510</td>\n",
       "      <td>19950510</td>\n",
       "      <td>Columbia, MO</td>\n",
       "      <td>NaN</td>\n",
       "      <td>2 min.</td>\n",
       "      <td>Man repts. son&amp;apos;s bizarre sighting of smal...</td>\n",
       "    </tr>\n",
       "    <tr>\n",
       "      <th>4</th>\n",
       "      <td>19950611</td>\n",
       "      <td>19950614</td>\n",
       "      <td>Seattle, WA</td>\n",
       "      <td>NaN</td>\n",
       "      <td>NaN</td>\n",
       "      <td>Anonymous caller repts. sighting 4 ufo&amp;apos;s ...</td>\n",
       "    </tr>\n",
       "  </tbody>\n",
       "</table>\n",
       "</div>"
      ],
      "text/plain": [
       "  date_occurred date_reported        location short_desc duration  \\\n",
       "0      19951009      19951009   Iowa City, IA        NaN      NaN   \n",
       "1      19951010      19951011   Milwaukee, WI        NaN   2 min.   \n",
       "2      19950101      19950103     Shelton, WA        NaN      NaN   \n",
       "3      19950510      19950510    Columbia, MO        NaN   2 min.   \n",
       "4      19950611      19950614     Seattle, WA        NaN      NaN   \n",
       "\n",
       "                                         description  \n",
       "0  Man repts. witnessing &quot;flash, followed by...  \n",
       "1  Man  on Hwy 43 SW of Milwaukee sees large, bri...  \n",
       "2  Telephoned Report:CA woman visiting daughter w...  \n",
       "3  Man repts. son&apos;s bizarre sighting of smal...  \n",
       "4  Anonymous caller repts. sighting 4 ufo&apos;s ...  "
      ]
     },
     "execution_count": 25,
     "metadata": {},
     "output_type": "execute_result"
    }
   ],
   "source": [
    "ufo.head()"
   ]
  },
  {
   "cell_type": "code",
   "execution_count": 26,
   "metadata": {
    "collapsed": false
   },
   "outputs": [
    {
     "name": "stdout",
     "output_type": "stream",
     "text": [
      "<class 'pandas.core.frame.DataFrame'>\n",
      "Int64Index: 61393 entries, 0 to 61392\n",
      "Data columns (total 6 columns):\n",
      "date_occurred    61139 non-null object\n",
      "date_reported    61393 non-null object\n",
      "location         61392 non-null object\n",
      "short_desc       58870 non-null object\n",
      "duration         58956 non-null object\n",
      "description      61386 non-null object\n",
      "dtypes: object(6)\n",
      "memory usage: 3.3+ MB\n"
     ]
    }
   ],
   "source": [
    "ufo.info()"
   ]
  },
  {
   "cell_type": "code",
   "execution_count": 35,
   "metadata": {
    "collapsed": true
   },
   "outputs": [],
   "source": [
    "ufo.index = pd.to_datetime(ufo.date_reported, \"%Y%m%d\")"
   ]
  },
  {
   "cell_type": "code",
   "execution_count": 36,
   "metadata": {
    "collapsed": false
   },
   "outputs": [
    {
     "data": {
      "text/html": [
       "<div>\n",
       "<table border=\"1\" class=\"dataframe\">\n",
       "  <thead>\n",
       "    <tr style=\"text-align: right;\">\n",
       "      <th></th>\n",
       "      <th>date_occurred</th>\n",
       "      <th>date_reported</th>\n",
       "      <th>location</th>\n",
       "      <th>short_desc</th>\n",
       "      <th>duration</th>\n",
       "      <th>description</th>\n",
       "    </tr>\n",
       "    <tr>\n",
       "      <th>date_reported</th>\n",
       "      <th></th>\n",
       "      <th></th>\n",
       "      <th></th>\n",
       "      <th></th>\n",
       "      <th></th>\n",
       "      <th></th>\n",
       "    </tr>\n",
       "  </thead>\n",
       "  <tbody>\n",
       "    <tr>\n",
       "      <th>1995-10-09</th>\n",
       "      <td>19951009</td>\n",
       "      <td>19951009</td>\n",
       "      <td>Iowa City, IA</td>\n",
       "      <td>NaN</td>\n",
       "      <td>NaN</td>\n",
       "      <td>Man repts. witnessing &amp;quot;flash, followed by...</td>\n",
       "    </tr>\n",
       "    <tr>\n",
       "      <th>1995-10-11</th>\n",
       "      <td>19951010</td>\n",
       "      <td>19951011</td>\n",
       "      <td>Milwaukee, WI</td>\n",
       "      <td>NaN</td>\n",
       "      <td>2 min.</td>\n",
       "      <td>Man  on Hwy 43 SW of Milwaukee sees large, bri...</td>\n",
       "    </tr>\n",
       "    <tr>\n",
       "      <th>1995-01-03</th>\n",
       "      <td>19950101</td>\n",
       "      <td>19950103</td>\n",
       "      <td>Shelton, WA</td>\n",
       "      <td>NaN</td>\n",
       "      <td>NaN</td>\n",
       "      <td>Telephoned Report:CA woman visiting daughter w...</td>\n",
       "    </tr>\n",
       "    <tr>\n",
       "      <th>1995-05-10</th>\n",
       "      <td>19950510</td>\n",
       "      <td>19950510</td>\n",
       "      <td>Columbia, MO</td>\n",
       "      <td>NaN</td>\n",
       "      <td>2 min.</td>\n",
       "      <td>Man repts. son&amp;apos;s bizarre sighting of smal...</td>\n",
       "    </tr>\n",
       "    <tr>\n",
       "      <th>1995-06-14</th>\n",
       "      <td>19950611</td>\n",
       "      <td>19950614</td>\n",
       "      <td>Seattle, WA</td>\n",
       "      <td>NaN</td>\n",
       "      <td>NaN</td>\n",
       "      <td>Anonymous caller repts. sighting 4 ufo&amp;apos;s ...</td>\n",
       "    </tr>\n",
       "  </tbody>\n",
       "</table>\n",
       "</div>"
      ],
      "text/plain": [
       "              date_occurred date_reported        location short_desc duration  \\\n",
       "date_reported                                                                   \n",
       "1995-10-09         19951009      19951009   Iowa City, IA        NaN      NaN   \n",
       "1995-10-11         19951010      19951011   Milwaukee, WI        NaN   2 min.   \n",
       "1995-01-03         19950101      19950103     Shelton, WA        NaN      NaN   \n",
       "1995-05-10         19950510      19950510    Columbia, MO        NaN   2 min.   \n",
       "1995-06-14         19950611      19950614     Seattle, WA        NaN      NaN   \n",
       "\n",
       "                                                     description  \n",
       "date_reported                                                     \n",
       "1995-10-09     Man repts. witnessing &quot;flash, followed by...  \n",
       "1995-10-11     Man  on Hwy 43 SW of Milwaukee sees large, bri...  \n",
       "1995-01-03     Telephoned Report:CA woman visiting daughter w...  \n",
       "1995-05-10     Man repts. son&apos;s bizarre sighting of smal...  \n",
       "1995-06-14     Anonymous caller repts. sighting 4 ufo&apos;s ...  "
      ]
     },
     "execution_count": 36,
     "metadata": {},
     "output_type": "execute_result"
    }
   ],
   "source": [
    "ufo.head()"
   ]
  },
  {
   "cell_type": "code",
   "execution_count": null,
   "metadata": {
    "collapsed": false
   },
   "outputs": [],
   "source": [
    "ufo.index.to_series().map(lambda d: d.weekday())"
   ]
  },
  {
   "cell_type": "code",
   "execution_count": null,
   "metadata": {
    "collapsed": false
   },
   "outputs": [],
   "source": [
    "pd.to_datetime(ufo['date_occurred'], format=\"%Y%m%d\")"
   ]
  },
  {
   "cell_type": "code",
   "execution_count": 32,
   "metadata": {
    "collapsed": true
   },
   "outputs": [],
   "source": [
    "ufo.index = pd.to_datetime(ufo['date_reported'], format=\"%Y%m%d\")"
   ]
  },
  {
   "cell_type": "code",
   "execution_count": 37,
   "metadata": {
    "collapsed": true
   },
   "outputs": [],
   "source": [
    "import re"
   ]
  },
  {
   "cell_type": "code",
   "execution_count": 38,
   "metadata": {
    "collapsed": true
   },
   "outputs": [],
   "source": [
    "location_regex = re.compile(r'\\s*(.+), ([A-Z]{2})\\s*$')"
   ]
  },
  {
   "cell_type": "code",
   "execution_count": 39,
   "metadata": {
    "collapsed": false
   },
   "outputs": [
    {
     "name": "stdout",
     "output_type": "stream",
     "text": [
      "None\n"
     ]
    }
   ],
   "source": [
    "print(location_regex.match(\"Bill Gates\"))"
   ]
  },
  {
   "cell_type": "code",
   "execution_count": 44,
   "metadata": {
    "collapsed": true
   },
   "outputs": [],
   "source": [
    "m = location_regex.match(\"Las Vegas, NV\")"
   ]
  },
  {
   "cell_type": "code",
   "execution_count": 45,
   "metadata": {
    "collapsed": false
   },
   "outputs": [
    {
     "data": {
      "text/plain": [
       "_sre.SRE_Match"
      ]
     },
     "execution_count": 45,
     "metadata": {},
     "output_type": "execute_result"
    }
   ],
   "source": [
    "type(m)"
   ]
  },
  {
   "cell_type": "code",
   "execution_count": 41,
   "metadata": {
    "collapsed": false
   },
   "outputs": [
    {
     "data": {
      "text/plain": [
       "('Las Vegas', 'NV')"
      ]
     },
     "execution_count": 41,
     "metadata": {},
     "output_type": "execute_result"
    }
   ],
   "source": [
    "m.groups()"
   ]
  },
  {
   "cell_type": "code",
   "execution_count": 42,
   "metadata": {
    "collapsed": true
   },
   "outputs": [],
   "source": [
    "m = location_regex.match(\"Las Vegas, NVC\")"
   ]
  },
  {
   "cell_type": "code",
   "execution_count": 43,
   "metadata": {
    "collapsed": false
   },
   "outputs": [
    {
     "data": {
      "text/plain": [
       "NoneType"
      ]
     },
     "execution_count": 43,
     "metadata": {},
     "output_type": "execute_result"
    }
   ],
   "source": [
    "type(m)"
   ]
  },
  {
   "cell_type": "code",
   "execution_count": 46,
   "metadata": {
    "collapsed": true
   },
   "outputs": [],
   "source": [
    "m = location_regex.match(\"Las Vegas, NV USA\")"
   ]
  },
  {
   "cell_type": "code",
   "execution_count": 47,
   "metadata": {
    "collapsed": false
   },
   "outputs": [
    {
     "data": {
      "text/plain": [
       "NoneType"
      ]
     },
     "execution_count": 47,
     "metadata": {},
     "output_type": "execute_result"
    }
   ],
   "source": [
    "type(m)"
   ]
  },
  {
   "cell_type": "code",
   "execution_count": 48,
   "metadata": {
    "collapsed": true
   },
   "outputs": [],
   "source": [
    "def extract_city_state(loc):\n",
    "    location_regex = re.compile(r\"\\s*(.+), ([A-Z]{2})\\s*$\")\n",
    "    try:\n",
    "        match = location_regex.match(loc)\n",
    "    except TypeError:\n",
    "        match = None\n",
    "        \n",
    "    if match:\n",
    "        city, state = match.groups()\n",
    "    else:\n",
    "        city, state = (None, None)\n",
    "        \n",
    "    return city, state       "
   ]
  },
  {
   "cell_type": "code",
   "execution_count": 49,
   "metadata": {
    "collapsed": true
   },
   "outputs": [],
   "source": [
    "locations = ufo.location.map(extract_city_state)"
   ]
  },
  {
   "cell_type": "code",
   "execution_count": 50,
   "metadata": {
    "collapsed": false
   },
   "outputs": [
    {
     "data": {
      "text/plain": [
       "pandas.core.series.Series"
      ]
     },
     "execution_count": 50,
     "metadata": {},
     "output_type": "execute_result"
    }
   ],
   "source": [
    "type(locations)"
   ]
  },
  {
   "cell_type": "code",
   "execution_count": 51,
   "metadata": {
    "collapsed": false
   },
   "outputs": [
    {
     "data": {
      "text/plain": [
       "date_reported\n",
       "1995-10-09    (Iowa City, IA)\n",
       "1995-10-11    (Milwaukee, WI)\n",
       "1995-01-03      (Shelton, WA)\n",
       "1995-05-10     (Columbia, MO)\n",
       "1995-06-14      (Seattle, WA)\n",
       "Name: location, dtype: object"
      ]
     },
     "execution_count": 51,
     "metadata": {},
     "output_type": "execute_result"
    }
   ],
   "source": [
    "locations[:5]"
   ]
  },
  {
   "cell_type": "code",
   "execution_count": 52,
   "metadata": {
    "collapsed": false
   },
   "outputs": [
    {
     "data": {
      "text/html": [
       "<div>\n",
       "<table border=\"1\" class=\"dataframe\">\n",
       "  <thead>\n",
       "    <tr style=\"text-align: right;\">\n",
       "      <th></th>\n",
       "      <th>date_occurred</th>\n",
       "      <th>date_reported</th>\n",
       "      <th>location</th>\n",
       "      <th>short_desc</th>\n",
       "      <th>duration</th>\n",
       "      <th>description</th>\n",
       "      <th>state</th>\n",
       "    </tr>\n",
       "    <tr>\n",
       "      <th>date_reported</th>\n",
       "      <th></th>\n",
       "      <th></th>\n",
       "      <th></th>\n",
       "      <th></th>\n",
       "      <th></th>\n",
       "      <th></th>\n",
       "      <th></th>\n",
       "    </tr>\n",
       "  </thead>\n",
       "  <tbody>\n",
       "    <tr>\n",
       "      <th>1995-10-09</th>\n",
       "      <td>19951009</td>\n",
       "      <td>19951009</td>\n",
       "      <td>Iowa City, IA</td>\n",
       "      <td>NaN</td>\n",
       "      <td>NaN</td>\n",
       "      <td>Man repts. witnessing &amp;quot;flash, followed by...</td>\n",
       "      <td>IA</td>\n",
       "    </tr>\n",
       "    <tr>\n",
       "      <th>1995-10-11</th>\n",
       "      <td>19951010</td>\n",
       "      <td>19951011</td>\n",
       "      <td>Milwaukee, WI</td>\n",
       "      <td>NaN</td>\n",
       "      <td>2 min.</td>\n",
       "      <td>Man  on Hwy 43 SW of Milwaukee sees large, bri...</td>\n",
       "      <td>WI</td>\n",
       "    </tr>\n",
       "    <tr>\n",
       "      <th>1995-01-03</th>\n",
       "      <td>19950101</td>\n",
       "      <td>19950103</td>\n",
       "      <td>Shelton, WA</td>\n",
       "      <td>NaN</td>\n",
       "      <td>NaN</td>\n",
       "      <td>Telephoned Report:CA woman visiting daughter w...</td>\n",
       "      <td>WA</td>\n",
       "    </tr>\n",
       "    <tr>\n",
       "      <th>1995-05-10</th>\n",
       "      <td>19950510</td>\n",
       "      <td>19950510</td>\n",
       "      <td>Columbia, MO</td>\n",
       "      <td>NaN</td>\n",
       "      <td>2 min.</td>\n",
       "      <td>Man repts. son&amp;apos;s bizarre sighting of smal...</td>\n",
       "      <td>MO</td>\n",
       "    </tr>\n",
       "    <tr>\n",
       "      <th>1995-06-14</th>\n",
       "      <td>19950611</td>\n",
       "      <td>19950614</td>\n",
       "      <td>Seattle, WA</td>\n",
       "      <td>NaN</td>\n",
       "      <td>NaN</td>\n",
       "      <td>Anonymous caller repts. sighting 4 ufo&amp;apos;s ...</td>\n",
       "      <td>WA</td>\n",
       "    </tr>\n",
       "  </tbody>\n",
       "</table>\n",
       "</div>"
      ],
      "text/plain": [
       "              date_occurred date_reported        location short_desc duration  \\\n",
       "date_reported                                                                   \n",
       "1995-10-09         19951009      19951009   Iowa City, IA        NaN      NaN   \n",
       "1995-10-11         19951010      19951011   Milwaukee, WI        NaN   2 min.   \n",
       "1995-01-03         19950101      19950103     Shelton, WA        NaN      NaN   \n",
       "1995-05-10         19950510      19950510    Columbia, MO        NaN   2 min.   \n",
       "1995-06-14         19950611      19950614     Seattle, WA        NaN      NaN   \n",
       "\n",
       "                                                     description state  \n",
       "date_reported                                                           \n",
       "1995-10-09     Man repts. witnessing &quot;flash, followed by...    IA  \n",
       "1995-10-11     Man  on Hwy 43 SW of Milwaukee sees large, bri...    WI  \n",
       "1995-01-03     Telephoned Report:CA woman visiting daughter w...    WA  \n",
       "1995-05-10     Man repts. son&apos;s bizarre sighting of smal...    MO  \n",
       "1995-06-14     Anonymous caller repts. sighting 4 ufo&apos;s ...    WA  "
      ]
     },
     "execution_count": 52,
     "metadata": {},
     "output_type": "execute_result"
    }
   ],
   "source": [
    "ufo[\"state\"] = [state for city, state in locations]\n",
    "ufo.head()"
   ]
  },
  {
   "cell_type": "code",
   "execution_count": 53,
   "metadata": {
    "collapsed": true
   },
   "outputs": [],
   "source": [
    "ufo[\"city\"] = [city for city, state in locations]"
   ]
  },
  {
   "cell_type": "code",
   "execution_count": 54,
   "metadata": {
    "collapsed": false
   },
   "outputs": [
    {
     "data": {
      "text/html": [
       "<div>\n",
       "<table border=\"1\" class=\"dataframe\">\n",
       "  <thead>\n",
       "    <tr style=\"text-align: right;\">\n",
       "      <th></th>\n",
       "      <th>date_occurred</th>\n",
       "      <th>date_reported</th>\n",
       "      <th>location</th>\n",
       "      <th>short_desc</th>\n",
       "      <th>duration</th>\n",
       "      <th>description</th>\n",
       "      <th>state</th>\n",
       "      <th>city</th>\n",
       "    </tr>\n",
       "    <tr>\n",
       "      <th>date_reported</th>\n",
       "      <th></th>\n",
       "      <th></th>\n",
       "      <th></th>\n",
       "      <th></th>\n",
       "      <th></th>\n",
       "      <th></th>\n",
       "      <th></th>\n",
       "      <th></th>\n",
       "    </tr>\n",
       "  </thead>\n",
       "  <tbody>\n",
       "    <tr>\n",
       "      <th>1995-10-09</th>\n",
       "      <td>19951009</td>\n",
       "      <td>19951009</td>\n",
       "      <td>Iowa City, IA</td>\n",
       "      <td>NaN</td>\n",
       "      <td>NaN</td>\n",
       "      <td>Man repts. witnessing &amp;quot;flash, followed by...</td>\n",
       "      <td>IA</td>\n",
       "      <td>Iowa City</td>\n",
       "    </tr>\n",
       "    <tr>\n",
       "      <th>1995-10-11</th>\n",
       "      <td>19951010</td>\n",
       "      <td>19951011</td>\n",
       "      <td>Milwaukee, WI</td>\n",
       "      <td>NaN</td>\n",
       "      <td>2 min.</td>\n",
       "      <td>Man  on Hwy 43 SW of Milwaukee sees large, bri...</td>\n",
       "      <td>WI</td>\n",
       "      <td>Milwaukee</td>\n",
       "    </tr>\n",
       "    <tr>\n",
       "      <th>1995-01-03</th>\n",
       "      <td>19950101</td>\n",
       "      <td>19950103</td>\n",
       "      <td>Shelton, WA</td>\n",
       "      <td>NaN</td>\n",
       "      <td>NaN</td>\n",
       "      <td>Telephoned Report:CA woman visiting daughter w...</td>\n",
       "      <td>WA</td>\n",
       "      <td>Shelton</td>\n",
       "    </tr>\n",
       "    <tr>\n",
       "      <th>1995-05-10</th>\n",
       "      <td>19950510</td>\n",
       "      <td>19950510</td>\n",
       "      <td>Columbia, MO</td>\n",
       "      <td>NaN</td>\n",
       "      <td>2 min.</td>\n",
       "      <td>Man repts. son&amp;apos;s bizarre sighting of smal...</td>\n",
       "      <td>MO</td>\n",
       "      <td>Columbia</td>\n",
       "    </tr>\n",
       "    <tr>\n",
       "      <th>1995-06-14</th>\n",
       "      <td>19950611</td>\n",
       "      <td>19950614</td>\n",
       "      <td>Seattle, WA</td>\n",
       "      <td>NaN</td>\n",
       "      <td>NaN</td>\n",
       "      <td>Anonymous caller repts. sighting 4 ufo&amp;apos;s ...</td>\n",
       "      <td>WA</td>\n",
       "      <td>Seattle</td>\n",
       "    </tr>\n",
       "  </tbody>\n",
       "</table>\n",
       "</div>"
      ],
      "text/plain": [
       "              date_occurred date_reported        location short_desc duration  \\\n",
       "date_reported                                                                   \n",
       "1995-10-09         19951009      19951009   Iowa City, IA        NaN      NaN   \n",
       "1995-10-11         19951010      19951011   Milwaukee, WI        NaN   2 min.   \n",
       "1995-01-03         19950101      19950103     Shelton, WA        NaN      NaN   \n",
       "1995-05-10         19950510      19950510    Columbia, MO        NaN   2 min.   \n",
       "1995-06-14         19950611      19950614     Seattle, WA        NaN      NaN   \n",
       "\n",
       "                                                     description state  \\\n",
       "date_reported                                                            \n",
       "1995-10-09     Man repts. witnessing &quot;flash, followed by...    IA   \n",
       "1995-10-11     Man  on Hwy 43 SW of Milwaukee sees large, bri...    WI   \n",
       "1995-01-03     Telephoned Report:CA woman visiting daughter w...    WA   \n",
       "1995-05-10     Man repts. son&apos;s bizarre sighting of smal...    MO   \n",
       "1995-06-14     Anonymous caller repts. sighting 4 ufo&apos;s ...    WA   \n",
       "\n",
       "                    city  \n",
       "date_reported             \n",
       "1995-10-09     Iowa City  \n",
       "1995-10-11     Milwaukee  \n",
       "1995-01-03       Shelton  \n",
       "1995-05-10      Columbia  \n",
       "1995-06-14       Seattle  "
      ]
     },
     "execution_count": 54,
     "metadata": {},
     "output_type": "execute_result"
    }
   ],
   "source": [
    "ufo.head()"
   ]
  },
  {
   "cell_type": "code",
   "execution_count": 55,
   "metadata": {
    "collapsed": false
   },
   "outputs": [
    {
     "data": {
      "text/plain": [
       "date_reported\n",
       "1905-06-23     2\n",
       "1995-01-01     3\n",
       "1995-01-02     1\n",
       "1995-01-03     8\n",
       "1995-01-04     3\n",
       "1995-01-05     4\n",
       "1995-01-06     1\n",
       "1995-01-07     4\n",
       "1995-01-08     1\n",
       "1995-01-09     2\n",
       "1995-01-10     1\n",
       "1995-01-11     1\n",
       "1995-01-12     2\n",
       "1995-01-13     2\n",
       "1995-01-14     1\n",
       "1995-01-15     2\n",
       "1995-01-16     1\n",
       "1995-01-17     3\n",
       "1995-01-18     3\n",
       "1995-01-20     3\n",
       "1995-01-21     1\n",
       "1995-01-22     2\n",
       "1995-01-23     4\n",
       "1995-01-24     5\n",
       "1995-01-25     2\n",
       "1995-01-26     1\n",
       "1995-01-27     2\n",
       "1995-01-28     1\n",
       "1995-01-29     1\n",
       "1995-01-30     3\n",
       "              ..\n",
       "2010-08-01    21\n",
       "2010-08-02    14\n",
       "2010-08-03    17\n",
       "2010-08-04    15\n",
       "2010-08-05    18\n",
       "2010-08-06    25\n",
       "2010-08-07    21\n",
       "2010-08-08    13\n",
       "2010-08-09    20\n",
       "2010-08-10    26\n",
       "2010-08-11    15\n",
       "2010-08-12    25\n",
       "2010-08-13    20\n",
       "2010-08-14    25\n",
       "2010-08-15    20\n",
       "2010-08-16    17\n",
       "2010-08-17    19\n",
       "2010-08-18     9\n",
       "2010-08-19    14\n",
       "2010-08-20    16\n",
       "2010-08-21    22\n",
       "2010-08-22    17\n",
       "2010-08-23    16\n",
       "2010-08-24    18\n",
       "2010-08-25    15\n",
       "2010-08-26    23\n",
       "2010-08-27    24\n",
       "2010-08-28    18\n",
       "2010-08-29    23\n",
       "2010-08-30    16\n",
       "Name: date_occurred, dtype: int64"
      ]
     },
     "execution_count": 55,
     "metadata": {},
     "output_type": "execute_result"
    }
   ],
   "source": [
    "ufo.date_occurred.groupby(ufo.index).count()"
   ]
  },
  {
   "cell_type": "code",
   "execution_count": 59,
   "metadata": {
    "collapsed": false
   },
   "outputs": [
    {
     "data": {
      "text/plain": [
       "<matplotlib.axes._subplots.AxesSubplot at 0x10c0989b0>"
      ]
     },
     "execution_count": 59,
     "metadata": {},
     "output_type": "execute_result"
    },
    {
     "data": {
      "image/png": "[encoded data removed]",
      "text/plain": [
       "<matplotlib.figure.Figure at 0x10b7652b0>"
      ]
     },
     "metadata": {},
     "output_type": "display_data"
    }
   ],
   "source": [
    "ufo.date_occurred.groupby(ufo.index).count().plot()"
   ]
  },
  {
   "cell_type": "code",
   "execution_count": 75,
   "metadata": {
    "collapsed": true
   },
   "outputs": [],
   "source": [
    "post1990 = ufo.drop(datetime.date(1905, 6, 23), axis=0)"
   ]
  },
  {
   "cell_type": "code",
   "execution_count": 76,
   "metadata": {
    "collapsed": false
   },
   "outputs": [
    {
     "data": {
      "text/plain": [
       "<matplotlib.axes._subplots.AxesSubplot at 0x10893bf60>"
      ]
     },
     "execution_count": 76,
     "metadata": {},
     "output_type": "execute_result"
    },
    {
     "data": {
      "image/png": "[encoded data removed]",
      "text/plain": [
       "<matplotlib.figure.Figure at 0x10925bb00>"
      ]
     },
     "metadata": {},
     "output_type": "display_data"
    }
   ],
   "source": [
    "post1990.date_occurred.groupby(post1990.index).count().plot()"
   ]
  },
  {
   "cell_type": "code",
   "execution_count": 77,
   "metadata": {
    "collapsed": false
   },
   "outputs": [
    {
     "data": {
      "text/plain": [
       "<matplotlib.axes._subplots.AxesSubplot at 0x10c0b4a90>"
      ]
     },
     "execution_count": 77,
     "metadata": {},
     "output_type": "execute_result"
    },
    {
     "data": {
      "image/png": "[encoded data removed]",
      "text/plain": [
       "<matplotlib.figure.Figure at 0x10924c470>"
      ]
     },
     "metadata": {},
     "output_type": "display_data"
    }
   ],
   "source": [
    "post1990.date_occurred.groupby(post1990.index).count().plot()"
   ]
  },
  {
   "cell_type": "code",
   "execution_count": 78,
   "metadata": {
    "collapsed": false
   },
   "outputs": [
    {
     "name": "stdout",
     "output_type": "stream",
     "text": [
      "Help on method drop in module pandas.core.generic:\n",
      "\n",
      "drop(labels, axis=0, level=None, inplace=False, errors='raise') method of pandas.core.frame.DataFrame instance\n",
      "    Return new object with labels in requested axis removed\n",
      "    \n",
      "    Parameters\n",
      "    ----------\n",
      "    labels : single label or list-like\n",
      "    axis : int or axis name\n",
      "    level : int or level name, default None\n",
      "        For MultiIndex\n",
      "    inplace : bool, default False\n",
      "        If True, do operation inplace and return None.\n",
      "    errors : {'ignore', 'raise'}, default 'raise'\n",
      "        If 'ignore', suppress error and existing labels are dropped.\n",
      "    \n",
      "        .. versionadded:: 0.16.1\n",
      "    \n",
      "    Returns\n",
      "    -------\n",
      "    dropped : type of caller\n",
      "\n"
     ]
    }
   ],
   "source": [
    "help(ufo.drop)"
   ]
  },
  {
   "cell_type": "code",
   "execution_count": 79,
   "metadata": {
    "collapsed": false
   },
   "outputs": [
    {
     "data": {
      "text/plain": [
       "<matplotlib.axes._subplots.AxesSubplot at 0x10af2c9e8>"
      ]
     },
     "execution_count": 79,
     "metadata": {},
     "output_type": "execute_result"
    },
    {
     "data": {
      "image/png": "[encoded data removed]",
      "text/plain": [
       "<matplotlib.figure.Figure at 0x10af20550>"
      ]
     },
     "metadata": {},
     "output_type": "display_data"
    }
   ],
   "source": [
    "post1990.date_occurred.resample(\"Q\", how=[\"count\"]).plot()"
   ]
  },
  {
   "cell_type": "code",
   "execution_count": 80,
   "metadata": {
    "collapsed": false
   },
   "outputs": [
    {
     "data": {
      "text/plain": [
       "<matplotlib.axes._subplots.AxesSubplot at 0x10ad65dd8>"
      ]
     },
     "execution_count": 80,
     "metadata": {},
     "output_type": "execute_result"
    },
    {
     "data": {
      "image/png": "[encoded data removed]",
      "text/plain": [
       "<matplotlib.figure.Figure at 0x10ad704e0>"
      ]
     },
     "metadata": {},
     "output_type": "display_data"
    }
   ],
   "source": [
    "post1990.date_occurred.resample(\"Q\", how=[\"count\"]).plot()"
   ]
  },
  {
   "cell_type": "code",
   "execution_count": 81,
   "metadata": {
    "collapsed": false
   },
   "outputs": [
    {
     "data": {
      "text/plain": [
       "date_reported\n",
       "1995-10-09    0\n",
       "1995-10-11    2\n",
       "1995-01-03    1\n",
       "1995-05-10    2\n",
       "1995-06-14    2\n",
       "1995-10-24    1\n",
       "1995-04-19    2\n",
       "1995-09-11    0\n",
       "1995-02-14    1\n",
       "1995-09-15    4\n",
       "1995-02-20    0\n",
       "1995-07-24    0\n",
       "1995-06-12    0\n",
       "1995-08-23    2\n",
       "1995-04-16    6\n",
       "1995-02-07    1\n",
       "1995-11-17    4\n",
       "1995-06-11    6\n",
       "1995-05-14    6\n",
       "1995-02-04    5\n",
       "1995-09-11    0\n",
       "1995-11-06    0\n",
       "1995-06-28    2\n",
       "1995-03-14    1\n",
       "1995-03-07    1\n",
       "1995-05-16    1\n",
       "1995-07-30    6\n",
       "1995-08-22    1\n",
       "1995-02-07    1\n",
       "1995-09-10    6\n",
       "             ..\n",
       "2010-08-13    4\n",
       "2010-08-21    5\n",
       "2010-08-26    3\n",
       "2010-08-10    1\n",
       "2010-08-27    4\n",
       "2010-08-07    5\n",
       "2010-08-19    3\n",
       "2010-08-12    3\n",
       "2010-08-21    5\n",
       "2010-08-10    1\n",
       "2010-08-29    6\n",
       "2010-08-19    3\n",
       "2010-08-13    4\n",
       "2010-08-27    4\n",
       "2010-08-08    6\n",
       "2010-08-12    3\n",
       "2010-08-10    1\n",
       "2010-08-14    5\n",
       "2010-08-12    3\n",
       "2010-08-17    1\n",
       "2010-08-10    1\n",
       "2010-08-26    3\n",
       "2010-08-28    5\n",
       "2010-08-27    4\n",
       "2010-08-28    5\n",
       "2010-08-20    4\n",
       "2010-08-26    3\n",
       "2010-08-27    4\n",
       "2010-08-21    5\n",
       "2010-08-24    1\n",
       "Name: date_reported, dtype: int64"
      ]
     },
     "execution_count": 81,
     "metadata": {},
     "output_type": "execute_result"
    }
   ],
   "source": [
    "dow = [\"Su\", \"M\", \"Tu\", \"W\", \"Th\", \"F\", \"Sa\"]\n",
    "post1990.index.to_series().map(lambda d: d.weekday())"
   ]
  },
  {
   "cell_type": "code",
   "execution_count": 84,
   "metadata": {
    "collapsed": false,
    "scrolled": true
   },
   "outputs": [
    {
     "name": "stderr",
     "output_type": "stream",
     "text": [
      "/Users/jeff/python/2015-06/class-notes/.direnv/python-3.4.3/lib/python3.4/site-packages/IPython/kernel/__main__.py:2: SettingWithCopyWarning: \n",
      "A value is trying to be set on a copy of a slice from a DataFrame.\n",
      "Try using .loc[row_indexer,col_indexer] = value instead\n",
      "\n",
      "See the the caveats in the documentation: http://pandas.pydata.org/pandas-docs/stable/indexing.html#indexing-view-versus-copy\n",
      "  from IPython.kernel.zmq import kernelapp as app\n"
     ]
    }
   ],
   "source": [
    "dow = [\"Su\", \"M\", \"Tu\", \"W\", \"Th\", \"F\", \"Sa\"]\n",
    "post1990[\"foo\"] = post1990.index.to_series().map(lambda d: d.weekday())"
   ]
  },
  {
   "cell_type": "markdown",
   "metadata": {},
   "source": [
    "Apparently the error is just a warning and it created it anyway.  My belief is it was already set."
   ]
  },
  {
   "cell_type": "code",
   "execution_count": 83,
   "metadata": {
    "collapsed": false
   },
   "outputs": [
    {
     "name": "stdout",
     "output_type": "stream",
     "text": [
      "Help on method plot_frame in module pandas.tools.plotting:\n",
      "\n",
      "plot_frame(x=None, y=None, kind='line', ax=None, subplots=False, sharex=None, sharey=False, layout=None, figsize=None, use_index=True, title=None, grid=None, legend=True, style=None, logx=False, logy=False, loglog=False, xticks=None, yticks=None, xlim=None, ylim=None, rot=None, fontsize=None, colormap=None, table=False, yerr=None, xerr=None, secondary_y=False, sort_columns=False, **kwds) method of pandas.core.frame.DataFrame instance\n",
      "    Make plots of DataFrame using matplotlib / pylab.\n",
      "    \n",
      "    Parameters\n",
      "    ----------\n",
      "    data : DataFrame\n",
      "    x : label or position, default None\n",
      "    y : label or position, default None\n",
      "        Allows plotting of one column versus another\n",
      "    kind : str\n",
      "        - 'line' : line plot (default)\n",
      "        - 'bar' : vertical bar plot\n",
      "        - 'barh' : horizontal bar plot\n",
      "        - 'hist' : histogram\n",
      "        - 'box' : boxplot\n",
      "        - 'kde' : Kernel Density Estimation plot\n",
      "        - 'density' : same as 'kde'\n",
      "        - 'area' : area plot\n",
      "        - 'pie' : pie plot\n",
      "        - 'scatter' : scatter plot\n",
      "        - 'hexbin' : hexbin plot\n",
      "    ax : matplotlib axes object, default None\n",
      "    subplots : boolean, default False\n",
      "        Make separate subplots for each column\n",
      "    sharex : boolean, default True if ax is None else False\n",
      "        In case subplots=True, share x axis and set some x axis labels to\n",
      "        invisible; defaults to True if ax is None otherwise False if an ax\n",
      "        is passed in; Be aware, that passing in both an ax and sharex=True\n",
      "        will alter all x axis labels for all axis in a figure!\n",
      "    sharey : boolean, default False\n",
      "        In case subplots=True, share y axis and set some y axis labels to\n",
      "        invisible\n",
      "    layout : tuple (optional)\n",
      "        (rows, columns) for the layout of subplots\n",
      "    figsize : a tuple (width, height) in inches\n",
      "    use_index : boolean, default True\n",
      "        Use index as ticks for x axis\n",
      "    title : string\n",
      "        Title to use for the plot\n",
      "    grid : boolean, default None (matlab style default)\n",
      "        Axis grid lines\n",
      "    legend : False/True/'reverse'\n",
      "        Place legend on axis subplots\n",
      "    style : list or dict\n",
      "        matplotlib line style per column\n",
      "    logx : boolean, default False\n",
      "        Use log scaling on x axis\n",
      "    logy : boolean, default False\n",
      "        Use log scaling on y axis\n",
      "    loglog : boolean, default False\n",
      "        Use log scaling on both x and y axes\n",
      "    xticks : sequence\n",
      "        Values to use for the xticks\n",
      "    yticks : sequence\n",
      "        Values to use for the yticks\n",
      "    xlim : 2-tuple/list\n",
      "    ylim : 2-tuple/list\n",
      "    rot : int, default None\n",
      "        Rotation for ticks (xticks for vertical, yticks for horizontal plots)\n",
      "    fontsize : int, default None\n",
      "        Font size for xticks and yticks\n",
      "    colormap : str or matplotlib colormap object, default None\n",
      "        Colormap to select colors from. If string, load colormap with that name\n",
      "        from matplotlib.\n",
      "    colorbar : boolean, optional\n",
      "        If True, plot colorbar (only relevant for 'scatter' and 'hexbin' plots)\n",
      "    position : float\n",
      "        Specify relative alignments for bar plot layout.\n",
      "        From 0 (left/bottom-end) to 1 (right/top-end). Default is 0.5 (center)\n",
      "    layout : tuple (optional)\n",
      "        (rows, columns) for the layout of the plot\n",
      "    table : boolean, Series or DataFrame, default False\n",
      "        If True, draw a table using the data in the DataFrame and the data will\n",
      "        be transposed to meet matplotlib's default layout.\n",
      "        If a Series or DataFrame is passed, use passed data to draw a table.\n",
      "    yerr : DataFrame, Series, array-like, dict and str\n",
      "        See :ref:`Plotting with Error Bars <visualization.errorbars>` for detail.\n",
      "    xerr : same types as yerr.\n",
      "    stacked : boolean, default False in line and\n",
      "        bar plots, and True in area plot. If True, create stacked plot.\n",
      "    sort_columns : boolean, default False\n",
      "        Sort column names to determine plot ordering\n",
      "    secondary_y : boolean or sequence, default False\n",
      "        Whether to plot on the secondary y-axis\n",
      "        If a list/tuple, which columns to plot on secondary y-axis\n",
      "    mark_right : boolean, default True\n",
      "        When using a secondary_y axis, automatically mark the column\n",
      "        labels with \"(right)\" in the legend\n",
      "    kwds : keywords\n",
      "        Options to pass to matplotlib plotting method\n",
      "    \n",
      "    Returns\n",
      "    -------\n",
      "    axes : matplotlib.AxesSubplot or np.array of them\n",
      "    \n",
      "    Notes\n",
      "    -----\n",
      "    \n",
      "    - See matplotlib documentation online for more on this subject\n",
      "    - If `kind` = 'bar' or 'barh', you can specify relative alignments\n",
      "      for bar plot layout by `position` keyword.\n",
      "      From 0 (left/bottom-end) to 1 (right/top-end). Default is 0.5 (center)\n",
      "    - If `kind` = 'scatter' and the argument `c` is the name of a dataframe\n",
      "      column, the values of that column are used to color each point.\n",
      "    - If `kind` = 'hexbin', you can control the size of the bins with the\n",
      "      `gridsize` argument. By default, a histogram of the counts around each\n",
      "      `(x, y)` point is computed. You can specify alternative aggregations\n",
      "      by passing values to the `C` and `reduce_C_function` arguments.\n",
      "      `C` specifies the value at each `(x, y)` point and `reduce_C_function`\n",
      "      is a function of one argument that reduces all the values in a bin to\n",
      "      a single number (e.g. `mean`, `max`, `sum`, `std`).\n",
      "\n"
     ]
    }
   ],
   "source": [
    "help(ufo.plot)"
   ]
  },
  {
   "cell_type": "code",
   "execution_count": 85,
   "metadata": {
    "collapsed": false,
    "scrolled": true
   },
   "outputs": [
    {
     "data": {
      "text/plain": [
       "0    9502\n",
       "1    8996\n",
       "2    8629\n",
       "3    8754\n",
       "4    8029\n",
       "5    8486\n",
       "6    8995\n",
       "dtype: int64"
      ]
     },
     "execution_count": 85,
     "metadata": {},
     "output_type": "execute_result"
    }
   ],
   "source": [
    "post1990.day_of_week.value_counts().sort_index()"
   ]
  },
  {
   "cell_type": "code",
   "execution_count": 88,
   "metadata": {
    "collapsed": true
   },
   "outputs": [],
   "source": [
    "data = post1990.day_of_week.value_counts().sort_index()"
   ]
  },
  {
   "cell_type": "code",
   "execution_count": 90,
   "metadata": {
    "collapsed": true
   },
   "outputs": [],
   "source": [
    "data.index = dow"
   ]
  },
  {
   "cell_type": "code",
   "execution_count": 91,
   "metadata": {
    "collapsed": false
   },
   "outputs": [
    {
     "data": {
      "text/plain": [
       "<matplotlib.axes._subplots.AxesSubplot at 0x10b186080>"
      ]
     },
     "execution_count": 91,
     "metadata": {},
     "output_type": "execute_result"
    },
    {
     "data": {
      "image/png": "[encoded data removed]",
      "text/plain": [
       "<matplotlib.figure.Figure at 0x10d4e0470>"
      ]
     },
     "metadata": {},
     "output_type": "display_data"
    }
   ],
   "source": [
    "data.plot(ylim=(0, 10000))"
   ]
  },
  {
   "cell_type": "code",
   "execution_count": 92,
   "metadata": {
    "collapsed": false
   },
   "outputs": [
    {
     "data": {
      "text/plain": [
       "<matplotlib.axes._subplots.AxesSubplot at 0x10cb244e0>"
      ]
     },
     "execution_count": 92,
     "metadata": {},
     "output_type": "execute_result"
    },
    {
     "data": {
      "image/png": "[encoded data removed]",
      "text/plain": [
       "<matplotlib.figure.Figure at 0x10cb2d588>"
      ]
     },
     "metadata": {},
     "output_type": "display_data"
    }
   ],
   "source": [
    "data.plot(kind=\"pie\")"
   ]
  },
  {
   "cell_type": "code",
   "execution_count": 93,
   "metadata": {
    "collapsed": false
   },
   "outputs": [
    {
     "data": {
      "image/png": "[encoded data removed]",
      "text/plain": [
       "<matplotlib.figure.Figure at 0x10c96c390>"
      ]
     },
     "metadata": {},
     "output_type": "display_data"
    },
    {
     "data": {
      "image/png": "[encoded data removed]",
      "text/plain": [
       "<matplotlib.figure.Figure at 0x10c8f7d30>"
      ]
     },
     "metadata": {},
     "output_type": "display_data"
    },
    {
     "data": {
      "image/png": "[encoded data removed]",
      "text/plain": [
       "<matplotlib.figure.Figure at 0x10c5be6a0>"
      ]
     },
     "metadata": {},
     "output_type": "display_data"
    },
    {
     "data": {
      "image/png": "[encoded data removed]",
      "text/plain": [
       "<matplotlib.figure.Figure at 0x10c530a20>"
      ]
     },
     "metadata": {},
     "output_type": "display_data"
    },
    {
     "data": {
      "image/png": "[encoded data removed]",
      "text/plain": [
       "<matplotlib.figure.Figure at 0x10c49db00>"
      ]
     },
     "metadata": {},
     "output_type": "display_data"
    }
   ],
   "source": [
    "for kind in ['line', 'bar', 'barh', 'box', 'area']:\n",
    "    data.plot(kind=kind)\n",
    "    plt.show()"
   ]
  },
  {
   "cell_type": "code",
   "execution_count": 94,
   "metadata": {
    "collapsed": false
   },
   "outputs": [
    {
     "data": {
      "text/html": [
       "<div>\n",
       "<table border=\"1\" class=\"dataframe\">\n",
       "  <thead>\n",
       "    <tr style=\"text-align: right;\">\n",
       "      <th></th>\n",
       "      <th>date_occurred</th>\n",
       "      <th>date_reported</th>\n",
       "      <th>location</th>\n",
       "      <th>short_desc</th>\n",
       "      <th>duration</th>\n",
       "      <th>description</th>\n",
       "      <th>state</th>\n",
       "      <th>city</th>\n",
       "      <th>day_of_week</th>\n",
       "      <th>foo</th>\n",
       "    </tr>\n",
       "    <tr>\n",
       "      <th>date_reported</th>\n",
       "      <th></th>\n",
       "      <th></th>\n",
       "      <th></th>\n",
       "      <th></th>\n",
       "      <th></th>\n",
       "      <th></th>\n",
       "      <th></th>\n",
       "      <th></th>\n",
       "      <th></th>\n",
       "      <th></th>\n",
       "    </tr>\n",
       "  </thead>\n",
       "  <tbody>\n",
       "    <tr>\n",
       "      <th>1995-10-09</th>\n",
       "      <td>19951009</td>\n",
       "      <td>19951009</td>\n",
       "      <td>Iowa City, IA</td>\n",
       "      <td>NaN</td>\n",
       "      <td>NaN</td>\n",
       "      <td>Man repts. witnessing &amp;quot;flash, followed by...</td>\n",
       "      <td>IA</td>\n",
       "      <td>Iowa City</td>\n",
       "      <td>0</td>\n",
       "      <td>0</td>\n",
       "    </tr>\n",
       "    <tr>\n",
       "      <th>1995-10-11</th>\n",
       "      <td>19951010</td>\n",
       "      <td>19951011</td>\n",
       "      <td>Milwaukee, WI</td>\n",
       "      <td>NaN</td>\n",
       "      <td>2 min.</td>\n",
       "      <td>Man  on Hwy 43 SW of Milwaukee sees large, bri...</td>\n",
       "      <td>WI</td>\n",
       "      <td>Milwaukee</td>\n",
       "      <td>2</td>\n",
       "      <td>2</td>\n",
       "    </tr>\n",
       "    <tr>\n",
       "      <th>1995-01-03</th>\n",
       "      <td>19950101</td>\n",
       "      <td>19950103</td>\n",
       "      <td>Shelton, WA</td>\n",
       "      <td>NaN</td>\n",
       "      <td>NaN</td>\n",
       "      <td>Telephoned Report:CA woman visiting daughter w...</td>\n",
       "      <td>WA</td>\n",
       "      <td>Shelton</td>\n",
       "      <td>1</td>\n",
       "      <td>1</td>\n",
       "    </tr>\n",
       "    <tr>\n",
       "      <th>1995-05-10</th>\n",
       "      <td>19950510</td>\n",
       "      <td>19950510</td>\n",
       "      <td>Columbia, MO</td>\n",
       "      <td>NaN</td>\n",
       "      <td>2 min.</td>\n",
       "      <td>Man repts. son&amp;apos;s bizarre sighting of smal...</td>\n",
       "      <td>MO</td>\n",
       "      <td>Columbia</td>\n",
       "      <td>2</td>\n",
       "      <td>2</td>\n",
       "    </tr>\n",
       "    <tr>\n",
       "      <th>1995-06-14</th>\n",
       "      <td>19950611</td>\n",
       "      <td>19950614</td>\n",
       "      <td>Seattle, WA</td>\n",
       "      <td>NaN</td>\n",
       "      <td>NaN</td>\n",
       "      <td>Anonymous caller repts. sighting 4 ufo&amp;apos;s ...</td>\n",
       "      <td>WA</td>\n",
       "      <td>Seattle</td>\n",
       "      <td>2</td>\n",
       "      <td>2</td>\n",
       "    </tr>\n",
       "  </tbody>\n",
       "</table>\n",
       "</div>"
      ],
      "text/plain": [
       "              date_occurred date_reported        location short_desc duration  \\\n",
       "date_reported                                                                   \n",
       "1995-10-09         19951009      19951009   Iowa City, IA        NaN      NaN   \n",
       "1995-10-11         19951010      19951011   Milwaukee, WI        NaN   2 min.   \n",
       "1995-01-03         19950101      19950103     Shelton, WA        NaN      NaN   \n",
       "1995-05-10         19950510      19950510    Columbia, MO        NaN   2 min.   \n",
       "1995-06-14         19950611      19950614     Seattle, WA        NaN      NaN   \n",
       "\n",
       "                                                     description state  \\\n",
       "date_reported                                                            \n",
       "1995-10-09     Man repts. witnessing &quot;flash, followed by...    IA   \n",
       "1995-10-11     Man  on Hwy 43 SW of Milwaukee sees large, bri...    WI   \n",
       "1995-01-03     Telephoned Report:CA woman visiting daughter w...    WA   \n",
       "1995-05-10     Man repts. son&apos;s bizarre sighting of smal...    MO   \n",
       "1995-06-14     Anonymous caller repts. sighting 4 ufo&apos;s ...    WA   \n",
       "\n",
       "                    city  day_of_week  foo  \n",
       "date_reported                               \n",
       "1995-10-09     Iowa City            0    0  \n",
       "1995-10-11     Milwaukee            2    2  \n",
       "1995-01-03       Shelton            1    1  \n",
       "1995-05-10      Columbia            2    2  \n",
       "1995-06-14       Seattle            2    2  "
      ]
     },
     "execution_count": 94,
     "metadata": {},
     "output_type": "execute_result"
    }
   ],
   "source": [
    "post1990.head()"
   ]
  },
  {
   "cell_type": "code",
   "execution_count": 95,
   "metadata": {
    "collapsed": false
   },
   "outputs": [
    {
     "data": {
      "text/plain": [
       "pandas.core.series.Series"
      ]
     },
     "execution_count": 95,
     "metadata": {},
     "output_type": "execute_result"
    }
   ],
   "source": [
    "type(post1990['location'])"
   ]
  },
  {
   "cell_type": "code",
   "execution_count": 96,
   "metadata": {
    "collapsed": false
   },
   "outputs": [
    {
     "data": {
      "text/plain": [
       "pandas.tseries.index.DatetimeIndex"
      ]
     },
     "execution_count": 96,
     "metadata": {},
     "output_type": "execute_result"
    }
   ],
   "source": [
    "type(post1990.index)"
   ]
  },
  {
   "cell_type": "code",
   "execution_count": null,
   "metadata": {
    "collapsed": true
   },
   "outputs": [],
   "source": []
  }
 ],
 "metadata": {
  "kernelspec": {
   "display_name": "Python 3",
   "language": "python",
   "name": "python3"
  },
  "language_info": {
   "codemirror_mode": {
    "name": "ipython",
    "version": 3
   },
   "file_extension": ".py",
   "mimetype": "text/x-python",
   "name": "python",
   "nbconvert_exporter": "python",
   "pygments_lexer": "ipython3",
   "version": "3.4.3"
  }
 },
 "nbformat": 4,
 "nbformat_minor": 0
}
