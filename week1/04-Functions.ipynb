{
 "cells": [
  {
   "cell_type": "markdown",
   "metadata": {},
   "source": [
    "# Functions"
   ]
  },
  {
   "cell_type": "markdown",
   "metadata": {},
   "source": [
    "Functions are ways to take code and turn it into a reusable template."
   ]
  },
  {
   "cell_type": "code",
   "execution_count": null,
   "metadata": {
    "collapsed": false
   },
   "outputs": [],
   "source": [
    "radius = 2\n",
    "pi = 3.14159\n",
    "circumference = radius * 2 * pi\n",
    "print(circumference)"
   ]
  },
  {
   "cell_type": "code",
   "execution_count": null,
   "metadata": {
    "collapsed": false
   },
   "outputs": [],
   "source": [
    "def circumference(radius):\n",
    "    \"\"\"Given the radius of a circle, return the circumference.\"\"\"\n",
    "    return radius * 2 * pi\n",
    "\n",
    "print(circumference(2))\n",
    "print(circumference(3))"
   ]
  },
  {
   "cell_type": "code",
   "execution_count": null,
   "metadata": {
    "collapsed": false
   },
   "outputs": [],
   "source": [
    "def circumference(radius, pi):\n",
    "    \"\"\"Given the radius of a circle, return the circumference.\"\"\"\n",
    "    return radius * 2 * pi\n",
    "\n",
    "print(circumference(2, 4))\n",
    "print(circumference(3, 3.5))"
   ]
  },
  {
   "cell_type": "code",
   "execution_count": null,
   "metadata": {
    "collapsed": false
   },
   "outputs": [],
   "source": [
    "pi"
   ]
  },
  {
   "cell_type": "code",
   "execution_count": null,
   "metadata": {
    "collapsed": false
   },
   "outputs": [],
   "source": [
    "help(circumference)"
   ]
  },
  {
   "cell_type": "markdown",
   "metadata": {},
   "source": [
    "Functions have a name, _parameters_, a _docstring_, and a _return value_. Parameters are in parentheses after the name. You can think of them as the blank spots in the template. Their values get filled in when the function is later called. There can be more than one parameter.\n",
    "\n",
    "The return value is defined by using the `return` keyword. It is the value that the function will return when called."
   ]
  },
  {
   "cell_type": "code",
   "execution_count": null,
   "metadata": {
    "collapsed": false
   },
   "outputs": [],
   "source": [
    "def rectangle_area(width, height):\n",
    "    \"\"\"Given the width and height of a rectangle, return the area.\"\"\"\n",
    "    return width * height\n",
    "\n",
    "print(rectangle_area(5, 8))\n",
    "print(width)"
   ]
  },
  {
   "cell_type": "markdown",
   "metadata": {},
   "source": [
    "When you call a function, the values you give it are called _arguments_. You can specify them in order, like we just did, or by name."
   ]
  },
  {
   "cell_type": "code",
   "execution_count": null,
   "metadata": {
    "collapsed": false
   },
   "outputs": [],
   "source": [
    "print(rectangle_area(height=8, width=5))"
   ]
  },
  {
   "cell_type": "markdown",
   "metadata": {},
   "source": [
    "Functions can call other functions."
   ]
  },
  {
   "cell_type": "code",
   "execution_count": null,
   "metadata": {
    "collapsed": false
   },
   "outputs": [],
   "source": [
    "def square_area(length):\n",
    "    \"\"\"Returns the area of a square given the length of one side.\"\"\"\n",
    "    return rectangle_area(length, length)\n",
    "\n",
    "print(square_area(9))"
   ]
  },
  {
   "cell_type": "markdown",
   "metadata": {},
   "source": [
    "Functions can have _default arguments_."
   ]
  },
  {
   "cell_type": "code",
   "execution_count": null,
   "metadata": {
    "collapsed": false
   },
   "outputs": [],
   "source": [
    "def inc(number, amount=1):\n",
    "    \"\"\"Increments the number.\n",
    "    \n",
    "    Keyword arguments:\n",
    "    number -- the number to increment\n",
    "    amount -- the amount to increment (default 1)\n",
    "    \"\"\"\n",
    "    return number + amount\n",
    "\n",
    "print(inc(10))\n",
    "print(inc(10, amount=5))\n",
    "print(inc(10, 2))"
   ]
  },
  {
   "cell_type": "markdown",
   "metadata": {},
   "source": [
    "Functions can be made of multiple lines, of course."
   ]
  },
  {
   "cell_type": "code",
   "execution_count": null,
   "metadata": {
    "collapsed": false
   },
   "outputs": [],
   "source": [
    "def name(first, last, middle=None, last_name_first=False):\n",
    "    \"\"\"Returns the name of a person. \n",
    "    First and last name are required. The middle name is not. If the middle name\n",
    "    is one character, it is assumed to be an initial and a period will be added.\n",
    "    \n",
    "    Keyword arguments:\n",
    "    first -- the first name\n",
    "    last -- the last name\n",
    "    middle -- middle name or initial (default None)\n",
    "    last_name_first -- do you want the last name printed first? (default False)\n",
    "    \"\"\"\n",
    "    if middle is None:\n",
    "        first_part = first\n",
    "    else:\n",
    "        if len(middle) == 1:\n",
    "            middle = middle + \".\"\n",
    "\n",
    "        first_part = \"{} {}\".format(first, middle)\n",
    "\n",
    "        \n",
    "    if last_name_first:\n",
    "        return \"{}, {}\".format(last, first_part)\n",
    "    else:\n",
    "        return \"{} {}\".format(first_part, last)\n",
    "    \n",
    "print(name(first=\"Carter\", last=\"Nelson\"))\n",
    "print(name(first=\"Carter\", last=\"Nelson\", middle=\"P\"))\n",
    "print(name(first=\"Carter\", last=\"Nelson\", middle=\"Phoenix\"))\n",
    "print(name(first=\"Carter\", last=\"Nelson\", middle=\"P\", last_name_first=True))\n",
    "        "
   ]
  },
  {
   "cell_type": "markdown",
   "metadata": {},
   "source": [
    "# Recursion"
   ]
  },
  {
   "cell_type": "markdown",
   "metadata": {},
   "source": [
    "Functions can call themselves. When you do this, it's called _recursion_. Recursion is not necessarily the way to go, but you can solve many problems with it. Here's a really simple example:"
   ]
  },
  {
   "cell_type": "code",
   "execution_count": 3,
   "metadata": {
    "collapsed": false
   },
   "outputs": [],
   "source": [
    "def add(x, y):\n",
    "    \"\"\"Adds two numbers.\"\"\"\n",
    "    if y > 0:\n",
    "        return add(x + 1, y - 1)\n",
    "    elif y < 0:\n",
    "        return add(x - 1, y + 1)\n",
    "    else:\n",
    "        return x"
   ]
  },
  {
   "cell_type": "code",
   "execution_count": 4,
   "metadata": {
    "collapsed": false
   },
   "outputs": [
    {
     "data": {
      "text/plain": [
       "30"
      ]
     },
     "execution_count": 4,
     "metadata": {},
     "output_type": "execute_result"
    }
   ],
   "source": [
    "add(10, 20)"
   ]
  },
  {
   "cell_type": "code",
   "execution_count": null,
   "metadata": {
    "collapsed": false
   },
   "outputs": [],
   "source": [
    "add(10, -5)"
   ]
  },
  {
   "cell_type": "code",
   "execution_count": null,
   "metadata": {
    "collapsed": false
   },
   "outputs": [],
   "source": [
    "add(1, 0)"
   ]
  },
  {
   "cell_type": "markdown",
   "metadata": {},
   "source": [
    "## Fibonacci sequence and recursion"
   ]
  },
  {
   "cell_type": "code",
   "execution_count": 6,
   "metadata": {
    "collapsed": false
   },
   "outputs": [],
   "source": [
    "# fib(n) = fib(n - 1) + fib(n - 2)\n",
    "\n",
    "def fib(n):\n",
    "    \"\"\"Calculates the nth Fibonacci number, given that n is positive.\"\"\"\n",
    "    \n",
    "#     print(\"fib {}\".format(n))\n",
    "    if n < 1:\n",
    "        return 0\n",
    "    elif n == 1:\n",
    "        return 1\n",
    "    else:\n",
    "        return fib(n - 1) + fib(n - 2)"
   ]
  },
  {
   "cell_type": "code",
   "execution_count": 7,
   "metadata": {
    "collapsed": false
   },
   "outputs": [
    {
     "data": {
      "text/plain": [
       "8"
      ]
     },
     "execution_count": 7,
     "metadata": {},
     "output_type": "execute_result"
    }
   ],
   "source": [
    "fib(6)"
   ]
  },
  {
   "cell_type": "code",
   "execution_count": 8,
   "metadata": {
    "collapsed": false
   },
   "outputs": [
    {
     "data": {
      "text/plain": [
       "9227465"
      ]
     },
     "execution_count": 8,
     "metadata": {},
     "output_type": "execute_result"
    }
   ],
   "source": [
    "# This will take a long time. Why?\n",
    "fib(35)"
   ]
  },
  {
   "cell_type": "markdown",
   "metadata": {},
   "source": [
    "## Fibonacci and iteration"
   ]
  },
  {
   "cell_type": "code",
   "execution_count": null,
   "metadata": {
    "collapsed": false
   },
   "outputs": [],
   "source": [
    "def fib(n):\n",
    "    \"\"\"Calculates the nth Fibonacci number, given that n is positive.\"\"\"\n",
    "    \n",
    "    prev = 0\n",
    "    current = 1\n",
    "    value = 0\n",
    "    \n",
    "    counter = 1\n",
    "    \n",
    "    if n == 0:\n",
    "        return 0\n",
    "    \n",
    "    while counter < n:\n",
    "#         print(\"counter: \", counter)\n",
    "#         print(\"prev: \", prev)\n",
    "#         print(\"current: \", current)\n",
    "        value = current + prev\n",
    "#         print(\"value: \", value)\n",
    "        prev = current\n",
    "        current = value\n",
    "        counter += 1\n",
    "        \n",
    "    return value"
   ]
  },
  {
   "cell_type": "code",
   "execution_count": null,
   "metadata": {
    "collapsed": false
   },
   "outputs": [],
   "source": [
    "fib(3)"
   ]
  },
  {
   "cell_type": "code",
   "execution_count": 9,
   "metadata": {
    "collapsed": false
   },
   "outputs": [
    {
     "data": {
      "text/plain": [
       "8"
      ]
     },
     "execution_count": 9,
     "metadata": {},
     "output_type": "execute_result"
    }
   ],
   "source": [
    "fib(6)"
   ]
  },
  {
   "cell_type": "code",
   "execution_count": null,
   "metadata": {
    "collapsed": true
   },
   "outputs": [],
   "source": []
  }
 ],
 "metadata": {
  "kernelspec": {
   "display_name": "Python 3",
   "language": "python",
   "name": "python3"
  },
  "language_info": {
   "codemirror_mode": {
    "name": "ipython",
    "version": 3
   },
   "file_extension": ".py",
   "mimetype": "text/x-python",
   "name": "python",
   "nbconvert_exporter": "python",
   "pygments_lexer": "ipython3",
   "version": "3.4.3"
  }
 },
 "nbformat": 4,
 "nbformat_minor": 0
}
