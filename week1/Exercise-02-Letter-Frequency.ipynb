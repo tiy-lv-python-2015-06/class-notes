{
 "cells": [
  {
   "cell_type": "markdown",
   "metadata": {},
   "source": [
    "\n",
    "Write a function that takes a string and returns a dictionary with the count of each letter that is in the string. An example:\n",
    "\n",
    "```letter_count(\"hello world\")\n",
    "    {\"h\": 1,\n",
    "     \"e\": 1,\n",
    "     \"l\": 3,\n",
    "     \"o\": 2,\n",
    "     \"w\": 1,\n",
    "     \"r\": 1,\n",
    "     \"d\": 1}```\n",
    "     \n",
    "Note that the space is not counted. All letters should also be converted to lower case when counting them."
   ]
  },
  {
   "cell_type": "code",
   "execution_count": 10,
   "metadata": {
    "collapsed": false
   },
   "outputs": [
    {
     "name": "stdout",
     "output_type": "stream",
     "text": [
      "[('l', 3), ('o', 2), ('e', 1), ('w', 1), ('r', 1), ('d', 1), ('h', 1)]\n"
     ]
    }
   ],
   "source": [
    "my_string = \"Hello World\"\n",
    "\n",
    "freq = {}\n",
    "\n",
    "for letter in my_string.lower().replace(\" \", \"\"):\n",
    "    if letter not in freq:\n",
    "        freq[letter] = 1\n",
    "    else:\n",
    "        freq[letter] += 1\n",
    "        \n",
    "print(sorted(freq.items(), key=lambda x: x[1], reverse=True))"
   ]
  },
  {
   "cell_type": "code",
   "execution_count": null,
   "metadata": {
    "collapsed": true
   },
   "outputs": [],
   "source": []
  }
 ],
 "metadata": {
  "kernelspec": {
   "display_name": "Python 3",
   "language": "python",
   "name": "python3"
  },
  "language_info": {
   "codemirror_mode": {
    "name": "ipython",
    "version": 3
   },
   "file_extension": ".py",
   "mimetype": "text/x-python",
   "name": "python",
   "nbconvert_exporter": "python",
   "pygments_lexer": "ipython3",
   "version": "3.4.3"
  }
 },
 "nbformat": 4,
 "nbformat_minor": 0
}
